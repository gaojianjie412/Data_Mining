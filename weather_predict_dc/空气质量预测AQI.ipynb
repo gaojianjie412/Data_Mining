{
 "cells": [
  {
   "cell_type": "code",
   "execution_count": 1,
   "metadata": {},
   "outputs": [],
   "source": [
    "import numpy as np\n",
    "import pandas as pd\n",
    "import matplotlib.pyplot as plt\n",
    "import seaborn as sns\n",
    "import pandas_profiling\n",
    "import warnings\n",
    "warnings.filterwarnings('ignore')\n",
    "import missingno\n",
    "import scipy.stats as st\n",
    "import time\n",
    "from sklearn.linear_model import LinearRegression\n",
    "from sklearn.model_selection import train_test_split\n",
    "from scipy.interpolate import UnivariateSpline"
   ]
  },
  {
   "cell_type": "markdown",
   "metadata": {},
   "source": [
    "- I_SO2_1H          SO2分指数\n",
    "- C_NO2_1H\t        NO2浓度\n",
    "- I_NO2_1H\t        NO2分指数\n",
    "- C_PM10_1H\t        PM10浓度\n",
    "- C_PM10_24H_MV\t     PM10 24小时滑动平均浓度\n",
    "- I_PM10_24H_MV\t     PM10 24小时滑动平均分指数\n",
    "- C_CO1_1H\t       CO小时浓度\n",
    "- I_CO1_1H\t       CO分指数\n",
    "- C_O3_1H\t          O3小时浓度\n",
    "- I_O3_1H\tO3         分指数\n",
    "- C_O3_8H_MV\t       O3 8小时滑动平均浓度\n",
    "- I_O3_8H_MV\t       O3 8小时滑动平均分指数\n",
    "- I_O3_8H_MV\t       PM25 小时浓度\n",
    "- C_PM25_24H_MV\t    PM25 24 小时滑动平均浓度\n",
    "- I_PM25_24H_MV\t    PM25 24 小时滑动平均分指数\n",
    "- AQI_\t         AQI 指数\n",
    "- PRIMARY_POLLUTANTS_\t首要污染物\n",
    "- LEVEL_\t         污染级别\n",
    "- CATEGORY_\t      污染物种类\n",
    "- COLOR_\t         污染级别颜色标记\n",
    "- STATE_\t         状态\n",
    "- SOURCE_\t         污染源\n",
    "- UPDATE_TIME_\t   数据更新时间\n"
   ]
  },
  {
   "cell_type": "code",
   "execution_count": 2,
   "metadata": {},
   "outputs": [],
   "source": [
    "dashi=pd.read_csv(r\"F:\\10个数据挖掘项目\\空气质量预测-0527\\train\\train_大石西路.csv\")\n",
    "jinquan=pd.read_csv(r\"F:\\10个数据挖掘项目\\空气质量预测-0527\\train\\train_金泉两河.csv\")\n",
    "junping=pd.read_csv(r\"F:\\10个数据挖掘项目\\空气质量预测-0527\\train\\train_君平街.csv\")\n",
    "lingyan=pd.read_csv(r\"F:\\10个数据挖掘项目\\空气质量预测-0527\\train\\train_灵岩寺.csv\")\n",
    "longquan=pd.read_csv(r\"F:\\10个数据挖掘项目\\空气质量预测-0527\\train\\train_龙泉驿区政府.csv\")\n",
    "sanwayao=pd.read_csv(r\"F:\\10个数据挖掘项目\\空气质量预测-0527\\train\\train_三瓦窑.csv\")\n",
    "shahepu=pd.read_csv(r\"F:\\10个数据挖掘项目\\空气质量预测-0527\\train\\train_沙河铺.csv\")\n",
    "shilidian=pd.read_csv(r\"F:\\10个数据挖掘项目\\空气质量预测-0527\\train\\train_十里店.csv\")"
   ]
  },
  {
   "cell_type": "code",
   "execution_count": 3,
   "metadata": {},
   "outputs": [],
   "source": [
    "train_data = pd.concat([dashi,jinquan,junping,lingyan,longquan,sanwayao,shahepu,shilidian],axis=0)"
   ]
  },
  {
   "cell_type": "code",
   "execution_count": 4,
   "metadata": {},
   "outputs": [
    {
     "data": {
      "text/html": [
       "<div>\n",
       "<style scoped>\n",
       "    .dataframe tbody tr th:only-of-type {\n",
       "        vertical-align: middle;\n",
       "    }\n",
       "\n",
       "    .dataframe tbody tr th {\n",
       "        vertical-align: top;\n",
       "    }\n",
       "\n",
       "    .dataframe thead th {\n",
       "        text-align: right;\n",
       "    }\n",
       "</style>\n",
       "<table border=\"1\" class=\"dataframe\">\n",
       "  <thead>\n",
       "    <tr style=\"text-align: right;\">\n",
       "      <th></th>\n",
       "      <th>MN_</th>\n",
       "      <th>DATA_TIME_</th>\n",
       "      <th>C_SO2_1H</th>\n",
       "      <th>I_SO2_1H</th>\n",
       "      <th>C_NO2_1H</th>\n",
       "      <th>I_NO2_1H</th>\n",
       "      <th>C_PM10_1H</th>\n",
       "      <th>C_PM10_24H_MV</th>\n",
       "      <th>I_PM10_24H_MV</th>\n",
       "      <th>C_CO1_1H</th>\n",
       "      <th>...</th>\n",
       "      <th>C_PM25_24H_MV</th>\n",
       "      <th>I_PM25_24H_MV</th>\n",
       "      <th>AQI_</th>\n",
       "      <th>PRIMARY_POLLUTANTS_</th>\n",
       "      <th>LEVEL_</th>\n",
       "      <th>CATEGORY_</th>\n",
       "      <th>COLOR_</th>\n",
       "      <th>STATE_</th>\n",
       "      <th>SOURCE_</th>\n",
       "      <th>UPDATE_TIME_</th>\n",
       "    </tr>\n",
       "  </thead>\n",
       "  <tbody>\n",
       "    <tr>\n",
       "      <td>0</td>\n",
       "      <td>51010501002</td>\n",
       "      <td>2017/1/1 01:00:00</td>\n",
       "      <td>NaN</td>\n",
       "      <td>NaN</td>\n",
       "      <td>NaN</td>\n",
       "      <td>NaN</td>\n",
       "      <td>NaN</td>\n",
       "      <td>NaN</td>\n",
       "      <td>NaN</td>\n",
       "      <td>NaN</td>\n",
       "      <td>...</td>\n",
       "      <td>NaN</td>\n",
       "      <td>NaN</td>\n",
       "      <td>NaN</td>\n",
       "      <td>NaN</td>\n",
       "      <td>NaN</td>\n",
       "      <td>NaN</td>\n",
       "      <td>NaN</td>\n",
       "      <td>正常</td>\n",
       "      <td>NaN</td>\n",
       "      <td>2017/1/1 02:15:00</td>\n",
       "    </tr>\n",
       "    <tr>\n",
       "      <td>1</td>\n",
       "      <td>51010501002</td>\n",
       "      <td>2017/1/1 02:00:00</td>\n",
       "      <td>NaN</td>\n",
       "      <td>NaN</td>\n",
       "      <td>NaN</td>\n",
       "      <td>NaN</td>\n",
       "      <td>NaN</td>\n",
       "      <td>NaN</td>\n",
       "      <td>NaN</td>\n",
       "      <td>NaN</td>\n",
       "      <td>...</td>\n",
       "      <td>NaN</td>\n",
       "      <td>NaN</td>\n",
       "      <td>NaN</td>\n",
       "      <td>NaN</td>\n",
       "      <td>NaN</td>\n",
       "      <td>NaN</td>\n",
       "      <td>NaN</td>\n",
       "      <td>正常</td>\n",
       "      <td>NaN</td>\n",
       "      <td>2017/1/1 03:15:00</td>\n",
       "    </tr>\n",
       "    <tr>\n",
       "      <td>2</td>\n",
       "      <td>51010501002</td>\n",
       "      <td>2017/1/1 03:00:00</td>\n",
       "      <td>NaN</td>\n",
       "      <td>NaN</td>\n",
       "      <td>NaN</td>\n",
       "      <td>NaN</td>\n",
       "      <td>NaN</td>\n",
       "      <td>NaN</td>\n",
       "      <td>NaN</td>\n",
       "      <td>NaN</td>\n",
       "      <td>...</td>\n",
       "      <td>NaN</td>\n",
       "      <td>NaN</td>\n",
       "      <td>NaN</td>\n",
       "      <td>NaN</td>\n",
       "      <td>NaN</td>\n",
       "      <td>NaN</td>\n",
       "      <td>NaN</td>\n",
       "      <td>正常</td>\n",
       "      <td>NaN</td>\n",
       "      <td>2017/1/1 04:15:00</td>\n",
       "    </tr>\n",
       "    <tr>\n",
       "      <td>3</td>\n",
       "      <td>51010501002</td>\n",
       "      <td>2017/1/1 04:00:00</td>\n",
       "      <td>20.0</td>\n",
       "      <td>7.0</td>\n",
       "      <td>81.0</td>\n",
       "      <td>41.0</td>\n",
       "      <td>302.0</td>\n",
       "      <td>NaN</td>\n",
       "      <td>176.0</td>\n",
       "      <td>1.174</td>\n",
       "      <td>...</td>\n",
       "      <td>NaN</td>\n",
       "      <td>195.0</td>\n",
       "      <td>195.0</td>\n",
       "      <td>PM2.5</td>\n",
       "      <td>四级</td>\n",
       "      <td>中度污染</td>\n",
       "      <td>红色</td>\n",
       "      <td>正常</td>\n",
       "      <td>NaN</td>\n",
       "      <td>2017/1/1 05:15:00</td>\n",
       "    </tr>\n",
       "    <tr>\n",
       "      <td>4</td>\n",
       "      <td>51010501002</td>\n",
       "      <td>2017/1/1 05:00:00</td>\n",
       "      <td>31.0</td>\n",
       "      <td>11.0</td>\n",
       "      <td>78.0</td>\n",
       "      <td>39.0</td>\n",
       "      <td>289.0</td>\n",
       "      <td>NaN</td>\n",
       "      <td>170.0</td>\n",
       "      <td>1.028</td>\n",
       "      <td>...</td>\n",
       "      <td>NaN</td>\n",
       "      <td>189.0</td>\n",
       "      <td>189.0</td>\n",
       "      <td>PM2.5</td>\n",
       "      <td>四级</td>\n",
       "      <td>中度污染</td>\n",
       "      <td>红色</td>\n",
       "      <td>正常</td>\n",
       "      <td>NaN</td>\n",
       "      <td>2017/1/1 06:15:00</td>\n",
       "    </tr>\n",
       "    <tr>\n",
       "      <td>8376</td>\n",
       "      <td>51010801001</td>\n",
       "      <td>2017/12/24 19:00:00</td>\n",
       "      <td>11.0</td>\n",
       "      <td>4.0</td>\n",
       "      <td>92.0</td>\n",
       "      <td>46.0</td>\n",
       "      <td>228.0</td>\n",
       "      <td>NaN</td>\n",
       "      <td>139.0</td>\n",
       "      <td>1.621</td>\n",
       "      <td>...</td>\n",
       "      <td>NaN</td>\n",
       "      <td>232.0</td>\n",
       "      <td>232.0</td>\n",
       "      <td>PM2.5</td>\n",
       "      <td>五级</td>\n",
       "      <td>重度污染</td>\n",
       "      <td>紫色</td>\n",
       "      <td>正常</td>\n",
       "      <td>NaN</td>\n",
       "      <td>2017/12/24 19:40:00</td>\n",
       "    </tr>\n",
       "    <tr>\n",
       "      <td>8377</td>\n",
       "      <td>51010801001</td>\n",
       "      <td>2017/12/24 20:00:00</td>\n",
       "      <td>11.0</td>\n",
       "      <td>4.0</td>\n",
       "      <td>100.0</td>\n",
       "      <td>50.0</td>\n",
       "      <td>220.0</td>\n",
       "      <td>NaN</td>\n",
       "      <td>135.0</td>\n",
       "      <td>1.625</td>\n",
       "      <td>...</td>\n",
       "      <td>NaN</td>\n",
       "      <td>226.0</td>\n",
       "      <td>226.0</td>\n",
       "      <td>PM2.5</td>\n",
       "      <td>五级</td>\n",
       "      <td>重度污染</td>\n",
       "      <td>紫色</td>\n",
       "      <td>正常</td>\n",
       "      <td>NaN</td>\n",
       "      <td>2017/12/24 20:20:00</td>\n",
       "    </tr>\n",
       "    <tr>\n",
       "      <td>8378</td>\n",
       "      <td>51010801001</td>\n",
       "      <td>2017/12/24 21:00:00</td>\n",
       "      <td>11.0</td>\n",
       "      <td>4.0</td>\n",
       "      <td>107.0</td>\n",
       "      <td>54.0</td>\n",
       "      <td>216.0</td>\n",
       "      <td>NaN</td>\n",
       "      <td>133.0</td>\n",
       "      <td>1.540</td>\n",
       "      <td>...</td>\n",
       "      <td>NaN</td>\n",
       "      <td>221.0</td>\n",
       "      <td>221.0</td>\n",
       "      <td>PM2.5</td>\n",
       "      <td>五级</td>\n",
       "      <td>重度污染</td>\n",
       "      <td>紫色</td>\n",
       "      <td>正常</td>\n",
       "      <td>NaN</td>\n",
       "      <td>2017/12/24 21:20:00</td>\n",
       "    </tr>\n",
       "    <tr>\n",
       "      <td>8379</td>\n",
       "      <td>51010801001</td>\n",
       "      <td>2017/12/24 22:00:00</td>\n",
       "      <td>11.0</td>\n",
       "      <td>4.0</td>\n",
       "      <td>100.0</td>\n",
       "      <td>50.0</td>\n",
       "      <td>212.0</td>\n",
       "      <td>NaN</td>\n",
       "      <td>131.0</td>\n",
       "      <td>1.509</td>\n",
       "      <td>...</td>\n",
       "      <td>NaN</td>\n",
       "      <td>218.0</td>\n",
       "      <td>218.0</td>\n",
       "      <td>PM2.5</td>\n",
       "      <td>五级</td>\n",
       "      <td>重度污染</td>\n",
       "      <td>紫色</td>\n",
       "      <td>正常</td>\n",
       "      <td>NaN</td>\n",
       "      <td>2017/12/24 23:00:00</td>\n",
       "    </tr>\n",
       "    <tr>\n",
       "      <td>8380</td>\n",
       "      <td>51010801001</td>\n",
       "      <td>2017/12/24 23:00:00</td>\n",
       "      <td>11.0</td>\n",
       "      <td>4.0</td>\n",
       "      <td>145.0</td>\n",
       "      <td>73.0</td>\n",
       "      <td>230.0</td>\n",
       "      <td>NaN</td>\n",
       "      <td>140.0</td>\n",
       "      <td>1.957</td>\n",
       "      <td>...</td>\n",
       "      <td>NaN</td>\n",
       "      <td>228.0</td>\n",
       "      <td>228.0</td>\n",
       "      <td>PM2.5</td>\n",
       "      <td>五级</td>\n",
       "      <td>重度污染</td>\n",
       "      <td>紫色</td>\n",
       "      <td>正常</td>\n",
       "      <td>NaN</td>\n",
       "      <td>2017/12/24 23:20:00</td>\n",
       "    </tr>\n",
       "  </tbody>\n",
       "</table>\n",
       "<p>10 rows × 26 columns</p>\n",
       "</div>"
      ],
      "text/plain": [
       "              MN_           DATA_TIME_  C_SO2_1H  I_SO2_1H  C_NO2_1H  \\\n",
       "0     51010501002    2017/1/1 01:00:00       NaN       NaN       NaN   \n",
       "1     51010501002    2017/1/1 02:00:00       NaN       NaN       NaN   \n",
       "2     51010501002    2017/1/1 03:00:00       NaN       NaN       NaN   \n",
       "3     51010501002    2017/1/1 04:00:00      20.0       7.0      81.0   \n",
       "4     51010501002    2017/1/1 05:00:00      31.0      11.0      78.0   \n",
       "8376  51010801001  2017/12/24 19:00:00      11.0       4.0      92.0   \n",
       "8377  51010801001  2017/12/24 20:00:00      11.0       4.0     100.0   \n",
       "8378  51010801001  2017/12/24 21:00:00      11.0       4.0     107.0   \n",
       "8379  51010801001  2017/12/24 22:00:00      11.0       4.0     100.0   \n",
       "8380  51010801001  2017/12/24 23:00:00      11.0       4.0     145.0   \n",
       "\n",
       "      I_NO2_1H  C_PM10_1H  C_PM10_24H_MV  I_PM10_24H_MV  C_CO1_1H  ...  \\\n",
       "0          NaN        NaN            NaN            NaN       NaN  ...   \n",
       "1          NaN        NaN            NaN            NaN       NaN  ...   \n",
       "2          NaN        NaN            NaN            NaN       NaN  ...   \n",
       "3         41.0      302.0            NaN          176.0     1.174  ...   \n",
       "4         39.0      289.0            NaN          170.0     1.028  ...   \n",
       "8376      46.0      228.0            NaN          139.0     1.621  ...   \n",
       "8377      50.0      220.0            NaN          135.0     1.625  ...   \n",
       "8378      54.0      216.0            NaN          133.0     1.540  ...   \n",
       "8379      50.0      212.0            NaN          131.0     1.509  ...   \n",
       "8380      73.0      230.0            NaN          140.0     1.957  ...   \n",
       "\n",
       "      C_PM25_24H_MV  I_PM25_24H_MV   AQI_  PRIMARY_POLLUTANTS_  LEVEL_  \\\n",
       "0               NaN            NaN    NaN                  NaN     NaN   \n",
       "1               NaN            NaN    NaN                  NaN     NaN   \n",
       "2               NaN            NaN    NaN                  NaN     NaN   \n",
       "3               NaN          195.0  195.0                PM2.5      四级   \n",
       "4               NaN          189.0  189.0                PM2.5      四级   \n",
       "8376            NaN          232.0  232.0                PM2.5      五级   \n",
       "8377            NaN          226.0  226.0                PM2.5      五级   \n",
       "8378            NaN          221.0  221.0                PM2.5      五级   \n",
       "8379            NaN          218.0  218.0                PM2.5      五级   \n",
       "8380            NaN          228.0  228.0                PM2.5      五级   \n",
       "\n",
       "      CATEGORY_  COLOR_  STATE_  SOURCE_         UPDATE_TIME_  \n",
       "0           NaN     NaN      正常      NaN    2017/1/1 02:15:00  \n",
       "1           NaN     NaN      正常      NaN    2017/1/1 03:15:00  \n",
       "2           NaN     NaN      正常      NaN    2017/1/1 04:15:00  \n",
       "3          中度污染      红色      正常      NaN    2017/1/1 05:15:00  \n",
       "4          中度污染      红色      正常      NaN    2017/1/1 06:15:00  \n",
       "8376       重度污染      紫色      正常      NaN  2017/12/24 19:40:00  \n",
       "8377       重度污染      紫色      正常      NaN  2017/12/24 20:20:00  \n",
       "8378       重度污染      紫色      正常      NaN  2017/12/24 21:20:00  \n",
       "8379       重度污染      紫色      正常      NaN  2017/12/24 23:00:00  \n",
       "8380       重度污染      紫色      正常      NaN  2017/12/24 23:20:00  \n",
       "\n",
       "[10 rows x 26 columns]"
      ]
     },
     "execution_count": 4,
     "metadata": {},
     "output_type": "execute_result"
    }
   ],
   "source": [
    "train_data.head().append(train_data.tail())"
   ]
  },
  {
   "cell_type": "code",
   "execution_count": 5,
   "metadata": {},
   "outputs": [
    {
     "data": {
      "text/plain": [
       "(59974, 26)"
      ]
     },
     "execution_count": 5,
     "metadata": {},
     "output_type": "execute_result"
    }
   ],
   "source": [
    "train_data.shape"
   ]
  },
  {
   "cell_type": "code",
   "execution_count": 6,
   "metadata": {},
   "outputs": [
    {
     "name": "stdout",
     "output_type": "stream",
     "text": [
      "<class 'pandas.core.frame.DataFrame'>\n",
      "Int64Index: 59974 entries, 0 to 8380\n",
      "Data columns (total 26 columns):\n",
      "MN_                    59974 non-null int64\n",
      "DATA_TIME_             59974 non-null object\n",
      "C_SO2_1H               54053 non-null float64\n",
      "I_SO2_1H               54011 non-null float64\n",
      "C_NO2_1H               56883 non-null float64\n",
      "I_NO2_1H               56841 non-null float64\n",
      "C_PM10_1H              56068 non-null float64\n",
      "C_PM10_24H_MV          0 non-null float64\n",
      "I_PM10_24H_MV          56026 non-null float64\n",
      "C_CO1_1H               56926 non-null float64\n",
      "I_CO1_1H               56884 non-null float64\n",
      "C_O3_1H                52302 non-null float64\n",
      "I_O3_1H                52260 non-null float64\n",
      "C_O3_8H_MV             0 non-null float64\n",
      "I_O3_8H_MV             0 non-null float64\n",
      "C_PM25_1H              56641 non-null float64\n",
      "C_PM25_24H_MV          0 non-null float64\n",
      "I_PM25_24H_MV          56599 non-null float64\n",
      "AQI_                   57215 non-null float64\n",
      "PRIMARY_POLLUTANTS_    57215 non-null object\n",
      "LEVEL_                 57215 non-null object\n",
      "CATEGORY_              57215 non-null object\n",
      "COLOR_                 57215 non-null object\n",
      "STATE_                 59974 non-null object\n",
      "SOURCE_                0 non-null float64\n",
      "UPDATE_TIME_           59974 non-null object\n",
      "dtypes: float64(18), int64(1), object(7)\n",
      "memory usage: 12.4+ MB\n"
     ]
    }
   ],
   "source": [
    "train_data.info()"
   ]
  },
  {
   "cell_type": "code",
   "execution_count": 7,
   "metadata": {},
   "outputs": [
    {
     "data": {
      "text/html": [
       "<div>\n",
       "<style scoped>\n",
       "    .dataframe tbody tr th:only-of-type {\n",
       "        vertical-align: middle;\n",
       "    }\n",
       "\n",
       "    .dataframe tbody tr th {\n",
       "        vertical-align: top;\n",
       "    }\n",
       "\n",
       "    .dataframe thead th {\n",
       "        text-align: right;\n",
       "    }\n",
       "</style>\n",
       "<table border=\"1\" class=\"dataframe\">\n",
       "  <thead>\n",
       "    <tr style=\"text-align: right;\">\n",
       "      <th></th>\n",
       "      <th>count</th>\n",
       "      <th>mean</th>\n",
       "      <th>std</th>\n",
       "      <th>min</th>\n",
       "      <th>1%</th>\n",
       "      <th>10%</th>\n",
       "      <th>25%</th>\n",
       "      <th>50%</th>\n",
       "      <th>75%</th>\n",
       "      <th>90%</th>\n",
       "      <th>99%</th>\n",
       "      <th>max</th>\n",
       "    </tr>\n",
       "  </thead>\n",
       "  <tbody>\n",
       "    <tr>\n",
       "      <td>MN_</td>\n",
       "      <td>59974.0</td>\n",
       "      <td>5.101056e+10</td>\n",
       "      <td>259928.049471</td>\n",
       "      <td>5.101010e+10</td>\n",
       "      <td>5.101010e+10</td>\n",
       "      <td>5.101010e+10</td>\n",
       "      <td>5.101040e+10</td>\n",
       "      <td>5.101050e+10</td>\n",
       "      <td>5.101080e+10</td>\n",
       "      <td>5.101090e+10</td>\n",
       "      <td>5.101120e+10</td>\n",
       "      <td>5.101120e+10</td>\n",
       "    </tr>\n",
       "    <tr>\n",
       "      <td>C_SO2_1H</td>\n",
       "      <td>54053.0</td>\n",
       "      <td>1.124543e+01</td>\n",
       "      <td>7.319583</td>\n",
       "      <td>1.000000e+00</td>\n",
       "      <td>2.000000e+00</td>\n",
       "      <td>5.000000e+00</td>\n",
       "      <td>7.000000e+00</td>\n",
       "      <td>1.000000e+01</td>\n",
       "      <td>1.300000e+01</td>\n",
       "      <td>1.800000e+01</td>\n",
       "      <td>3.500000e+01</td>\n",
       "      <td>3.620000e+02</td>\n",
       "    </tr>\n",
       "    <tr>\n",
       "      <td>I_SO2_1H</td>\n",
       "      <td>54011.0</td>\n",
       "      <td>4.083390e+00</td>\n",
       "      <td>2.358416</td>\n",
       "      <td>1.000000e+00</td>\n",
       "      <td>1.000000e+00</td>\n",
       "      <td>2.000000e+00</td>\n",
       "      <td>3.000000e+00</td>\n",
       "      <td>4.000000e+00</td>\n",
       "      <td>5.000000e+00</td>\n",
       "      <td>7.000000e+00</td>\n",
       "      <td>1.200000e+01</td>\n",
       "      <td>8.100000e+01</td>\n",
       "    </tr>\n",
       "    <tr>\n",
       "      <td>C_NO2_1H</td>\n",
       "      <td>56883.0</td>\n",
       "      <td>4.827706e+01</td>\n",
       "      <td>28.255826</td>\n",
       "      <td>1.000000e+00</td>\n",
       "      <td>6.000000e+00</td>\n",
       "      <td>1.600000e+01</td>\n",
       "      <td>2.600000e+01</td>\n",
       "      <td>4.400000e+01</td>\n",
       "      <td>6.500000e+01</td>\n",
       "      <td>8.600000e+01</td>\n",
       "      <td>1.320000e+02</td>\n",
       "      <td>2.440000e+02</td>\n",
       "    </tr>\n",
       "    <tr>\n",
       "      <td>I_NO2_1H</td>\n",
       "      <td>56841.0</td>\n",
       "      <td>2.438191e+01</td>\n",
       "      <td>14.123059</td>\n",
       "      <td>1.000000e+00</td>\n",
       "      <td>3.000000e+00</td>\n",
       "      <td>8.000000e+00</td>\n",
       "      <td>1.300000e+01</td>\n",
       "      <td>2.200000e+01</td>\n",
       "      <td>3.300000e+01</td>\n",
       "      <td>4.300000e+01</td>\n",
       "      <td>6.600000e+01</td>\n",
       "      <td>1.050000e+02</td>\n",
       "    </tr>\n",
       "    <tr>\n",
       "      <td>C_PM10_1H</td>\n",
       "      <td>56068.0</td>\n",
       "      <td>8.308581e+01</td>\n",
       "      <td>70.672152</td>\n",
       "      <td>1.000000e+00</td>\n",
       "      <td>8.000000e+00</td>\n",
       "      <td>2.200000e+01</td>\n",
       "      <td>3.700000e+01</td>\n",
       "      <td>6.300000e+01</td>\n",
       "      <td>1.070000e+02</td>\n",
       "      <td>1.680000e+02</td>\n",
       "      <td>3.560000e+02</td>\n",
       "      <td>8.080000e+02</td>\n",
       "    </tr>\n",
       "    <tr>\n",
       "      <td>C_PM10_24H_MV</td>\n",
       "      <td>0.0</td>\n",
       "      <td>NaN</td>\n",
       "      <td>NaN</td>\n",
       "      <td>NaN</td>\n",
       "      <td>NaN</td>\n",
       "      <td>NaN</td>\n",
       "      <td>NaN</td>\n",
       "      <td>NaN</td>\n",
       "      <td>NaN</td>\n",
       "      <td>NaN</td>\n",
       "      <td>NaN</td>\n",
       "      <td>NaN</td>\n",
       "    </tr>\n",
       "    <tr>\n",
       "      <td>I_PM10_24H_MV</td>\n",
       "      <td>56026.0</td>\n",
       "      <td>6.369903e+01</td>\n",
       "      <td>43.421962</td>\n",
       "      <td>1.000000e+00</td>\n",
       "      <td>8.000000e+00</td>\n",
       "      <td>2.200000e+01</td>\n",
       "      <td>3.700000e+01</td>\n",
       "      <td>5.700000e+01</td>\n",
       "      <td>7.900000e+01</td>\n",
       "      <td>1.090000e+02</td>\n",
       "      <td>2.090000e+02</td>\n",
       "      <td>5.000000e+02</td>\n",
       "    </tr>\n",
       "    <tr>\n",
       "      <td>C_CO1_1H</td>\n",
       "      <td>56926.0</td>\n",
       "      <td>8.583510e-01</td>\n",
       "      <td>0.469247</td>\n",
       "      <td>-2.100000e-01</td>\n",
       "      <td>9.900000e-02</td>\n",
       "      <td>3.950000e-01</td>\n",
       "      <td>5.780000e-01</td>\n",
       "      <td>7.850000e-01</td>\n",
       "      <td>1.035000e+00</td>\n",
       "      <td>1.394000e+00</td>\n",
       "      <td>2.503000e+00</td>\n",
       "      <td>2.417900e+01</td>\n",
       "    </tr>\n",
       "    <tr>\n",
       "      <td>I_CO1_1H</td>\n",
       "      <td>56884.0</td>\n",
       "      <td>9.076278e+00</td>\n",
       "      <td>4.607160</td>\n",
       "      <td>0.000000e+00</td>\n",
       "      <td>1.000000e+00</td>\n",
       "      <td>4.000000e+00</td>\n",
       "      <td>6.000000e+00</td>\n",
       "      <td>8.000000e+00</td>\n",
       "      <td>1.100000e+01</td>\n",
       "      <td>1.400000e+01</td>\n",
       "      <td>2.600000e+01</td>\n",
       "      <td>1.290000e+02</td>\n",
       "    </tr>\n",
       "    <tr>\n",
       "      <td>C_O3_1H</td>\n",
       "      <td>52302.0</td>\n",
       "      <td>5.041983e+01</td>\n",
       "      <td>49.920241</td>\n",
       "      <td>1.000000e+00</td>\n",
       "      <td>1.000000e+00</td>\n",
       "      <td>5.000000e+00</td>\n",
       "      <td>1.000000e+01</td>\n",
       "      <td>3.600000e+01</td>\n",
       "      <td>7.400000e+01</td>\n",
       "      <td>1.210000e+02</td>\n",
       "      <td>2.150000e+02</td>\n",
       "      <td>3.770000e+02</td>\n",
       "    </tr>\n",
       "    <tr>\n",
       "      <td>I_O3_1H</td>\n",
       "      <td>52260.0</td>\n",
       "      <td>1.734636e+01</td>\n",
       "      <td>19.973193</td>\n",
       "      <td>1.000000e+00</td>\n",
       "      <td>1.000000e+00</td>\n",
       "      <td>2.000000e+00</td>\n",
       "      <td>4.000000e+00</td>\n",
       "      <td>1.200000e+01</td>\n",
       "      <td>2.400000e+01</td>\n",
       "      <td>3.800000e+01</td>\n",
       "      <td>1.080000e+02</td>\n",
       "      <td>1.890000e+02</td>\n",
       "    </tr>\n",
       "    <tr>\n",
       "      <td>C_O3_8H_MV</td>\n",
       "      <td>0.0</td>\n",
       "      <td>NaN</td>\n",
       "      <td>NaN</td>\n",
       "      <td>NaN</td>\n",
       "      <td>NaN</td>\n",
       "      <td>NaN</td>\n",
       "      <td>NaN</td>\n",
       "      <td>NaN</td>\n",
       "      <td>NaN</td>\n",
       "      <td>NaN</td>\n",
       "      <td>NaN</td>\n",
       "      <td>NaN</td>\n",
       "    </tr>\n",
       "    <tr>\n",
       "      <td>I_O3_8H_MV</td>\n",
       "      <td>0.0</td>\n",
       "      <td>NaN</td>\n",
       "      <td>NaN</td>\n",
       "      <td>NaN</td>\n",
       "      <td>NaN</td>\n",
       "      <td>NaN</td>\n",
       "      <td>NaN</td>\n",
       "      <td>NaN</td>\n",
       "      <td>NaN</td>\n",
       "      <td>NaN</td>\n",
       "      <td>NaN</td>\n",
       "      <td>NaN</td>\n",
       "    </tr>\n",
       "    <tr>\n",
       "      <td>C_PM25_1H</td>\n",
       "      <td>56641.0</td>\n",
       "      <td>5.206631e+01</td>\n",
       "      <td>47.664758</td>\n",
       "      <td>1.000000e+00</td>\n",
       "      <td>3.000000e+00</td>\n",
       "      <td>1.100000e+01</td>\n",
       "      <td>2.000000e+01</td>\n",
       "      <td>3.700000e+01</td>\n",
       "      <td>6.800000e+01</td>\n",
       "      <td>1.120000e+02</td>\n",
       "      <td>2.330000e+02</td>\n",
       "      <td>4.420000e+02</td>\n",
       "    </tr>\n",
       "    <tr>\n",
       "      <td>C_PM25_24H_MV</td>\n",
       "      <td>0.0</td>\n",
       "      <td>NaN</td>\n",
       "      <td>NaN</td>\n",
       "      <td>NaN</td>\n",
       "      <td>NaN</td>\n",
       "      <td>NaN</td>\n",
       "      <td>NaN</td>\n",
       "      <td>NaN</td>\n",
       "      <td>NaN</td>\n",
       "      <td>NaN</td>\n",
       "      <td>NaN</td>\n",
       "      <td>NaN</td>\n",
       "    </tr>\n",
       "    <tr>\n",
       "      <td>I_PM25_24H_MV</td>\n",
       "      <td>56599.0</td>\n",
       "      <td>7.018417e+01</td>\n",
       "      <td>59.169518</td>\n",
       "      <td>2.000000e+00</td>\n",
       "      <td>5.000000e+00</td>\n",
       "      <td>1.600000e+01</td>\n",
       "      <td>2.900000e+01</td>\n",
       "      <td>5.300000e+01</td>\n",
       "      <td>9.200000e+01</td>\n",
       "      <td>1.470000e+02</td>\n",
       "      <td>2.830000e+02</td>\n",
       "      <td>4.620000e+02</td>\n",
       "    </tr>\n",
       "    <tr>\n",
       "      <td>AQI_</td>\n",
       "      <td>57215.0</td>\n",
       "      <td>7.761797e+01</td>\n",
       "      <td>57.310880</td>\n",
       "      <td>3.000000e+00</td>\n",
       "      <td>1.300000e+01</td>\n",
       "      <td>2.700000e+01</td>\n",
       "      <td>4.100000e+01</td>\n",
       "      <td>6.100000e+01</td>\n",
       "      <td>9.700000e+01</td>\n",
       "      <td>1.470000e+02</td>\n",
       "      <td>2.908600e+02</td>\n",
       "      <td>5.000000e+02</td>\n",
       "    </tr>\n",
       "    <tr>\n",
       "      <td>SOURCE_</td>\n",
       "      <td>0.0</td>\n",
       "      <td>NaN</td>\n",
       "      <td>NaN</td>\n",
       "      <td>NaN</td>\n",
       "      <td>NaN</td>\n",
       "      <td>NaN</td>\n",
       "      <td>NaN</td>\n",
       "      <td>NaN</td>\n",
       "      <td>NaN</td>\n",
       "      <td>NaN</td>\n",
       "      <td>NaN</td>\n",
       "      <td>NaN</td>\n",
       "    </tr>\n",
       "  </tbody>\n",
       "</table>\n",
       "</div>"
      ],
      "text/plain": [
       "                 count          mean            std           min  \\\n",
       "MN_            59974.0  5.101056e+10  259928.049471  5.101010e+10   \n",
       "C_SO2_1H       54053.0  1.124543e+01       7.319583  1.000000e+00   \n",
       "I_SO2_1H       54011.0  4.083390e+00       2.358416  1.000000e+00   \n",
       "C_NO2_1H       56883.0  4.827706e+01      28.255826  1.000000e+00   \n",
       "I_NO2_1H       56841.0  2.438191e+01      14.123059  1.000000e+00   \n",
       "C_PM10_1H      56068.0  8.308581e+01      70.672152  1.000000e+00   \n",
       "C_PM10_24H_MV      0.0           NaN            NaN           NaN   \n",
       "I_PM10_24H_MV  56026.0  6.369903e+01      43.421962  1.000000e+00   \n",
       "C_CO1_1H       56926.0  8.583510e-01       0.469247 -2.100000e-01   \n",
       "I_CO1_1H       56884.0  9.076278e+00       4.607160  0.000000e+00   \n",
       "C_O3_1H        52302.0  5.041983e+01      49.920241  1.000000e+00   \n",
       "I_O3_1H        52260.0  1.734636e+01      19.973193  1.000000e+00   \n",
       "C_O3_8H_MV         0.0           NaN            NaN           NaN   \n",
       "I_O3_8H_MV         0.0           NaN            NaN           NaN   \n",
       "C_PM25_1H      56641.0  5.206631e+01      47.664758  1.000000e+00   \n",
       "C_PM25_24H_MV      0.0           NaN            NaN           NaN   \n",
       "I_PM25_24H_MV  56599.0  7.018417e+01      59.169518  2.000000e+00   \n",
       "AQI_           57215.0  7.761797e+01      57.310880  3.000000e+00   \n",
       "SOURCE_            0.0           NaN            NaN           NaN   \n",
       "\n",
       "                         1%           10%           25%           50%  \\\n",
       "MN_            5.101010e+10  5.101010e+10  5.101040e+10  5.101050e+10   \n",
       "C_SO2_1H       2.000000e+00  5.000000e+00  7.000000e+00  1.000000e+01   \n",
       "I_SO2_1H       1.000000e+00  2.000000e+00  3.000000e+00  4.000000e+00   \n",
       "C_NO2_1H       6.000000e+00  1.600000e+01  2.600000e+01  4.400000e+01   \n",
       "I_NO2_1H       3.000000e+00  8.000000e+00  1.300000e+01  2.200000e+01   \n",
       "C_PM10_1H      8.000000e+00  2.200000e+01  3.700000e+01  6.300000e+01   \n",
       "C_PM10_24H_MV           NaN           NaN           NaN           NaN   \n",
       "I_PM10_24H_MV  8.000000e+00  2.200000e+01  3.700000e+01  5.700000e+01   \n",
       "C_CO1_1H       9.900000e-02  3.950000e-01  5.780000e-01  7.850000e-01   \n",
       "I_CO1_1H       1.000000e+00  4.000000e+00  6.000000e+00  8.000000e+00   \n",
       "C_O3_1H        1.000000e+00  5.000000e+00  1.000000e+01  3.600000e+01   \n",
       "I_O3_1H        1.000000e+00  2.000000e+00  4.000000e+00  1.200000e+01   \n",
       "C_O3_8H_MV              NaN           NaN           NaN           NaN   \n",
       "I_O3_8H_MV              NaN           NaN           NaN           NaN   \n",
       "C_PM25_1H      3.000000e+00  1.100000e+01  2.000000e+01  3.700000e+01   \n",
       "C_PM25_24H_MV           NaN           NaN           NaN           NaN   \n",
       "I_PM25_24H_MV  5.000000e+00  1.600000e+01  2.900000e+01  5.300000e+01   \n",
       "AQI_           1.300000e+01  2.700000e+01  4.100000e+01  6.100000e+01   \n",
       "SOURCE_                 NaN           NaN           NaN           NaN   \n",
       "\n",
       "                        75%           90%           99%           max  \n",
       "MN_            5.101080e+10  5.101090e+10  5.101120e+10  5.101120e+10  \n",
       "C_SO2_1H       1.300000e+01  1.800000e+01  3.500000e+01  3.620000e+02  \n",
       "I_SO2_1H       5.000000e+00  7.000000e+00  1.200000e+01  8.100000e+01  \n",
       "C_NO2_1H       6.500000e+01  8.600000e+01  1.320000e+02  2.440000e+02  \n",
       "I_NO2_1H       3.300000e+01  4.300000e+01  6.600000e+01  1.050000e+02  \n",
       "C_PM10_1H      1.070000e+02  1.680000e+02  3.560000e+02  8.080000e+02  \n",
       "C_PM10_24H_MV           NaN           NaN           NaN           NaN  \n",
       "I_PM10_24H_MV  7.900000e+01  1.090000e+02  2.090000e+02  5.000000e+02  \n",
       "C_CO1_1H       1.035000e+00  1.394000e+00  2.503000e+00  2.417900e+01  \n",
       "I_CO1_1H       1.100000e+01  1.400000e+01  2.600000e+01  1.290000e+02  \n",
       "C_O3_1H        7.400000e+01  1.210000e+02  2.150000e+02  3.770000e+02  \n",
       "I_O3_1H        2.400000e+01  3.800000e+01  1.080000e+02  1.890000e+02  \n",
       "C_O3_8H_MV              NaN           NaN           NaN           NaN  \n",
       "I_O3_8H_MV              NaN           NaN           NaN           NaN  \n",
       "C_PM25_1H      6.800000e+01  1.120000e+02  2.330000e+02  4.420000e+02  \n",
       "C_PM25_24H_MV           NaN           NaN           NaN           NaN  \n",
       "I_PM25_24H_MV  9.200000e+01  1.470000e+02  2.830000e+02  4.620000e+02  \n",
       "AQI_           9.700000e+01  1.470000e+02  2.908600e+02  5.000000e+02  \n",
       "SOURCE_                 NaN           NaN           NaN           NaN  "
      ]
     },
     "execution_count": 7,
     "metadata": {},
     "output_type": "execute_result"
    }
   ],
   "source": [
    "train_data.describe([0.01,0.1,0.25,0.5,0.75,0.9,0.99]).T"
   ]
  },
  {
   "cell_type": "code",
   "execution_count": 8,
   "metadata": {},
   "outputs": [
    {
     "data": {
      "text/plain": [
       "I_O3_8H_MV             1.000000\n",
       "C_PM25_24H_MV          1.000000\n",
       "C_PM10_24H_MV          1.000000\n",
       "SOURCE_                1.000000\n",
       "C_O3_8H_MV             1.000000\n",
       "I_O3_1H                0.128622\n",
       "C_O3_1H                0.127922\n",
       "I_SO2_1H               0.099426\n",
       "C_SO2_1H               0.098726\n",
       "I_PM10_24H_MV          0.065829\n",
       "C_PM10_1H              0.065128\n",
       "I_PM25_24H_MV          0.056274\n",
       "C_PM25_1H              0.055574\n",
       "I_NO2_1H               0.052239\n",
       "C_NO2_1H               0.051539\n",
       "I_CO1_1H               0.051522\n",
       "C_CO1_1H               0.050822\n",
       "LEVEL_                 0.046003\n",
       "CATEGORY_              0.046003\n",
       "COLOR_                 0.046003\n",
       "AQI_                   0.046003\n",
       "PRIMARY_POLLUTANTS_    0.046003\n",
       "DATA_TIME_             0.000000\n",
       "UPDATE_TIME_           0.000000\n",
       "STATE_                 0.000000\n",
       "MN_                    0.000000\n",
       "dtype: float64"
      ]
     },
     "execution_count": 8,
     "metadata": {},
     "output_type": "execute_result"
    }
   ],
   "source": [
    "train_data.isnull().mean().sort_values(ascending=False)"
   ]
  },
  {
   "cell_type": "code",
   "execution_count": 9,
   "metadata": {},
   "outputs": [],
   "source": [
    "#查看缺失值函数\n",
    "# Function to calculate missing values by column\n",
    "def missing_values_table(df):\n",
    "        # Total missing values\n",
    "        mis_val = df.isnull().sum()\n",
    "        \n",
    "        # Percentage of missing values\n",
    "        mis_val_percent = 100 * df.isnull().sum() / len(df)\n",
    "        \n",
    "        # Make a table with the results\n",
    "        mis_val_table = pd.concat([mis_val, mis_val_percent], axis=1)\n",
    "        \n",
    "        # Rename the columns\n",
    "        mis_val_table_ren_columns = mis_val_table.rename(\n",
    "        columns = {0 : 'Missing Values', 1 : '% of Total Values'})\n",
    "        \n",
    "        # Sort the table by percentage of missing descending\n",
    "        mis_val_table_ren_columns = mis_val_table_ren_columns[\n",
    "            mis_val_table_ren_columns.iloc[:,1] != 0].sort_values(\n",
    "        '% of Total Values', ascending=False).round(1)\n",
    "        \n",
    "        # Print some summary information\n",
    "        print (\"Your selected dataframe has \" + str(df.shape[1]) + \" columns.\\n\"      \n",
    "            \"There are \" + str(mis_val_table_ren_columns.shape[0]) +\n",
    "              \" columns that have missing values.\")\n",
    "        \n",
    "        # Return the dataframe with missing information\n",
    "        return mis_val_table_ren_columns"
   ]
  },
  {
   "cell_type": "code",
   "execution_count": 10,
   "metadata": {},
   "outputs": [
    {
     "name": "stdout",
     "output_type": "stream",
     "text": [
      "Your selected dataframe has 26 columns.\n",
      "There are 22 columns that have missing values.\n"
     ]
    },
    {
     "data": {
      "text/html": [
       "<div>\n",
       "<style scoped>\n",
       "    .dataframe tbody tr th:only-of-type {\n",
       "        vertical-align: middle;\n",
       "    }\n",
       "\n",
       "    .dataframe tbody tr th {\n",
       "        vertical-align: top;\n",
       "    }\n",
       "\n",
       "    .dataframe thead th {\n",
       "        text-align: right;\n",
       "    }\n",
       "</style>\n",
       "<table border=\"1\" class=\"dataframe\">\n",
       "  <thead>\n",
       "    <tr style=\"text-align: right;\">\n",
       "      <th></th>\n",
       "      <th>Missing Values</th>\n",
       "      <th>% of Total Values</th>\n",
       "    </tr>\n",
       "  </thead>\n",
       "  <tbody>\n",
       "    <tr>\n",
       "      <td>C_O3_8H_MV</td>\n",
       "      <td>59974</td>\n",
       "      <td>100.0</td>\n",
       "    </tr>\n",
       "    <tr>\n",
       "      <td>C_PM10_24H_MV</td>\n",
       "      <td>59974</td>\n",
       "      <td>100.0</td>\n",
       "    </tr>\n",
       "    <tr>\n",
       "      <td>C_PM25_24H_MV</td>\n",
       "      <td>59974</td>\n",
       "      <td>100.0</td>\n",
       "    </tr>\n",
       "    <tr>\n",
       "      <td>I_O3_8H_MV</td>\n",
       "      <td>59974</td>\n",
       "      <td>100.0</td>\n",
       "    </tr>\n",
       "    <tr>\n",
       "      <td>SOURCE_</td>\n",
       "      <td>59974</td>\n",
       "      <td>100.0</td>\n",
       "    </tr>\n",
       "    <tr>\n",
       "      <td>I_O3_1H</td>\n",
       "      <td>7714</td>\n",
       "      <td>12.9</td>\n",
       "    </tr>\n",
       "    <tr>\n",
       "      <td>C_O3_1H</td>\n",
       "      <td>7672</td>\n",
       "      <td>12.8</td>\n",
       "    </tr>\n",
       "    <tr>\n",
       "      <td>I_SO2_1H</td>\n",
       "      <td>5963</td>\n",
       "      <td>9.9</td>\n",
       "    </tr>\n",
       "    <tr>\n",
       "      <td>C_SO2_1H</td>\n",
       "      <td>5921</td>\n",
       "      <td>9.9</td>\n",
       "    </tr>\n",
       "    <tr>\n",
       "      <td>I_PM10_24H_MV</td>\n",
       "      <td>3948</td>\n",
       "      <td>6.6</td>\n",
       "    </tr>\n",
       "    <tr>\n",
       "      <td>C_PM10_1H</td>\n",
       "      <td>3906</td>\n",
       "      <td>6.5</td>\n",
       "    </tr>\n",
       "    <tr>\n",
       "      <td>I_PM25_24H_MV</td>\n",
       "      <td>3375</td>\n",
       "      <td>5.6</td>\n",
       "    </tr>\n",
       "    <tr>\n",
       "      <td>C_PM25_1H</td>\n",
       "      <td>3333</td>\n",
       "      <td>5.6</td>\n",
       "    </tr>\n",
       "    <tr>\n",
       "      <td>I_NO2_1H</td>\n",
       "      <td>3133</td>\n",
       "      <td>5.2</td>\n",
       "    </tr>\n",
       "    <tr>\n",
       "      <td>C_NO2_1H</td>\n",
       "      <td>3091</td>\n",
       "      <td>5.2</td>\n",
       "    </tr>\n",
       "    <tr>\n",
       "      <td>I_CO1_1H</td>\n",
       "      <td>3090</td>\n",
       "      <td>5.2</td>\n",
       "    </tr>\n",
       "    <tr>\n",
       "      <td>C_CO1_1H</td>\n",
       "      <td>3048</td>\n",
       "      <td>5.1</td>\n",
       "    </tr>\n",
       "    <tr>\n",
       "      <td>AQI_</td>\n",
       "      <td>2759</td>\n",
       "      <td>4.6</td>\n",
       "    </tr>\n",
       "    <tr>\n",
       "      <td>PRIMARY_POLLUTANTS_</td>\n",
       "      <td>2759</td>\n",
       "      <td>4.6</td>\n",
       "    </tr>\n",
       "    <tr>\n",
       "      <td>LEVEL_</td>\n",
       "      <td>2759</td>\n",
       "      <td>4.6</td>\n",
       "    </tr>\n",
       "    <tr>\n",
       "      <td>CATEGORY_</td>\n",
       "      <td>2759</td>\n",
       "      <td>4.6</td>\n",
       "    </tr>\n",
       "    <tr>\n",
       "      <td>COLOR_</td>\n",
       "      <td>2759</td>\n",
       "      <td>4.6</td>\n",
       "    </tr>\n",
       "  </tbody>\n",
       "</table>\n",
       "</div>"
      ],
      "text/plain": [
       "                     Missing Values  % of Total Values\n",
       "C_O3_8H_MV                    59974              100.0\n",
       "C_PM10_24H_MV                 59974              100.0\n",
       "C_PM25_24H_MV                 59974              100.0\n",
       "I_O3_8H_MV                    59974              100.0\n",
       "SOURCE_                       59974              100.0\n",
       "I_O3_1H                        7714               12.9\n",
       "C_O3_1H                        7672               12.8\n",
       "I_SO2_1H                       5963                9.9\n",
       "C_SO2_1H                       5921                9.9\n",
       "I_PM10_24H_MV                  3948                6.6\n",
       "C_PM10_1H                      3906                6.5\n",
       "I_PM25_24H_MV                  3375                5.6\n",
       "C_PM25_1H                      3333                5.6\n",
       "I_NO2_1H                       3133                5.2\n",
       "C_NO2_1H                       3091                5.2\n",
       "I_CO1_1H                       3090                5.2\n",
       "C_CO1_1H                       3048                5.1\n",
       "AQI_                           2759                4.6\n",
       "PRIMARY_POLLUTANTS_            2759                4.6\n",
       "LEVEL_                         2759                4.6\n",
       "CATEGORY_                      2759                4.6\n",
       "COLOR_                         2759                4.6"
      ]
     },
     "execution_count": 10,
     "metadata": {},
     "output_type": "execute_result"
    }
   ],
   "source": [
    "missing_values_table(train_data)"
   ]
  },
  {
   "cell_type": "code",
   "execution_count": 11,
   "metadata": {},
   "outputs": [
    {
     "data": {
      "text/plain": [
       "<matplotlib.axes._subplots.AxesSubplot at 0x127c7965438>"
      ]
     },
     "execution_count": 11,
     "metadata": {},
     "output_type": "execute_result"
    },
    {
     "data": {
      "image/png": "[encoded data removed]",
      "text/plain": [
       "<Figure size 432x288 with 1 Axes>"
      ]
     },
     "metadata": {
      "needs_background": "light"
     },
     "output_type": "display_data"
    }
   ],
   "source": [
    "#对缺失值进行可视化\n",
    "missing=train_data.isnull().sum()\n",
    "missing=missing[missing>0]\n",
    "missing.sort_values(inplace=True)\n",
    "missing.plot.bar()"
   ]
  },
  {
   "cell_type": "code",
   "execution_count": 12,
   "metadata": {},
   "outputs": [
    {
     "data": {
      "text/plain": [
       "<matplotlib.axes._subplots.AxesSubplot at 0x127c7ac6588>"
      ]
     },
     "execution_count": 12,
     "metadata": {},
     "output_type": "execute_result"
    },
    {
     "data": {
      "image/png": "[encoded data removed]",
      "text/plain": [
       "<Figure size 1800x720 with 2 Axes>"
      ]
     },
     "metadata": {
      "needs_background": "light"
     },
     "output_type": "display_data"
    }
   ],
   "source": [
    "missingno.matrix(train_data)"
   ]
  },
  {
   "cell_type": "code",
   "execution_count": 13,
   "metadata": {},
   "outputs": [
    {
     "data": {
      "text/plain": [
       "<matplotlib.axes._subplots.AxesSubplot at 0x127c82a6630>"
      ]
     },
     "execution_count": 13,
     "metadata": {},
     "output_type": "execute_result"
    },
    {
     "data": {
      "image/png": "[encoded data removed]",
      "text/plain": [
       "<Figure size 1728x720 with 3 Axes>"
      ]
     },
     "metadata": {
      "needs_background": "light"
     },
     "output_type": "display_data"
    }
   ],
   "source": [
    "missingno.bar(train_data)"
   ]
  },
  {
   "cell_type": "markdown",
   "metadata": {},
   "source": [
    "从上面缺失值来看，C_O3_8H_MV，C_PM10_24H_MV，C_PM25_24H_MV，I_O3_8H_MV，SOURCE_完全缺失，可以直接删除。其余缺失值均小于13%，可以尝试用算法填充或者后面我们用的XGB,LGB不需要对缺失值进行填充"
   ]
  },
  {
   "cell_type": "code",
   "execution_count": 14,
   "metadata": {},
   "outputs": [],
   "source": [
    "#删除掉完全缺失的特征\n",
    "del train_data['C_O3_8H_MV']\n",
    "del train_data['C_PM10_24H_MV']\n",
    "del train_data['C_PM25_24H_MV']\n",
    "del train_data['I_O3_8H_MV']\n",
    "del train_data['SOURCE_']"
   ]
  },
  {
   "cell_type": "code",
   "execution_count": 15,
   "metadata": {},
   "outputs": [
    {
     "data": {
      "text/plain": [
       "Index(['MN_', 'DATA_TIME_', 'C_SO2_1H', 'I_SO2_1H', 'C_NO2_1H', 'I_NO2_1H',\n",
       "       'C_PM10_1H', 'I_PM10_24H_MV', 'C_CO1_1H', 'I_CO1_1H', 'C_O3_1H',\n",
       "       'I_O3_1H', 'C_PM25_1H', 'I_PM25_24H_MV', 'AQI_', 'PRIMARY_POLLUTANTS_',\n",
       "       'LEVEL_', 'CATEGORY_', 'COLOR_', 'STATE_', 'UPDATE_TIME_'],\n",
       "      dtype='object')"
      ]
     },
     "execution_count": 15,
     "metadata": {},
     "output_type": "execute_result"
    }
   ],
   "source": [
    "train_data.columns"
   ]
  },
  {
   "cell_type": "code",
   "execution_count": 16,
   "metadata": {},
   "outputs": [
    {
     "name": "stdout",
     "output_type": "stream",
     "text": [
      "51010801001    8381\n",
      "51010901001    8380\n",
      "51010501001    8380\n",
      "51010501002    8380\n",
      "51010101001    8380\n",
      "51010401001    8379\n",
      "51010601002    8377\n",
      "51011201004    1317\n",
      "Name: MN_, dtype: int64\n",
      "2017/11/12 14:00:00    8\n",
      "2017/11/29 04:00:00    8\n",
      "2017/12/4 07:00:00     8\n",
      "2017/11/16 10:00:00    8\n",
      "2017/11/7 05:00:00     8\n",
      "                      ..\n",
      "2017/12/11 14:00:00    6\n",
      "2017/12/13 00:00:00    6\n",
      "2017/12/11 02:00:00    6\n",
      "2017/12/24 00:00:00    6\n",
      "2017/12/18 05:00:00    5\n",
      "Name: DATA_TIME_, Length: 8383, dtype: int64\n",
      "8.0      5625\n",
      "10.0     5461\n",
      "9.0      5251\n",
      "11.0     4606\n",
      "7.0      4320\n",
      "         ... \n",
      "362.0       1\n",
      "98.0        1\n",
      "180.0       1\n",
      "229.0       1\n",
      "63.0        1\n",
      "Name: C_SO2_1H, Length: 92, dtype: int64\n",
      "3.0     15178\n",
      "4.0     13612\n",
      "2.0      7166\n",
      "5.0      6659\n",
      "6.0      3640\n",
      "1.0      2351\n",
      "7.0      2011\n",
      "8.0      1205\n",
      "9.0       723\n",
      "10.0      479\n",
      "11.0      298\n",
      "12.0      228\n",
      "13.0      149\n",
      "14.0      111\n",
      "15.0       62\n",
      "16.0       39\n",
      "17.0       27\n",
      "18.0       22\n",
      "19.0        8\n",
      "21.0        6\n",
      "20.0        6\n",
      "57.0        4\n",
      "27.0        3\n",
      "22.0        3\n",
      "55.0        2\n",
      "24.0        2\n",
      "53.0        2\n",
      "60.0        2\n",
      "54.0        2\n",
      "81.0        1\n",
      "39.0        1\n",
      "29.0        1\n",
      "61.0        1\n",
      "56.0        1\n",
      "33.0        1\n",
      "58.0        1\n",
      "62.0        1\n",
      "59.0        1\n",
      "26.0        1\n",
      "51.0        1\n",
      "Name: I_SO2_1H, dtype: int64\n",
      "24.0     933\n",
      "38.0     922\n",
      "26.0     913\n",
      "27.0     873\n",
      "22.0     864\n",
      "        ... \n",
      "239.0      1\n",
      "184.0      1\n",
      "186.0      1\n",
      "185.0      1\n",
      "180.0      1\n",
      "Name: C_NO2_1H, Length: 204, dtype: int64\n",
      "12.0     1773\n",
      "19.0     1730\n",
      "14.0     1724\n",
      "13.0     1699\n",
      "15.0     1686\n",
      "         ... \n",
      "98.0        1\n",
      "104.0       1\n",
      "105.0       1\n",
      "90.0        1\n",
      "95.0        1\n",
      "Name: I_NO2_1H, Length: 104, dtype: int64\n",
      "38.0     652\n",
      "36.0     647\n",
      "32.0     636\n",
      "39.0     631\n",
      "34.0     629\n",
      "        ... \n",
      "460.0      1\n",
      "663.0      1\n",
      "462.0      1\n",
      "514.0      1\n",
      "520.0      1\n",
      "Name: C_PM10_1H, Length: 574, dtype: int64\n",
      "51.0     1079\n",
      "52.0     1048\n",
      "53.0      981\n",
      "54.0      929\n",
      "57.0      904\n",
      "         ... \n",
      "357.0       1\n",
      "367.0       1\n",
      "421.0       1\n",
      "437.0       1\n",
      "395.0       1\n",
      "Name: I_PM10_24H_MV, Length: 398, dtype: int64\n",
      "0.770    97\n",
      "0.716    96\n",
      "0.616    90\n",
      "0.700    90\n",
      "0.676    89\n",
      "         ..\n",
      "2.254     1\n",
      "2.850     1\n",
      "2.644     1\n",
      "2.977     1\n",
      "2.924     1\n",
      "Name: C_CO1_1H, Length: 2857, dtype: int64\n",
      "8.0      6981\n",
      "7.0      6829\n",
      "9.0      6484\n",
      "6.0      5881\n",
      "10.0     5230\n",
      "5.0      3959\n",
      "11.0     3775\n",
      "12.0     2777\n",
      "4.0      2425\n",
      "13.0     2009\n",
      "3.0      1586\n",
      "14.0     1489\n",
      "2.0      1274\n",
      "15.0     1161\n",
      "16.0      893\n",
      "17.0      672\n",
      "1.0       583\n",
      "18.0      553\n",
      "19.0      415\n",
      "20.0      345\n",
      "21.0      271\n",
      "22.0      225\n",
      "23.0      208\n",
      "24.0      173\n",
      "26.0      115\n",
      "25.0      114\n",
      "27.0       90\n",
      "28.0       78\n",
      "29.0       68\n",
      "30.0       50\n",
      "31.0       32\n",
      "32.0       25\n",
      "33.0       22\n",
      "36.0       16\n",
      "34.0       15\n",
      "35.0       14\n",
      "37.0        8\n",
      "38.0        7\n",
      "40.0        5\n",
      "39.0        5\n",
      "43.0        4\n",
      "42.0        4\n",
      "44.0        3\n",
      "46.0        2\n",
      "45.0        2\n",
      "41.0        2\n",
      "0.0         1\n",
      "112.0       1\n",
      "49.0        1\n",
      "60.0        1\n",
      "129.0       1\n",
      "Name: I_CO1_1H, dtype: int64\n",
      "2.0      2329\n",
      "6.0      2123\n",
      "5.0      1701\n",
      "7.0      1483\n",
      "8.0      1324\n",
      "         ... \n",
      "307.0       1\n",
      "272.0       1\n",
      "302.0       1\n",
      "358.0       1\n",
      "296.0       1\n",
      "Name: C_O3_1H, Length: 314, dtype: int64\n",
      "2.0      4982\n",
      "1.0      3964\n",
      "3.0      3864\n",
      "4.0      2232\n",
      "5.0      2205\n",
      "         ... \n",
      "161.0       1\n",
      "147.0       1\n",
      "151.0       1\n",
      "179.0       1\n",
      "150.0       1\n",
      "Name: I_O3_1H, Length: 156, dtype: int64\n",
      "17.0     995\n",
      "23.0     981\n",
      "22.0     978\n",
      "16.0     970\n",
      "15.0     963\n",
      "        ... \n",
      "365.0      1\n",
      "339.0      1\n",
      "340.0      1\n",
      "437.0      1\n",
      "314.0      1\n",
      "Name: C_PM25_1H, Length: 372, dtype: int64\n",
      "25.0     995\n",
      "33.0     981\n",
      "32.0     978\n",
      "23.0     969\n",
      "22.0     962\n",
      "        ... \n",
      "388.0      1\n",
      "426.0      1\n",
      "460.0      1\n",
      "431.0      1\n",
      "433.0      1\n",
      "Name: I_PM25_24H_MV, Length: 368, dtype: int64\n",
      "52.0     954\n",
      "53.0     865\n",
      "55.0     823\n",
      "57.0     822\n",
      "54.0     787\n",
      "        ... \n",
      "343.0      1\n",
      "331.0      1\n",
      "438.0      1\n",
      "366.0      1\n",
      "442.0      1\n",
      "Name: AQI_, Length: 447, dtype: int64\n",
      "PM2.5             23330\n",
      "-                 20710\n",
      "PM10              10335\n",
      "O3-1小时             1987\n",
      "PM10,PM2.5          566\n",
      "NO2                 252\n",
      "NO2,PM10             18\n",
      "O3-1小时,PM2.5          7\n",
      "PM10,O3-1小时           4\n",
      "CO                    3\n",
      "SO2                   1\n",
      "NO2,PM2.5             1\n",
      "NO2,PM10,PM2.5        1\n",
      "Name: PRIMARY_POLLUTANTS_, dtype: int64\n",
      "二级    23423\n",
      "一级    20710\n",
      "三级     7794\n",
      "四级     2642\n",
      "五级     2153\n",
      "六级      493\n",
      "Name: LEVEL_, dtype: int64\n",
      "良       23423\n",
      "优       20710\n",
      "轻度污染     7794\n",
      "中度污染     2642\n",
      "重度污染     2153\n",
      "严重污染      493\n",
      "Name: CATEGORY_, dtype: int64\n",
      "黄色     23423\n",
      "绿色     20710\n",
      "橙色      7794\n",
      "红色      2642\n",
      "紫色      2153\n",
      "褐红色      493\n",
      "Name: COLOR_, dtype: int64\n",
      "正常    59974\n",
      "Name: STATE_, dtype: int64\n",
      "2017/12/14 00:20:00    8\n",
      "2017/11/2 15:00:00     8\n",
      "2017/10/30 14:00:01    8\n",
      "2017/11/23 01:45:03    8\n",
      "2017/11/23 03:40:00    8\n",
      "                      ..\n",
      "2017/12/12 18:20:00    1\n",
      "2017/12/21 00:40:00    1\n",
      "2017/12/13 11:20:00    1\n",
      "2017/12/12 13:20:00    1\n",
      "2017/12/19 22:40:00    1\n",
      "Name: UPDATE_TIME_, Length: 8483, dtype: int64\n"
     ]
    }
   ],
   "source": [
    "for i in train_data.columns:\n",
    "    print(train_data[i].value_counts())"
   ]
  },
  {
   "cell_type": "code",
   "execution_count": 17,
   "metadata": {},
   "outputs": [
    {
     "data": {
      "text/plain": [
       "2017/11/12 14:00:00    8\n",
       "2017/11/29 04:00:00    8\n",
       "2017/12/4 07:00:00     8\n",
       "2017/11/16 10:00:00    8\n",
       "2017/11/7 05:00:00     8\n",
       "                      ..\n",
       "2017/12/11 14:00:00    6\n",
       "2017/12/13 00:00:00    6\n",
       "2017/12/11 02:00:00    6\n",
       "2017/12/24 00:00:00    6\n",
       "2017/12/18 05:00:00    5\n",
       "Name: DATA_TIME_, Length: 8383, dtype: int64"
      ]
     },
     "execution_count": 17,
     "metadata": {},
     "output_type": "execute_result"
    }
   ],
   "source": [
    "train_data.DATA_TIME_.value_counts()"
   ]
  },
  {
   "cell_type": "code",
   "execution_count": 18,
   "metadata": {},
   "outputs": [
    {
     "data": {
      "text/plain": [
       "8.0      5625\n",
       "10.0     5461\n",
       "9.0      5251\n",
       "11.0     4606\n",
       "7.0      4320\n",
       "         ... \n",
       "362.0       1\n",
       "98.0        1\n",
       "180.0       1\n",
       "229.0       1\n",
       "63.0        1\n",
       "Name: C_SO2_1H, Length: 92, dtype: int64"
      ]
     },
     "execution_count": 18,
     "metadata": {},
     "output_type": "execute_result"
    }
   ],
   "source": [
    "train_data.C_SO2_1H.value_counts()"
   ]
  },
  {
   "cell_type": "code",
   "execution_count": 19,
   "metadata": {},
   "outputs": [
    {
     "data": {
      "text/plain": [
       "3.0     15178\n",
       "4.0     13612\n",
       "2.0      7166\n",
       "5.0      6659\n",
       "6.0      3640\n",
       "1.0      2351\n",
       "7.0      2011\n",
       "8.0      1205\n",
       "9.0       723\n",
       "10.0      479\n",
       "11.0      298\n",
       "12.0      228\n",
       "13.0      149\n",
       "14.0      111\n",
       "15.0       62\n",
       "16.0       39\n",
       "17.0       27\n",
       "18.0       22\n",
       "19.0        8\n",
       "21.0        6\n",
       "20.0        6\n",
       "57.0        4\n",
       "27.0        3\n",
       "22.0        3\n",
       "55.0        2\n",
       "24.0        2\n",
       "53.0        2\n",
       "60.0        2\n",
       "54.0        2\n",
       "81.0        1\n",
       "39.0        1\n",
       "29.0        1\n",
       "61.0        1\n",
       "56.0        1\n",
       "33.0        1\n",
       "58.0        1\n",
       "62.0        1\n",
       "59.0        1\n",
       "26.0        1\n",
       "51.0        1\n",
       "Name: I_SO2_1H, dtype: int64"
      ]
     },
     "execution_count": 19,
     "metadata": {},
     "output_type": "execute_result"
    }
   ],
   "source": [
    "train_data.I_SO2_1H.value_counts()"
   ]
  },
  {
   "cell_type": "code",
   "execution_count": 20,
   "metadata": {},
   "outputs": [
    {
     "data": {
      "text/plain": [
       "24.0     933\n",
       "38.0     922\n",
       "26.0     913\n",
       "27.0     873\n",
       "22.0     864\n",
       "        ... \n",
       "239.0      1\n",
       "184.0      1\n",
       "186.0      1\n",
       "185.0      1\n",
       "180.0      1\n",
       "Name: C_NO2_1H, Length: 204, dtype: int64"
      ]
     },
     "execution_count": 20,
     "metadata": {},
     "output_type": "execute_result"
    }
   ],
   "source": [
    "train_data.C_NO2_1H.value_counts()"
   ]
  },
  {
   "cell_type": "code",
   "execution_count": 21,
   "metadata": {},
   "outputs": [
    {
     "data": {
      "text/plain": [
       "12.0     1773\n",
       "19.0     1730\n",
       "14.0     1724\n",
       "13.0     1699\n",
       "15.0     1686\n",
       "         ... \n",
       "98.0        1\n",
       "104.0       1\n",
       "105.0       1\n",
       "90.0        1\n",
       "95.0        1\n",
       "Name: I_NO2_1H, Length: 104, dtype: int64"
      ]
     },
     "execution_count": 21,
     "metadata": {},
     "output_type": "execute_result"
    }
   ],
   "source": [
    "train_data.I_NO2_1H.value_counts()"
   ]
  },
  {
   "cell_type": "code",
   "execution_count": 22,
   "metadata": {},
   "outputs": [
    {
     "data": {
      "text/plain": [
       "38.0     652\n",
       "36.0     647\n",
       "32.0     636\n",
       "39.0     631\n",
       "34.0     629\n",
       "        ... \n",
       "460.0      1\n",
       "663.0      1\n",
       "462.0      1\n",
       "514.0      1\n",
       "520.0      1\n",
       "Name: C_PM10_1H, Length: 574, dtype: int64"
      ]
     },
     "execution_count": 22,
     "metadata": {},
     "output_type": "execute_result"
    }
   ],
   "source": [
    "train_data.C_PM10_1H.value_counts()"
   ]
  },
  {
   "cell_type": "code",
   "execution_count": 23,
   "metadata": {},
   "outputs": [
    {
     "data": {
      "text/plain": [
       "51.0     1079\n",
       "52.0     1048\n",
       "53.0      981\n",
       "54.0      929\n",
       "57.0      904\n",
       "         ... \n",
       "357.0       1\n",
       "367.0       1\n",
       "421.0       1\n",
       "437.0       1\n",
       "395.0       1\n",
       "Name: I_PM10_24H_MV, Length: 398, dtype: int64"
      ]
     },
     "execution_count": 23,
     "metadata": {},
     "output_type": "execute_result"
    }
   ],
   "source": [
    "train_data.I_PM10_24H_MV.value_counts()"
   ]
  },
  {
   "cell_type": "code",
   "execution_count": 24,
   "metadata": {},
   "outputs": [
    {
     "data": {
      "text/plain": [
       "0.770    97\n",
       "0.716    96\n",
       "0.616    90\n",
       "0.700    90\n",
       "0.676    89\n",
       "         ..\n",
       "2.254     1\n",
       "2.850     1\n",
       "2.644     1\n",
       "2.977     1\n",
       "2.924     1\n",
       "Name: C_CO1_1H, Length: 2857, dtype: int64"
      ]
     },
     "execution_count": 24,
     "metadata": {},
     "output_type": "execute_result"
    }
   ],
   "source": [
    "train_data.C_CO1_1H.value_counts()"
   ]
  },
  {
   "cell_type": "code",
   "execution_count": 25,
   "metadata": {},
   "outputs": [
    {
     "data": {
      "text/plain": [
       "8.0      6981\n",
       "7.0      6829\n",
       "9.0      6484\n",
       "6.0      5881\n",
       "10.0     5230\n",
       "5.0      3959\n",
       "11.0     3775\n",
       "12.0     2777\n",
       "4.0      2425\n",
       "13.0     2009\n",
       "3.0      1586\n",
       "14.0     1489\n",
       "2.0      1274\n",
       "15.0     1161\n",
       "16.0      893\n",
       "17.0      672\n",
       "1.0       583\n",
       "18.0      553\n",
       "19.0      415\n",
       "20.0      345\n",
       "21.0      271\n",
       "22.0      225\n",
       "23.0      208\n",
       "24.0      173\n",
       "26.0      115\n",
       "25.0      114\n",
       "27.0       90\n",
       "28.0       78\n",
       "29.0       68\n",
       "30.0       50\n",
       "31.0       32\n",
       "32.0       25\n",
       "33.0       22\n",
       "36.0       16\n",
       "34.0       15\n",
       "35.0       14\n",
       "37.0        8\n",
       "38.0        7\n",
       "40.0        5\n",
       "39.0        5\n",
       "43.0        4\n",
       "42.0        4\n",
       "44.0        3\n",
       "46.0        2\n",
       "45.0        2\n",
       "41.0        2\n",
       "0.0         1\n",
       "112.0       1\n",
       "49.0        1\n",
       "60.0        1\n",
       "129.0       1\n",
       "Name: I_CO1_1H, dtype: int64"
      ]
     },
     "execution_count": 25,
     "metadata": {},
     "output_type": "execute_result"
    }
   ],
   "source": [
    "train_data.I_CO1_1H.value_counts()"
   ]
  },
  {
   "cell_type": "code",
   "execution_count": 26,
   "metadata": {},
   "outputs": [
    {
     "data": {
      "text/plain": [
       "2.0      2329\n",
       "6.0      2123\n",
       "5.0      1701\n",
       "7.0      1483\n",
       "8.0      1324\n",
       "         ... \n",
       "307.0       1\n",
       "272.0       1\n",
       "302.0       1\n",
       "358.0       1\n",
       "296.0       1\n",
       "Name: C_O3_1H, Length: 314, dtype: int64"
      ]
     },
     "execution_count": 26,
     "metadata": {},
     "output_type": "execute_result"
    }
   ],
   "source": [
    "train_data.C_O3_1H.value_counts()"
   ]
  },
  {
   "cell_type": "code",
   "execution_count": 27,
   "metadata": {},
   "outputs": [
    {
     "data": {
      "text/plain": [
       "2.0      4982\n",
       "1.0      3964\n",
       "3.0      3864\n",
       "4.0      2232\n",
       "5.0      2205\n",
       "         ... \n",
       "161.0       1\n",
       "147.0       1\n",
       "151.0       1\n",
       "179.0       1\n",
       "150.0       1\n",
       "Name: I_O3_1H, Length: 156, dtype: int64"
      ]
     },
     "execution_count": 27,
     "metadata": {},
     "output_type": "execute_result"
    }
   ],
   "source": [
    "train_data.I_O3_1H.value_counts()"
   ]
  },
  {
   "cell_type": "code",
   "execution_count": 28,
   "metadata": {},
   "outputs": [
    {
     "data": {
      "text/plain": [
       "17.0     995\n",
       "23.0     981\n",
       "22.0     978\n",
       "16.0     970\n",
       "15.0     963\n",
       "        ... \n",
       "365.0      1\n",
       "339.0      1\n",
       "340.0      1\n",
       "437.0      1\n",
       "314.0      1\n",
       "Name: C_PM25_1H, Length: 372, dtype: int64"
      ]
     },
     "execution_count": 28,
     "metadata": {},
     "output_type": "execute_result"
    }
   ],
   "source": [
    "train_data.C_PM25_1H.value_counts()"
   ]
  },
  {
   "cell_type": "code",
   "execution_count": 29,
   "metadata": {},
   "outputs": [
    {
     "data": {
      "text/plain": [
       "25.0     995\n",
       "33.0     981\n",
       "32.0     978\n",
       "23.0     969\n",
       "22.0     962\n",
       "        ... \n",
       "388.0      1\n",
       "426.0      1\n",
       "460.0      1\n",
       "431.0      1\n",
       "433.0      1\n",
       "Name: I_PM25_24H_MV, Length: 368, dtype: int64"
      ]
     },
     "execution_count": 29,
     "metadata": {},
     "output_type": "execute_result"
    }
   ],
   "source": [
    "train_data.I_PM25_24H_MV.value_counts()"
   ]
  },
  {
   "cell_type": "code",
   "execution_count": 30,
   "metadata": {},
   "outputs": [
    {
     "data": {
      "text/plain": [
       "PM2.5             23330\n",
       "-                 20710\n",
       "PM10              10335\n",
       "O3-1小时             1987\n",
       "PM10,PM2.5          566\n",
       "NO2                 252\n",
       "NO2,PM10             18\n",
       "O3-1小时,PM2.5          7\n",
       "PM10,O3-1小时           4\n",
       "CO                    3\n",
       "SO2                   1\n",
       "NO2,PM2.5             1\n",
       "NO2,PM10,PM2.5        1\n",
       "Name: PRIMARY_POLLUTANTS_, dtype: int64"
      ]
     },
     "execution_count": 30,
     "metadata": {},
     "output_type": "execute_result"
    }
   ],
   "source": [
    "#需要对数据进行区分，提取新特征\n",
    "train_data.PRIMARY_POLLUTANTS_.value_counts()"
   ]
  },
  {
   "cell_type": "code",
   "execution_count": 31,
   "metadata": {},
   "outputs": [
    {
     "data": {
      "text/plain": [
       "二级    23423\n",
       "一级    20710\n",
       "三级     7794\n",
       "四级     2642\n",
       "五级     2153\n",
       "六级      493\n",
       "Name: LEVEL_, dtype: int64"
      ]
     },
     "execution_count": 31,
     "metadata": {},
     "output_type": "execute_result"
    }
   ],
   "source": [
    "train_data.LEVEL_.value_counts()"
   ]
  },
  {
   "cell_type": "code",
   "execution_count": 32,
   "metadata": {},
   "outputs": [
    {
     "data": {
      "text/plain": [
       "良       23423\n",
       "优       20710\n",
       "轻度污染     7794\n",
       "中度污染     2642\n",
       "重度污染     2153\n",
       "严重污染      493\n",
       "Name: CATEGORY_, dtype: int64"
      ]
     },
     "execution_count": 32,
     "metadata": {},
     "output_type": "execute_result"
    }
   ],
   "source": [
    "train_data.CATEGORY_.value_counts()"
   ]
  },
  {
   "cell_type": "code",
   "execution_count": 33,
   "metadata": {},
   "outputs": [
    {
     "data": {
      "text/plain": [
       "黄色     23423\n",
       "绿色     20710\n",
       "橙色      7794\n",
       "红色      2642\n",
       "紫色      2153\n",
       "褐红色      493\n",
       "Name: COLOR_, dtype: int64"
      ]
     },
     "execution_count": 33,
     "metadata": {},
     "output_type": "execute_result"
    }
   ],
   "source": [
    "train_data.COLOR_.value_counts()"
   ]
  },
  {
   "cell_type": "code",
   "execution_count": 34,
   "metadata": {},
   "outputs": [
    {
     "data": {
      "text/plain": [
       "正常    59974\n",
       "Name: STATE_, dtype: int64"
      ]
     },
     "execution_count": 34,
     "metadata": {},
     "output_type": "execute_result"
    }
   ],
   "source": [
    "train_data.STATE_.value_counts()"
   ]
  },
  {
   "cell_type": "code",
   "execution_count": 35,
   "metadata": {},
   "outputs": [
    {
     "data": {
      "text/plain": [
       "2017/12/14 00:20:00    8\n",
       "2017/11/2 15:00:00     8\n",
       "2017/10/30 14:00:01    8\n",
       "2017/11/23 01:45:03    8\n",
       "2017/11/23 03:40:00    8\n",
       "                      ..\n",
       "2017/12/12 18:20:00    1\n",
       "2017/12/21 00:40:00    1\n",
       "2017/12/13 11:20:00    1\n",
       "2017/12/12 13:20:00    1\n",
       "2017/12/19 22:40:00    1\n",
       "Name: UPDATE_TIME_, Length: 8483, dtype: int64"
      ]
     },
     "execution_count": 35,
     "metadata": {},
     "output_type": "execute_result"
    }
   ],
   "source": [
    "train_data.UPDATE_TIME_.value_counts()"
   ]
  },
  {
   "cell_type": "code",
   "execution_count": 36,
   "metadata": {},
   "outputs": [],
   "source": [
    "#由于STATE_全部属于正常，严重偏态分布了，故删除\n",
    "del train_data['STATE_']"
   ]
  },
  {
   "cell_type": "code",
   "execution_count": 37,
   "metadata": {},
   "outputs": [
    {
     "data": {
      "text/html": [
       "<div>\n",
       "<style scoped>\n",
       "    .dataframe tbody tr th:only-of-type {\n",
       "        vertical-align: middle;\n",
       "    }\n",
       "\n",
       "    .dataframe tbody tr th {\n",
       "        vertical-align: top;\n",
       "    }\n",
       "\n",
       "    .dataframe thead th {\n",
       "        text-align: right;\n",
       "    }\n",
       "</style>\n",
       "<table border=\"1\" class=\"dataframe\">\n",
       "  <thead>\n",
       "    <tr style=\"text-align: right;\">\n",
       "      <th></th>\n",
       "      <th>MN_</th>\n",
       "      <th>DATA_TIME_</th>\n",
       "      <th>C_SO2_1H</th>\n",
       "      <th>I_SO2_1H</th>\n",
       "      <th>C_NO2_1H</th>\n",
       "      <th>I_NO2_1H</th>\n",
       "      <th>C_PM10_1H</th>\n",
       "      <th>I_PM10_24H_MV</th>\n",
       "      <th>C_CO1_1H</th>\n",
       "      <th>I_CO1_1H</th>\n",
       "      <th>C_O3_1H</th>\n",
       "      <th>I_O3_1H</th>\n",
       "      <th>C_PM25_1H</th>\n",
       "      <th>I_PM25_24H_MV</th>\n",
       "      <th>AQI_</th>\n",
       "      <th>PRIMARY_POLLUTANTS_</th>\n",
       "      <th>LEVEL_</th>\n",
       "      <th>CATEGORY_</th>\n",
       "      <th>COLOR_</th>\n",
       "      <th>UPDATE_TIME_</th>\n",
       "    </tr>\n",
       "  </thead>\n",
       "  <tbody>\n",
       "    <tr>\n",
       "      <td>0</td>\n",
       "      <td>51010501002</td>\n",
       "      <td>2017/1/1 01:00:00</td>\n",
       "      <td>NaN</td>\n",
       "      <td>NaN</td>\n",
       "      <td>NaN</td>\n",
       "      <td>NaN</td>\n",
       "      <td>NaN</td>\n",
       "      <td>NaN</td>\n",
       "      <td>NaN</td>\n",
       "      <td>NaN</td>\n",
       "      <td>NaN</td>\n",
       "      <td>NaN</td>\n",
       "      <td>NaN</td>\n",
       "      <td>NaN</td>\n",
       "      <td>NaN</td>\n",
       "      <td>NaN</td>\n",
       "      <td>NaN</td>\n",
       "      <td>NaN</td>\n",
       "      <td>NaN</td>\n",
       "      <td>2017/1/1 02:15:00</td>\n",
       "    </tr>\n",
       "    <tr>\n",
       "      <td>1</td>\n",
       "      <td>51010501002</td>\n",
       "      <td>2017/1/1 02:00:00</td>\n",
       "      <td>NaN</td>\n",
       "      <td>NaN</td>\n",
       "      <td>NaN</td>\n",
       "      <td>NaN</td>\n",
       "      <td>NaN</td>\n",
       "      <td>NaN</td>\n",
       "      <td>NaN</td>\n",
       "      <td>NaN</td>\n",
       "      <td>NaN</td>\n",
       "      <td>NaN</td>\n",
       "      <td>NaN</td>\n",
       "      <td>NaN</td>\n",
       "      <td>NaN</td>\n",
       "      <td>NaN</td>\n",
       "      <td>NaN</td>\n",
       "      <td>NaN</td>\n",
       "      <td>NaN</td>\n",
       "      <td>2017/1/1 03:15:00</td>\n",
       "    </tr>\n",
       "    <tr>\n",
       "      <td>2</td>\n",
       "      <td>51010501002</td>\n",
       "      <td>2017/1/1 03:00:00</td>\n",
       "      <td>NaN</td>\n",
       "      <td>NaN</td>\n",
       "      <td>NaN</td>\n",
       "      <td>NaN</td>\n",
       "      <td>NaN</td>\n",
       "      <td>NaN</td>\n",
       "      <td>NaN</td>\n",
       "      <td>NaN</td>\n",
       "      <td>NaN</td>\n",
       "      <td>NaN</td>\n",
       "      <td>NaN</td>\n",
       "      <td>NaN</td>\n",
       "      <td>NaN</td>\n",
       "      <td>NaN</td>\n",
       "      <td>NaN</td>\n",
       "      <td>NaN</td>\n",
       "      <td>NaN</td>\n",
       "      <td>2017/1/1 04:15:00</td>\n",
       "    </tr>\n",
       "    <tr>\n",
       "      <td>3</td>\n",
       "      <td>51010501002</td>\n",
       "      <td>2017/1/1 04:00:00</td>\n",
       "      <td>20.0</td>\n",
       "      <td>7.0</td>\n",
       "      <td>81.0</td>\n",
       "      <td>41.0</td>\n",
       "      <td>302.0</td>\n",
       "      <td>176.0</td>\n",
       "      <td>1.174</td>\n",
       "      <td>12.0</td>\n",
       "      <td>3.0</td>\n",
       "      <td>1.0</td>\n",
       "      <td>146.0</td>\n",
       "      <td>195.0</td>\n",
       "      <td>195.0</td>\n",
       "      <td>PM2.5</td>\n",
       "      <td>四级</td>\n",
       "      <td>中度污染</td>\n",
       "      <td>红色</td>\n",
       "      <td>2017/1/1 05:15:00</td>\n",
       "    </tr>\n",
       "    <tr>\n",
       "      <td>4</td>\n",
       "      <td>51010501002</td>\n",
       "      <td>2017/1/1 05:00:00</td>\n",
       "      <td>31.0</td>\n",
       "      <td>11.0</td>\n",
       "      <td>78.0</td>\n",
       "      <td>39.0</td>\n",
       "      <td>289.0</td>\n",
       "      <td>170.0</td>\n",
       "      <td>1.028</td>\n",
       "      <td>11.0</td>\n",
       "      <td>3.0</td>\n",
       "      <td>1.0</td>\n",
       "      <td>142.0</td>\n",
       "      <td>189.0</td>\n",
       "      <td>189.0</td>\n",
       "      <td>PM2.5</td>\n",
       "      <td>四级</td>\n",
       "      <td>中度污染</td>\n",
       "      <td>红色</td>\n",
       "      <td>2017/1/1 06:15:00</td>\n",
       "    </tr>\n",
       "    <tr>\n",
       "      <td>8376</td>\n",
       "      <td>51010801001</td>\n",
       "      <td>2017/12/24 19:00:00</td>\n",
       "      <td>11.0</td>\n",
       "      <td>4.0</td>\n",
       "      <td>92.0</td>\n",
       "      <td>46.0</td>\n",
       "      <td>228.0</td>\n",
       "      <td>139.0</td>\n",
       "      <td>1.621</td>\n",
       "      <td>17.0</td>\n",
       "      <td>65.0</td>\n",
       "      <td>21.0</td>\n",
       "      <td>182.0</td>\n",
       "      <td>232.0</td>\n",
       "      <td>232.0</td>\n",
       "      <td>PM2.5</td>\n",
       "      <td>五级</td>\n",
       "      <td>重度污染</td>\n",
       "      <td>紫色</td>\n",
       "      <td>2017/12/24 19:40:00</td>\n",
       "    </tr>\n",
       "    <tr>\n",
       "      <td>8377</td>\n",
       "      <td>51010801001</td>\n",
       "      <td>2017/12/24 20:00:00</td>\n",
       "      <td>11.0</td>\n",
       "      <td>4.0</td>\n",
       "      <td>100.0</td>\n",
       "      <td>50.0</td>\n",
       "      <td>220.0</td>\n",
       "      <td>135.0</td>\n",
       "      <td>1.625</td>\n",
       "      <td>17.0</td>\n",
       "      <td>59.0</td>\n",
       "      <td>19.0</td>\n",
       "      <td>176.0</td>\n",
       "      <td>226.0</td>\n",
       "      <td>226.0</td>\n",
       "      <td>PM2.5</td>\n",
       "      <td>五级</td>\n",
       "      <td>重度污染</td>\n",
       "      <td>紫色</td>\n",
       "      <td>2017/12/24 20:20:00</td>\n",
       "    </tr>\n",
       "    <tr>\n",
       "      <td>8378</td>\n",
       "      <td>51010801001</td>\n",
       "      <td>2017/12/24 21:00:00</td>\n",
       "      <td>11.0</td>\n",
       "      <td>4.0</td>\n",
       "      <td>107.0</td>\n",
       "      <td>54.0</td>\n",
       "      <td>216.0</td>\n",
       "      <td>133.0</td>\n",
       "      <td>1.540</td>\n",
       "      <td>16.0</td>\n",
       "      <td>49.0</td>\n",
       "      <td>16.0</td>\n",
       "      <td>171.0</td>\n",
       "      <td>221.0</td>\n",
       "      <td>221.0</td>\n",
       "      <td>PM2.5</td>\n",
       "      <td>五级</td>\n",
       "      <td>重度污染</td>\n",
       "      <td>紫色</td>\n",
       "      <td>2017/12/24 21:20:00</td>\n",
       "    </tr>\n",
       "    <tr>\n",
       "      <td>8379</td>\n",
       "      <td>51010801001</td>\n",
       "      <td>2017/12/24 22:00:00</td>\n",
       "      <td>11.0</td>\n",
       "      <td>4.0</td>\n",
       "      <td>100.0</td>\n",
       "      <td>50.0</td>\n",
       "      <td>212.0</td>\n",
       "      <td>131.0</td>\n",
       "      <td>1.509</td>\n",
       "      <td>16.0</td>\n",
       "      <td>51.0</td>\n",
       "      <td>16.0</td>\n",
       "      <td>168.0</td>\n",
       "      <td>218.0</td>\n",
       "      <td>218.0</td>\n",
       "      <td>PM2.5</td>\n",
       "      <td>五级</td>\n",
       "      <td>重度污染</td>\n",
       "      <td>紫色</td>\n",
       "      <td>2017/12/24 23:00:00</td>\n",
       "    </tr>\n",
       "    <tr>\n",
       "      <td>8380</td>\n",
       "      <td>51010801001</td>\n",
       "      <td>2017/12/24 23:00:00</td>\n",
       "      <td>11.0</td>\n",
       "      <td>4.0</td>\n",
       "      <td>145.0</td>\n",
       "      <td>73.0</td>\n",
       "      <td>230.0</td>\n",
       "      <td>140.0</td>\n",
       "      <td>1.957</td>\n",
       "      <td>20.0</td>\n",
       "      <td>6.0</td>\n",
       "      <td>2.0</td>\n",
       "      <td>178.0</td>\n",
       "      <td>228.0</td>\n",
       "      <td>228.0</td>\n",
       "      <td>PM2.5</td>\n",
       "      <td>五级</td>\n",
       "      <td>重度污染</td>\n",
       "      <td>紫色</td>\n",
       "      <td>2017/12/24 23:20:00</td>\n",
       "    </tr>\n",
       "  </tbody>\n",
       "</table>\n",
       "</div>"
      ],
      "text/plain": [
       "              MN_           DATA_TIME_  C_SO2_1H  I_SO2_1H  C_NO2_1H  \\\n",
       "0     51010501002    2017/1/1 01:00:00       NaN       NaN       NaN   \n",
       "1     51010501002    2017/1/1 02:00:00       NaN       NaN       NaN   \n",
       "2     51010501002    2017/1/1 03:00:00       NaN       NaN       NaN   \n",
       "3     51010501002    2017/1/1 04:00:00      20.0       7.0      81.0   \n",
       "4     51010501002    2017/1/1 05:00:00      31.0      11.0      78.0   \n",
       "8376  51010801001  2017/12/24 19:00:00      11.0       4.0      92.0   \n",
       "8377  51010801001  2017/12/24 20:00:00      11.0       4.0     100.0   \n",
       "8378  51010801001  2017/12/24 21:00:00      11.0       4.0     107.0   \n",
       "8379  51010801001  2017/12/24 22:00:00      11.0       4.0     100.0   \n",
       "8380  51010801001  2017/12/24 23:00:00      11.0       4.0     145.0   \n",
       "\n",
       "      I_NO2_1H  C_PM10_1H  I_PM10_24H_MV  C_CO1_1H  I_CO1_1H  C_O3_1H  \\\n",
       "0          NaN        NaN            NaN       NaN       NaN      NaN   \n",
       "1          NaN        NaN            NaN       NaN       NaN      NaN   \n",
       "2          NaN        NaN            NaN       NaN       NaN      NaN   \n",
       "3         41.0      302.0          176.0     1.174      12.0      3.0   \n",
       "4         39.0      289.0          170.0     1.028      11.0      3.0   \n",
       "8376      46.0      228.0          139.0     1.621      17.0     65.0   \n",
       "8377      50.0      220.0          135.0     1.625      17.0     59.0   \n",
       "8378      54.0      216.0          133.0     1.540      16.0     49.0   \n",
       "8379      50.0      212.0          131.0     1.509      16.0     51.0   \n",
       "8380      73.0      230.0          140.0     1.957      20.0      6.0   \n",
       "\n",
       "      I_O3_1H  C_PM25_1H  I_PM25_24H_MV   AQI_ PRIMARY_POLLUTANTS_ LEVEL_  \\\n",
       "0         NaN        NaN            NaN    NaN                 NaN    NaN   \n",
       "1         NaN        NaN            NaN    NaN                 NaN    NaN   \n",
       "2         NaN        NaN            NaN    NaN                 NaN    NaN   \n",
       "3         1.0      146.0          195.0  195.0               PM2.5     四级   \n",
       "4         1.0      142.0          189.0  189.0               PM2.5     四级   \n",
       "8376     21.0      182.0          232.0  232.0               PM2.5     五级   \n",
       "8377     19.0      176.0          226.0  226.0               PM2.5     五级   \n",
       "8378     16.0      171.0          221.0  221.0               PM2.5     五级   \n",
       "8379     16.0      168.0          218.0  218.0               PM2.5     五级   \n",
       "8380      2.0      178.0          228.0  228.0               PM2.5     五级   \n",
       "\n",
       "     CATEGORY_ COLOR_         UPDATE_TIME_  \n",
       "0          NaN    NaN    2017/1/1 02:15:00  \n",
       "1          NaN    NaN    2017/1/1 03:15:00  \n",
       "2          NaN    NaN    2017/1/1 04:15:00  \n",
       "3         中度污染     红色    2017/1/1 05:15:00  \n",
       "4         中度污染     红色    2017/1/1 06:15:00  \n",
       "8376      重度污染     紫色  2017/12/24 19:40:00  \n",
       "8377      重度污染     紫色  2017/12/24 20:20:00  \n",
       "8378      重度污染     紫色  2017/12/24 21:20:00  \n",
       "8379      重度污染     紫色  2017/12/24 23:00:00  \n",
       "8380      重度污染     紫色  2017/12/24 23:20:00  "
      ]
     },
     "execution_count": 37,
     "metadata": {},
     "output_type": "execute_result"
    }
   ],
   "source": [
    "train_data.head().append(train_data.tail())"
   ]
  },
  {
   "cell_type": "code",
   "execution_count": 38,
   "metadata": {},
   "outputs": [
    {
     "data": {
      "text/plain": [
       "(59974, 20)"
      ]
     },
     "execution_count": 38,
     "metadata": {},
     "output_type": "execute_result"
    }
   ],
   "source": [
    "train_data.shape"
   ]
  },
  {
   "cell_type": "code",
   "execution_count": 39,
   "metadata": {},
   "outputs": [],
   "source": [
    "train_data.to_csv('train_data.csv')"
   ]
  },
  {
   "cell_type": "markdown",
   "metadata": {},
   "source": [
    "了解预测值的数据分布"
   ]
  },
  {
   "cell_type": "code",
   "execution_count": 40,
   "metadata": {},
   "outputs": [
    {
     "data": {
      "text/plain": [
       "52.0     954\n",
       "53.0     865\n",
       "55.0     823\n",
       "57.0     822\n",
       "54.0     787\n",
       "        ... \n",
       "343.0      1\n",
       "331.0      1\n",
       "438.0      1\n",
       "366.0      1\n",
       "442.0      1\n",
       "Name: AQI_, Length: 447, dtype: int64"
      ]
     },
     "execution_count": 40,
     "metadata": {},
     "output_type": "execute_result"
    }
   ],
   "source": [
    "train_data.AQI_.value_counts()"
   ]
  },
  {
   "cell_type": "code",
   "execution_count": 41,
   "metadata": {},
   "outputs": [
    {
     "data": {
      "text/plain": [
       "2759"
      ]
     },
     "execution_count": 41,
     "metadata": {},
     "output_type": "execute_result"
    }
   ],
   "source": [
    "train_data.AQI_.isnull().sum()"
   ]
  },
  {
   "cell_type": "markdown",
   "metadata": {},
   "source": [
    "AQI_ 里面还有缺失值，可以用缺失值周边的最近时间段来进行填充。"
   ]
  },
  {
   "cell_type": "code",
   "execution_count": 42,
   "metadata": {},
   "outputs": [],
   "source": [
    "train_data.AQI_=train_data.AQI_.astype(float)"
   ]
  },
  {
   "cell_type": "code",
   "execution_count": 43,
   "metadata": {},
   "outputs": [
    {
     "data": {
      "text/plain": [
       "<matplotlib.axes._subplots.AxesSubplot at 0x127c7f9f6d8>"
      ]
     },
     "execution_count": 43,
     "metadata": {},
     "output_type": "execute_result"
    },
    {
     "data": {
      "image/png": "[encoded data removed]",
      "text/plain": [
       "<Figure size 432x288 with 1 Axes>"
      ]
     },
     "metadata": {
      "needs_background": "light"
     },
     "output_type": "display_data"
    }
   ],
   "source": [
    "#画出预测值分布图\n",
    "train_data[train_data.AQI_>0].AQI_.value_counts().plot.hist()"
   ]
  },
  {
   "cell_type": "markdown",
   "metadata": {},
   "source": [
    "标签价格不服从整体分布，故在进行回归时需要对标签进行转换。"
   ]
  },
  {
   "cell_type": "code",
   "execution_count": 44,
   "metadata": {},
   "outputs": [
    {
     "name": "stdout",
     "output_type": "stream",
     "text": [
      "skewness:2.241632\n",
      "kurtosis:7.566056\n"
     ]
    },
    {
     "data": {
      "image/png": "[encoded data removed]",
      "text/plain": [
       "<Figure size 432x288 with 1 Axes>"
      ]
     },
     "metadata": {
      "needs_background": "light"
     },
     "output_type": "display_data"
    }
   ],
   "source": [
    "#查看AQI_的偏度与峰度\n",
    "sns.distplot(train_data[train_data.AQI_>0].AQI_)\n",
    "print('skewness:%f'%train_data.AQI_.skew())\n",
    "print('kurtosis:%f'%train_data.AQI_.kurt())"
   ]
  },
  {
   "cell_type": "code",
   "execution_count": 45,
   "metadata": {},
   "outputs": [
    {
     "data": {
      "text/plain": [
       "(MN_             -0.028185\n",
       " C_SO2_1H         8.745627\n",
       " I_SO2_1H         5.935460\n",
       " C_NO2_1H         0.947408\n",
       " I_NO2_1H         0.939032\n",
       " C_PM10_1H        2.442766\n",
       " I_PM10_24H_MV    3.178198\n",
       " C_CO1_1H         4.208852\n",
       " I_CO1_1H         2.115882\n",
       " C_O3_1H          1.484111\n",
       " I_O3_1H          2.744210\n",
       " C_PM25_1H        2.184720\n",
       " I_PM25_24H_MV    1.858670\n",
       " AQI_             2.241632\n",
       " dtype: float64, MN_               -0.292417\n",
       " C_SO2_1H         238.028997\n",
       " I_SO2_1H         110.034970\n",
       " C_NO2_1H           1.184584\n",
       " I_NO2_1H           1.115026\n",
       " C_PM10_1H          9.659962\n",
       " I_PM10_24H_MV     20.185100\n",
       " C_CO1_1H         128.400367\n",
       " I_CO1_1H          17.611065\n",
       " C_O3_1H            2.358316\n",
       " I_O3_1H           10.279508\n",
       " C_PM25_1H          6.781342\n",
       " I_PM25_24H_MV      4.457234\n",
       " AQI_               7.566056\n",
       " dtype: float64)"
      ]
     },
     "execution_count": 45,
     "metadata": {},
     "output_type": "execute_result"
    }
   ],
   "source": [
    "train_data.skew(),train_data.kurt()"
   ]
  },
  {
   "cell_type": "code",
   "execution_count": 46,
   "metadata": {},
   "outputs": [
    {
     "data": {
      "text/plain": [
       "<matplotlib.axes._subplots.AxesSubplot at 0x127c811f208>"
      ]
     },
     "execution_count": 46,
     "metadata": {},
     "output_type": "execute_result"
    },
    {
     "data": {
      "image/png": "[encoded data removed]",
      "text/plain": [
       "<Figure size 432x288 with 1 Axes>"
      ]
     },
     "metadata": {
      "needs_background": "light"
     },
     "output_type": "display_data"
    }
   ],
   "source": [
    "#画出train_data的峰度图\n",
    "sns.distplot(train_data.skew(),color='blue',axlabel='Skew')"
   ]
  },
  {
   "cell_type": "code",
   "execution_count": 47,
   "metadata": {},
   "outputs": [
    {
     "data": {
      "text/plain": [
       "<matplotlib.axes._subplots.AxesSubplot at 0x127ca61c9b0>"
      ]
     },
     "execution_count": 47,
     "metadata": {},
     "output_type": "execute_result"
    },
    {
     "data": {
      "image/png": "[encoded data removed]",
      "text/plain": [
       "<Figure size 432x288 with 1 Axes>"
      ]
     },
     "metadata": {
      "needs_background": "light"
     },
     "output_type": "display_data"
    }
   ],
   "source": [
    "#画出train_data的偏度图\n",
    "sns.distplot(train_data.kurt(),color='red',axlabel='Kurt')"
   ]
  },
  {
   "cell_type": "code",
   "execution_count": 48,
   "metadata": {},
   "outputs": [
    {
     "data": {
      "text/plain": [
       "(array([22398., 22132.,  7532.,  2556.,  1509.,   599.,   243.,   107.,\n",
       "           76.,    63.]),\n",
       " array([  3. ,  52.7, 102.4, 152.1, 201.8, 251.5, 301.2, 350.9, 400.6,\n",
       "        450.3, 500. ]),\n",
       " <a list of 10 Patch objects>)"
      ]
     },
     "execution_count": 48,
     "metadata": {},
     "output_type": "execute_result"
    },
    {
     "data": {
      "image/png": "[encoded data removed]",
      "text/plain": [
       "<Figure size 432x288 with 1 Axes>"
      ]
     },
     "metadata": {
      "needs_background": "light"
     },
     "output_type": "display_data"
    }
   ],
   "source": [
    "#查看预测值的最佳频数\n",
    "plt.hist(train_data.AQI_,orientation='vertical',histtype='bar',color='orange')"
   ]
  },
  {
   "cell_type": "markdown",
   "metadata": {},
   "source": [
    "查看频数, 大于400得值极少，其实这里也可以把这些当作特殊得值（异常值）直接用填充或者删掉，再前面进行"
   ]
  },
  {
   "cell_type": "code",
   "execution_count": 49,
   "metadata": {},
   "outputs": [
    {
     "data": {
      "image/png": "[encoded data removed]",
      "text/plain": [
       "<Figure size 432x288 with 1 Axes>"
      ]
     },
     "metadata": {
      "needs_background": "light"
     },
     "output_type": "display_data"
    }
   ],
   "source": [
    "# log变换 z之后的分布较均匀，可以进行log变换进行预测\n",
    "plt.hist(np.log(train_data.AQI_+1),orientation='vertical',histtype='bar',color='red')\n",
    "plt.show()"
   ]
  },
  {
   "cell_type": "code",
   "execution_count": 50,
   "metadata": {},
   "outputs": [
    {
     "name": "stdout",
     "output_type": "stream",
     "text": [
      "<class 'pandas.core.frame.DataFrame'>\n",
      "Int64Index: 59974 entries, 0 to 8380\n",
      "Data columns (total 20 columns):\n",
      "MN_                    59974 non-null int64\n",
      "DATA_TIME_             59974 non-null object\n",
      "C_SO2_1H               54053 non-null float64\n",
      "I_SO2_1H               54011 non-null float64\n",
      "C_NO2_1H               56883 non-null float64\n",
      "I_NO2_1H               56841 non-null float64\n",
      "C_PM10_1H              56068 non-null float64\n",
      "I_PM10_24H_MV          56026 non-null float64\n",
      "C_CO1_1H               56926 non-null float64\n",
      "I_CO1_1H               56884 non-null float64\n",
      "C_O3_1H                52302 non-null float64\n",
      "I_O3_1H                52260 non-null float64\n",
      "C_PM25_1H              56641 non-null float64\n",
      "I_PM25_24H_MV          56599 non-null float64\n",
      "AQI_                   57215 non-null float64\n",
      "PRIMARY_POLLUTANTS_    57215 non-null object\n",
      "LEVEL_                 57215 non-null object\n",
      "CATEGORY_              57215 non-null object\n",
      "COLOR_                 57215 non-null object\n",
      "UPDATE_TIME_           59974 non-null object\n",
      "dtypes: float64(13), int64(1), object(6)\n",
      "memory usage: 9.6+ MB\n"
     ]
    }
   ],
   "source": [
    "train_data.info()"
   ]
  },
  {
   "cell_type": "code",
   "execution_count": 51,
   "metadata": {},
   "outputs": [
    {
     "name": "stdout",
     "output_type": "stream",
     "text": [
      "Index(['MN_', 'C_SO2_1H', 'I_SO2_1H', 'C_NO2_1H', 'I_NO2_1H', 'C_PM10_1H',\n",
      "       'I_PM10_24H_MV', 'C_CO1_1H', 'I_CO1_1H', 'C_O3_1H', 'I_O3_1H',\n",
      "       'C_PM25_1H', 'I_PM25_24H_MV', 'AQI_'],\n",
      "      dtype='object')\n",
      "Index(['DATA_TIME_', 'PRIMARY_POLLUTANTS_', 'LEVEL_', 'CATEGORY_', 'COLOR_',\n",
      "       'UPDATE_TIME_'],\n",
      "      dtype='object')\n"
     ]
    }
   ],
   "source": [
    "# 数字特征\n",
    "num_features = train_data.select_dtypes(include=[np.number])\n",
    "print(num_features.columns)\n",
    "# 类型特征\n",
    "cate_features = train_data.select_dtypes(include=[np.object])\n",
    "print(cate_features.columns)"
   ]
  },
  {
   "cell_type": "code",
   "execution_count": 52,
   "metadata": {},
   "outputs": [],
   "source": [
    "#数字型特征\n",
    "num_features=num_features.columns"
   ]
  },
  {
   "cell_type": "code",
   "execution_count": 53,
   "metadata": {},
   "outputs": [
    {
     "data": {
      "text/plain": [
       "Index(['MN_', 'C_SO2_1H', 'I_SO2_1H', 'C_NO2_1H', 'I_NO2_1H', 'C_PM10_1H',\n",
       "       'I_PM10_24H_MV', 'C_CO1_1H', 'I_CO1_1H', 'C_O3_1H', 'I_O3_1H',\n",
       "       'C_PM25_1H', 'I_PM25_24H_MV', 'AQI_'],\n",
       "      dtype='object')"
      ]
     },
     "execution_count": 53,
     "metadata": {},
     "output_type": "execute_result"
    }
   ],
   "source": [
    "num_features"
   ]
  },
  {
   "cell_type": "code",
   "execution_count": 54,
   "metadata": {},
   "outputs": [
    {
     "data": {
      "text/plain": [
       "PM2.5             23330\n",
       "-                 20710\n",
       "PM10              10335\n",
       "O3-1小时             1987\n",
       "PM10,PM2.5          566\n",
       "NO2                 252\n",
       "NO2,PM10             18\n",
       "O3-1小时,PM2.5          7\n",
       "PM10,O3-1小时           4\n",
       "CO                    3\n",
       "SO2                   1\n",
       "NO2,PM2.5             1\n",
       "NO2,PM10,PM2.5        1\n",
       "Name: PRIMARY_POLLUTANTS_, dtype: int64"
      ]
     },
     "execution_count": 54,
     "metadata": {},
     "output_type": "execute_result"
    }
   ],
   "source": [
    "train_data.PRIMARY_POLLUTANTS_.value_counts()"
   ]
  },
  {
   "cell_type": "code",
   "execution_count": 55,
   "metadata": {},
   "outputs": [],
   "source": [
    "cate_features = [i for i in cate_features.columns if i not in ['DATA_TIME_','UPDATE_TIME_']]"
   ]
  },
  {
   "cell_type": "code",
   "execution_count": 57,
   "metadata": {},
   "outputs": [
    {
     "name": "stdout",
     "output_type": "stream",
     "text": [
      "PRIMARY_POLLUTANTS_的特征分布如下：\n",
      "PRIMARY_POLLUTANTS_特征有13不同值\n",
      "PM2.5             23330\n",
      "-                 20710\n",
      "PM10              10335\n",
      "O3-1小时             1987\n",
      "PM10,PM2.5          566\n",
      "NO2                 252\n",
      "NO2,PM10             18\n",
      "O3-1小时,PM2.5          7\n",
      "PM10,O3-1小时           4\n",
      "CO                    3\n",
      "SO2                   1\n",
      "NO2,PM2.5             1\n",
      "NO2,PM10,PM2.5        1\n",
      "Name: PRIMARY_POLLUTANTS_, dtype: int64\n",
      "LEVEL_的特征分布如下：\n",
      "LEVEL_特征有6不同值\n",
      "二级    23423\n",
      "一级    20710\n",
      "三级     7794\n",
      "四级     2642\n",
      "五级     2153\n",
      "六级      493\n",
      "Name: LEVEL_, dtype: int64\n",
      "CATEGORY_的特征分布如下：\n",
      "CATEGORY_特征有6不同值\n",
      "良       23423\n",
      "优       20710\n",
      "轻度污染     7794\n",
      "中度污染     2642\n",
      "重度污染     2153\n",
      "严重污染      493\n",
      "Name: CATEGORY_, dtype: int64\n",
      "COLOR_的特征分布如下：\n",
      "COLOR_特征有6不同值\n",
      "黄色     23423\n",
      "绿色     20710\n",
      "橙色      7794\n",
      "红色      2642\n",
      "紫色      2153\n",
      "褐红色      493\n",
      "Name: COLOR_, dtype: int64\n"
     ]
    }
   ],
   "source": [
    "#train_data特征的nunique分布\n",
    "for i in cate_features:\n",
    "    print(i +'的特征分布如下：')\n",
    "    print('{}特征有{}不同值'.format(i,train_data[i].nunique()))\n",
    "    print(train_data[i].value_counts())"
   ]
  },
  {
   "cell_type": "markdown",
   "metadata": {},
   "source": [
    "数字特征分析"
   ]
  },
  {
   "cell_type": "code",
   "execution_count": 58,
   "metadata": {},
   "outputs": [
    {
     "data": {
      "text/plain": [
       "Index(['MN_', 'C_SO2_1H', 'I_SO2_1H', 'C_NO2_1H', 'I_NO2_1H', 'C_PM10_1H',\n",
       "       'I_PM10_24H_MV', 'C_CO1_1H', 'I_CO1_1H', 'C_O3_1H', 'I_O3_1H',\n",
       "       'C_PM25_1H', 'I_PM25_24H_MV', 'AQI_'],\n",
       "      dtype='object')"
      ]
     },
     "execution_count": 58,
     "metadata": {},
     "output_type": "execute_result"
    }
   ],
   "source": [
    "num_features"
   ]
  },
  {
   "cell_type": "code",
   "execution_count": 59,
   "metadata": {},
   "outputs": [
    {
     "data": {
      "text/plain": [
       "AQI_             1.000000\n",
       "C_PM25_1H        0.975618\n",
       "I_PM25_24H_MV    0.972997\n",
       "C_PM10_1H        0.959338\n",
       "I_PM10_24H_MV    0.941732\n",
       "I_CO1_1H         0.696750\n",
       "C_CO1_1H         0.683957\n",
       "I_NO2_1H         0.533876\n",
       "C_NO2_1H         0.533810\n",
       "I_SO2_1H         0.409164\n",
       "C_SO2_1H         0.396497\n",
       "MN_              0.133948\n",
       "I_O3_1H         -0.133005\n",
       "C_O3_1H         -0.199643\n",
       "Name: AQI_, dtype: float64"
      ]
     },
     "execution_count": 59,
     "metadata": {},
     "output_type": "execute_result"
    }
   ],
   "source": [
    "#相关性分析\n",
    "#计算数字型特征与标签AQI_的相关系数\n",
    "train_data[num_features].corr()['AQI_'].sort_values(ascending=False)"
   ]
  },
  {
   "cell_type": "code",
   "execution_count": 60,
   "metadata": {},
   "outputs": [
    {
     "data": {
      "text/plain": [
       "<matplotlib.axes._subplots.AxesSubplot at 0x127ca9ecc88>"
      ]
     },
     "execution_count": 60,
     "metadata": {},
     "output_type": "execute_result"
    },
    {
     "data": {
      "image/png": "[encoded data removed]",
      "text/plain": [
       "<Figure size 1152x1152 with 2 Axes>"
      ]
     },
     "metadata": {
      "needs_background": "light"
     },
     "output_type": "display_data"
    }
   ],
   "source": [
    "#相关性分析可视化\n",
    "f , ax = plt.subplots(figsize = (16, 16))\n",
    "\n",
    "plt.title('Correlation of Num Features with AQI_',y=1,size=16)\n",
    "\n",
    "sns.heatmap(train_data[num_features].corr(),square = True,  vmax=0.8,annot=True)"
   ]
  },
  {
   "cell_type": "code",
   "execution_count": 61,
   "metadata": {},
   "outputs": [],
   "source": [
    "num_features = [i for i in num_features if i not in ['AQI_']]"
   ]
  },
  {
   "cell_type": "code",
   "execution_count": 62,
   "metadata": {},
   "outputs": [
    {
     "name": "stdout",
     "output_type": "stream",
     "text": [
      "MN_             Skewness: -0.03     Kurtosis: -00.29\n",
      "C_SO2_1H        Skewness: 08.75     Kurtosis: 238.03\n",
      "I_SO2_1H        Skewness: 05.94     Kurtosis: 110.03\n",
      "C_NO2_1H        Skewness: 00.95     Kurtosis: 001.18\n",
      "I_NO2_1H        Skewness: 00.94     Kurtosis: 001.12\n",
      "C_PM10_1H       Skewness: 02.44     Kurtosis: 009.66\n",
      "I_PM10_24H_MV   Skewness: 03.18     Kurtosis: 020.19\n",
      "C_CO1_1H        Skewness: 04.21     Kurtosis: 128.40\n",
      "I_CO1_1H        Skewness: 02.12     Kurtosis: 017.61\n",
      "C_O3_1H         Skewness: 01.48     Kurtosis: 002.36\n",
      "I_O3_1H         Skewness: 02.74     Kurtosis: 010.28\n",
      "C_PM25_1H       Skewness: 02.18     Kurtosis: 006.78\n",
      "I_PM25_24H_MV   Skewness: 01.86     Kurtosis: 004.46\n"
     ]
    }
   ],
   "source": [
    "#查看数值型特征偏度与峰度\n",
    "for i in num_features:\n",
    "    print('{:15}'.format(i), \n",
    "          'Skewness: {:05.2f}'.format(train_data[i].skew()) , \n",
    "          '   ' ,\n",
    "          'Kurtosis: {:06.2f}'.format(train_data[i].kurt())  \n",
    "         )"
   ]
  },
  {
   "cell_type": "code",
   "execution_count": 63,
   "metadata": {},
   "outputs": [
    {
     "data": {
      "image/png": "[encoded data removed]",
      "text/plain": [
       "<Figure size 432x1512 with 13 Axes>"
      ]
     },
     "metadata": {
      "needs_background": "light"
     },
     "output_type": "display_data"
    }
   ],
   "source": [
    "#每个数字特征的可视化\n",
    "f=pd.melt(train_data,value_vars=num_features)\n",
    "g=sns.FacetGrid(f,col='variable',col_wrap=2,sharex=False,sharey=False)\n",
    "g=g.map(sns.distplot,'value')"
   ]
  },
  {
   "cell_type": "markdown",
   "metadata": {},
   "source": [
    "类别型特征"
   ]
  },
  {
   "cell_type": "code",
   "execution_count": 64,
   "metadata": {},
   "outputs": [
    {
     "name": "stdout",
     "output_type": "stream",
     "text": [
      "13\n",
      "6\n",
      "6\n",
      "6\n"
     ]
    }
   ],
   "source": [
    "#unique分布\n",
    "for fea in cate_features:\n",
    "    print(train_data[fea].nunique())"
   ]
  },
  {
   "cell_type": "code",
   "execution_count": 65,
   "metadata": {},
   "outputs": [
    {
     "data": {
      "image/png": "[encoded data removed]",
      "text/plain": [
       "<Figure size 432x288 with 1 Axes>"
      ]
     },
     "metadata": {
      "needs_background": "light"
     },
     "output_type": "display_data"
    },
    {
     "data": {
      "image/png": "[encoded data removed]",
      "text/plain": [
       "<Figure size 432x288 with 1 Axes>"
      ]
     },
     "metadata": {
      "needs_background": "light"
     },
     "output_type": "display_data"
    },
    {
     "data": {
      "image/png": "[encoded data removed]",
      "text/plain": [
       "<Figure size 432x288 with 1 Axes>"
      ]
     },
     "metadata": {
      "needs_background": "light"
     },
     "output_type": "display_data"
    },
    {
     "data": {
      "image/png": "[encoded data removed]",
      "text/plain": [
       "<Figure size 432x288 with 1 Axes>"
      ]
     },
     "metadata": {
      "needs_background": "light"
     },
     "output_type": "display_data"
    }
   ],
   "source": [
    "#类别特征的小提琴图可视化\n",
    "catg_list = cate_features\n",
    "target = 'AQI_'\n",
    "for catg in catg_list :\n",
    "    sns.violinplot(x=catg, y=target, data=train_data)\n",
    "    plt.show()"
   ]
  },
  {
   "cell_type": "code",
   "execution_count": 66,
   "metadata": {},
   "outputs": [
    {
     "data": {
      "image/png": "[encoded data removed]",
      "text/plain": [
       "<Figure size 720x720 with 4 Axes>"
      ]
     },
     "metadata": {
      "needs_background": "light"
     },
     "output_type": "display_data"
    }
   ],
   "source": [
    "# 类别特征的柱形图可视化\n",
    "def bar_plot(x, y, **kwargs):\n",
    "    sns.barplot(x=x, y=y)\n",
    "    x=plt.xticks(rotation=90)\n",
    "\n",
    "f = pd.melt(train_data, id_vars=['AQI_'], value_vars=cate_features)\n",
    "g = sns.FacetGrid(f, col=\"variable\",  col_wrap=2, sharex=False, sharey=False, size=5)\n",
    "g = g.map(bar_plot, \"value\", \"AQI_\")"
   ]
  },
  {
   "cell_type": "code",
   "execution_count": 67,
   "metadata": {},
   "outputs": [
    {
     "data": {
      "image/png": "[encoded data removed]",
      "text/plain": [
       "<Figure size 720x720 with 4 Axes>"
      ]
     },
     "metadata": {
      "needs_background": "light"
     },
     "output_type": "display_data"
    }
   ],
   "source": [
    "# 类别特征的每个类别频数可视化(count_plot)\n",
    "def count_plot(x,  **kwargs):\n",
    "    sns.countplot(x=x)\n",
    "    x=plt.xticks(rotation=90)\n",
    "\n",
    "f = pd.melt(train_data,value_vars=cate_features)\n",
    "g = sns.FacetGrid(f, col=\"variable\",  col_wrap=2, sharex=False, sharey=False, size=5)\n",
    "g = g.map(count_plot, \"value\")"
   ]
  },
  {
   "cell_type": "code",
   "execution_count": 68,
   "metadata": {},
   "outputs": [
    {
     "data": {
      "text/html": [
       "<div>\n",
       "<style scoped>\n",
       "    .dataframe tbody tr th:only-of-type {\n",
       "        vertical-align: middle;\n",
       "    }\n",
       "\n",
       "    .dataframe tbody tr th {\n",
       "        vertical-align: top;\n",
       "    }\n",
       "\n",
       "    .dataframe thead th {\n",
       "        text-align: right;\n",
       "    }\n",
       "</style>\n",
       "<table border=\"1\" class=\"dataframe\">\n",
       "  <thead>\n",
       "    <tr style=\"text-align: right;\">\n",
       "      <th></th>\n",
       "      <th>MN_</th>\n",
       "      <th>DATA_TIME_</th>\n",
       "      <th>C_SO2_1H</th>\n",
       "      <th>I_SO2_1H</th>\n",
       "      <th>C_NO2_1H</th>\n",
       "      <th>I_NO2_1H</th>\n",
       "      <th>C_PM10_1H</th>\n",
       "      <th>I_PM10_24H_MV</th>\n",
       "      <th>C_CO1_1H</th>\n",
       "      <th>I_CO1_1H</th>\n",
       "      <th>C_O3_1H</th>\n",
       "      <th>I_O3_1H</th>\n",
       "      <th>C_PM25_1H</th>\n",
       "      <th>I_PM25_24H_MV</th>\n",
       "      <th>AQI_</th>\n",
       "      <th>PRIMARY_POLLUTANTS_</th>\n",
       "      <th>LEVEL_</th>\n",
       "      <th>CATEGORY_</th>\n",
       "      <th>COLOR_</th>\n",
       "      <th>UPDATE_TIME_</th>\n",
       "    </tr>\n",
       "  </thead>\n",
       "  <tbody>\n",
       "    <tr>\n",
       "      <td>0</td>\n",
       "      <td>51010501002</td>\n",
       "      <td>2017/1/1 01:00:00</td>\n",
       "      <td>NaN</td>\n",
       "      <td>NaN</td>\n",
       "      <td>NaN</td>\n",
       "      <td>NaN</td>\n",
       "      <td>NaN</td>\n",
       "      <td>NaN</td>\n",
       "      <td>NaN</td>\n",
       "      <td>NaN</td>\n",
       "      <td>NaN</td>\n",
       "      <td>NaN</td>\n",
       "      <td>NaN</td>\n",
       "      <td>NaN</td>\n",
       "      <td>NaN</td>\n",
       "      <td>NaN</td>\n",
       "      <td>NaN</td>\n",
       "      <td>NaN</td>\n",
       "      <td>NaN</td>\n",
       "      <td>2017/1/1 02:15:00</td>\n",
       "    </tr>\n",
       "    <tr>\n",
       "      <td>1</td>\n",
       "      <td>51010501002</td>\n",
       "      <td>2017/1/1 02:00:00</td>\n",
       "      <td>NaN</td>\n",
       "      <td>NaN</td>\n",
       "      <td>NaN</td>\n",
       "      <td>NaN</td>\n",
       "      <td>NaN</td>\n",
       "      <td>NaN</td>\n",
       "      <td>NaN</td>\n",
       "      <td>NaN</td>\n",
       "      <td>NaN</td>\n",
       "      <td>NaN</td>\n",
       "      <td>NaN</td>\n",
       "      <td>NaN</td>\n",
       "      <td>NaN</td>\n",
       "      <td>NaN</td>\n",
       "      <td>NaN</td>\n",
       "      <td>NaN</td>\n",
       "      <td>NaN</td>\n",
       "      <td>2017/1/1 03:15:00</td>\n",
       "    </tr>\n",
       "    <tr>\n",
       "      <td>2</td>\n",
       "      <td>51010501002</td>\n",
       "      <td>2017/1/1 03:00:00</td>\n",
       "      <td>NaN</td>\n",
       "      <td>NaN</td>\n",
       "      <td>NaN</td>\n",
       "      <td>NaN</td>\n",
       "      <td>NaN</td>\n",
       "      <td>NaN</td>\n",
       "      <td>NaN</td>\n",
       "      <td>NaN</td>\n",
       "      <td>NaN</td>\n",
       "      <td>NaN</td>\n",
       "      <td>NaN</td>\n",
       "      <td>NaN</td>\n",
       "      <td>NaN</td>\n",
       "      <td>NaN</td>\n",
       "      <td>NaN</td>\n",
       "      <td>NaN</td>\n",
       "      <td>NaN</td>\n",
       "      <td>2017/1/1 04:15:00</td>\n",
       "    </tr>\n",
       "    <tr>\n",
       "      <td>3</td>\n",
       "      <td>51010501002</td>\n",
       "      <td>2017/1/1 04:00:00</td>\n",
       "      <td>20.0</td>\n",
       "      <td>7.0</td>\n",
       "      <td>81.0</td>\n",
       "      <td>41.0</td>\n",
       "      <td>302.0</td>\n",
       "      <td>176.0</td>\n",
       "      <td>1.174</td>\n",
       "      <td>12.0</td>\n",
       "      <td>3.0</td>\n",
       "      <td>1.0</td>\n",
       "      <td>146.0</td>\n",
       "      <td>195.0</td>\n",
       "      <td>195.0</td>\n",
       "      <td>PM2.5</td>\n",
       "      <td>四级</td>\n",
       "      <td>中度污染</td>\n",
       "      <td>红色</td>\n",
       "      <td>2017/1/1 05:15:00</td>\n",
       "    </tr>\n",
       "    <tr>\n",
       "      <td>4</td>\n",
       "      <td>51010501002</td>\n",
       "      <td>2017/1/1 05:00:00</td>\n",
       "      <td>31.0</td>\n",
       "      <td>11.0</td>\n",
       "      <td>78.0</td>\n",
       "      <td>39.0</td>\n",
       "      <td>289.0</td>\n",
       "      <td>170.0</td>\n",
       "      <td>1.028</td>\n",
       "      <td>11.0</td>\n",
       "      <td>3.0</td>\n",
       "      <td>1.0</td>\n",
       "      <td>142.0</td>\n",
       "      <td>189.0</td>\n",
       "      <td>189.0</td>\n",
       "      <td>PM2.5</td>\n",
       "      <td>四级</td>\n",
       "      <td>中度污染</td>\n",
       "      <td>红色</td>\n",
       "      <td>2017/1/1 06:15:00</td>\n",
       "    </tr>\n",
       "  </tbody>\n",
       "</table>\n",
       "</div>"
      ],
      "text/plain": [
       "           MN_         DATA_TIME_  C_SO2_1H  I_SO2_1H  C_NO2_1H  I_NO2_1H  \\\n",
       "0  51010501002  2017/1/1 01:00:00       NaN       NaN       NaN       NaN   \n",
       "1  51010501002  2017/1/1 02:00:00       NaN       NaN       NaN       NaN   \n",
       "2  51010501002  2017/1/1 03:00:00       NaN       NaN       NaN       NaN   \n",
       "3  51010501002  2017/1/1 04:00:00      20.0       7.0      81.0      41.0   \n",
       "4  51010501002  2017/1/1 05:00:00      31.0      11.0      78.0      39.0   \n",
       "\n",
       "   C_PM10_1H  I_PM10_24H_MV  C_CO1_1H  I_CO1_1H  C_O3_1H  I_O3_1H  C_PM25_1H  \\\n",
       "0        NaN            NaN       NaN       NaN      NaN      NaN        NaN   \n",
       "1        NaN            NaN       NaN       NaN      NaN      NaN        NaN   \n",
       "2        NaN            NaN       NaN       NaN      NaN      NaN        NaN   \n",
       "3      302.0          176.0     1.174      12.0      3.0      1.0      146.0   \n",
       "4      289.0          170.0     1.028      11.0      3.0      1.0      142.0   \n",
       "\n",
       "   I_PM25_24H_MV   AQI_ PRIMARY_POLLUTANTS_ LEVEL_ CATEGORY_ COLOR_  \\\n",
       "0            NaN    NaN                 NaN    NaN       NaN    NaN   \n",
       "1            NaN    NaN                 NaN    NaN       NaN    NaN   \n",
       "2            NaN    NaN                 NaN    NaN       NaN    NaN   \n",
       "3          195.0  195.0               PM2.5     四级      中度污染     红色   \n",
       "4          189.0  189.0               PM2.5     四级      中度污染     红色   \n",
       "\n",
       "        UPDATE_TIME_  \n",
       "0  2017/1/1 02:15:00  \n",
       "1  2017/1/1 03:15:00  \n",
       "2  2017/1/1 04:15:00  \n",
       "3  2017/1/1 05:15:00  \n",
       "4  2017/1/1 06:15:00  "
      ]
     },
     "execution_count": 68,
     "metadata": {},
     "output_type": "execute_result"
    }
   ],
   "source": [
    "train_data.head()"
   ]
  },
  {
   "cell_type": "code",
   "execution_count": 69,
   "metadata": {},
   "outputs": [
    {
     "data": {
      "text/plain": [
       "(59974, 20)"
      ]
     },
     "execution_count": 69,
     "metadata": {},
     "output_type": "execute_result"
    }
   ],
   "source": [
    "train_data.shape"
   ]
  },
  {
   "cell_type": "markdown",
   "metadata": {},
   "source": [
    "删除异常值"
   ]
  },
  {
   "cell_type": "code",
   "execution_count": 70,
   "metadata": {},
   "outputs": [],
   "source": [
    "# 异常值处理的代码，可以随便调用。\n",
    "def outliers_proc(data, col_name, scale=3):\n",
    "    \"\"\"\n",
    "    用于清洗异常值，默认用 box_plot（scale=3）进行清洗\n",
    "    :param data: 接收 pandas 数据格式\n",
    "    :param col_name: pandas 列名\n",
    "    :param scale: 尺度\n",
    "    :return:\n",
    "    \"\"\"\n",
    "\n",
    "    def box_plot_outliers(data_ser, box_scale):\n",
    "        \"\"\"\n",
    "        利用箱线图去除异常值\n",
    "        :param data_ser: 接收 pandas.Series 数据格式\n",
    "        :param box_scale: 箱线图尺度，\n",
    "        :return:\n",
    "        \"\"\"\n",
    "        iqr = box_scale * (data_ser.quantile(0.75) - data_ser.quantile(0.25))\n",
    "        val_low = data_ser.quantile(0.25) - iqr\n",
    "        val_up = data_ser.quantile(0.75) + iqr\n",
    "        rule_low = (data_ser < val_low)\n",
    "        rule_up = (data_ser > val_up)\n",
    "        return (rule_low, rule_up), (val_low, val_up)\n",
    "\n",
    "    data_n = data.copy()\n",
    "    data_series = data_n[col_name]\n",
    "    rule, value = box_plot_outliers(data_series, box_scale=scale)\n",
    "    index = np.arange(data_series.shape[0])[rule[0] | rule[1]]\n",
    "    print(\"Delete number is: {}\".format(len(index)))\n",
    "    data_n = data_n.drop(index)\n",
    "    data_n.reset_index(drop=True, inplace=True)\n",
    "    print(\"Now column number is: {}\".format(data_n.shape[0]))\n",
    "    index_low = np.arange(data_series.shape[0])[rule[0]]\n",
    "    outliers = data_series.iloc[index_low]\n",
    "    print(\"Description of data less than the lower bound is:\")\n",
    "    print(pd.Series(outliers).describe())\n",
    "    index_up = np.arange(data_series.shape[0])[rule[1]]\n",
    "    outliers = data_series.iloc[index_up]\n",
    "    print(\"Description of data larger than the upper bound is:\")\n",
    "    print(pd.Series(outliers).describe())\n",
    "    \n",
    "    fig, ax = plt.subplots(1, 2, figsize=(10, 7))\n",
    "    sns.boxplot(y=data[col_name], data=data, palette=\"Set1\", ax=ax[0])\n",
    "    sns.boxplot(y=data_n[col_name], data=data_n, palette=\"Set1\", ax=ax[1])\n",
    "    return data_n"
   ]
  },
  {
   "cell_type": "code",
   "execution_count": 71,
   "metadata": {},
   "outputs": [],
   "source": [
    "#剔除掉一些离群点\n",
    "def quantile_clip(group):     \n",
    "    group[group < group.quantile(.05)] = group.quantile(.05)\n",
    "    group[group > group.quantile(.95)] = group.quantile(.95)\n",
    "    return group"
   ]
  },
  {
   "cell_type": "code",
   "execution_count": 158,
   "metadata": {},
   "outputs": [],
   "source": [
    "#对每个MN_,每小时进行执行\n",
    "# df['AQI_'] = df.groupby(['MN_', 'DATA_TIME_'])['AQI_'].transform(quantile_clip)\n",
    "# df.head(5)"
   ]
  },
  {
   "cell_type": "code",
   "execution_count": 72,
   "metadata": {},
   "outputs": [],
   "source": [
    "num_features = [i for i in num_features if i not in ['MN_']]"
   ]
  },
  {
   "cell_type": "code",
   "execution_count": 73,
   "metadata": {},
   "outputs": [
    {
     "data": {
      "text/plain": [
       "2017/11/12 14:00:00    8\n",
       "2017/11/29 04:00:00    8\n",
       "2017/12/4 07:00:00     8\n",
       "2017/11/16 10:00:00    8\n",
       "2017/11/7 05:00:00     8\n",
       "                      ..\n",
       "2017/12/11 14:00:00    6\n",
       "2017/12/13 00:00:00    6\n",
       "2017/12/11 02:00:00    6\n",
       "2017/12/24 00:00:00    6\n",
       "2017/12/18 05:00:00    5\n",
       "Name: DATA_TIME_, Length: 8383, dtype: int64"
      ]
     },
     "execution_count": 73,
     "metadata": {},
     "output_type": "execute_result"
    }
   ],
   "source": [
    "train_data.DATA_TIME_.value_counts()"
   ]
  },
  {
   "cell_type": "markdown",
   "metadata": {},
   "source": [
    "特征构造"
   ]
  },
  {
   "cell_type": "code",
   "execution_count": 2,
   "metadata": {},
   "outputs": [],
   "source": [
    "train_data = pd.read_csv('train_data.csv',index_col=0)"
   ]
  },
  {
   "cell_type": "code",
   "execution_count": 3,
   "metadata": {},
   "outputs": [
    {
     "data": {
      "text/html": [
       "<div>\n",
       "<style scoped>\n",
       "    .dataframe tbody tr th:only-of-type {\n",
       "        vertical-align: middle;\n",
       "    }\n",
       "\n",
       "    .dataframe tbody tr th {\n",
       "        vertical-align: top;\n",
       "    }\n",
       "\n",
       "    .dataframe thead th {\n",
       "        text-align: right;\n",
       "    }\n",
       "</style>\n",
       "<table border=\"1\" class=\"dataframe\">\n",
       "  <thead>\n",
       "    <tr style=\"text-align: right;\">\n",
       "      <th></th>\n",
       "      <th>MN_</th>\n",
       "      <th>DATA_TIME_</th>\n",
       "      <th>C_SO2_1H</th>\n",
       "      <th>I_SO2_1H</th>\n",
       "      <th>C_NO2_1H</th>\n",
       "      <th>I_NO2_1H</th>\n",
       "      <th>C_PM10_1H</th>\n",
       "      <th>I_PM10_24H_MV</th>\n",
       "      <th>C_CO1_1H</th>\n",
       "      <th>I_CO1_1H</th>\n",
       "      <th>C_O3_1H</th>\n",
       "      <th>I_O3_1H</th>\n",
       "      <th>C_PM25_1H</th>\n",
       "      <th>I_PM25_24H_MV</th>\n",
       "      <th>AQI_</th>\n",
       "      <th>PRIMARY_POLLUTANTS_</th>\n",
       "      <th>LEVEL_</th>\n",
       "      <th>CATEGORY_</th>\n",
       "      <th>COLOR_</th>\n",
       "      <th>UPDATE_TIME_</th>\n",
       "    </tr>\n",
       "  </thead>\n",
       "  <tbody>\n",
       "    <tr>\n",
       "      <td>0</td>\n",
       "      <td>51010501002</td>\n",
       "      <td>2017/1/1 01:00:00</td>\n",
       "      <td>NaN</td>\n",
       "      <td>NaN</td>\n",
       "      <td>NaN</td>\n",
       "      <td>NaN</td>\n",
       "      <td>NaN</td>\n",
       "      <td>NaN</td>\n",
       "      <td>NaN</td>\n",
       "      <td>NaN</td>\n",
       "      <td>NaN</td>\n",
       "      <td>NaN</td>\n",
       "      <td>NaN</td>\n",
       "      <td>NaN</td>\n",
       "      <td>NaN</td>\n",
       "      <td>NaN</td>\n",
       "      <td>NaN</td>\n",
       "      <td>NaN</td>\n",
       "      <td>NaN</td>\n",
       "      <td>2017/1/1 02:15:00</td>\n",
       "    </tr>\n",
       "    <tr>\n",
       "      <td>1</td>\n",
       "      <td>51010501002</td>\n",
       "      <td>2017/1/1 02:00:00</td>\n",
       "      <td>NaN</td>\n",
       "      <td>NaN</td>\n",
       "      <td>NaN</td>\n",
       "      <td>NaN</td>\n",
       "      <td>NaN</td>\n",
       "      <td>NaN</td>\n",
       "      <td>NaN</td>\n",
       "      <td>NaN</td>\n",
       "      <td>NaN</td>\n",
       "      <td>NaN</td>\n",
       "      <td>NaN</td>\n",
       "      <td>NaN</td>\n",
       "      <td>NaN</td>\n",
       "      <td>NaN</td>\n",
       "      <td>NaN</td>\n",
       "      <td>NaN</td>\n",
       "      <td>NaN</td>\n",
       "      <td>2017/1/1 03:15:00</td>\n",
       "    </tr>\n",
       "    <tr>\n",
       "      <td>2</td>\n",
       "      <td>51010501002</td>\n",
       "      <td>2017/1/1 03:00:00</td>\n",
       "      <td>NaN</td>\n",
       "      <td>NaN</td>\n",
       "      <td>NaN</td>\n",
       "      <td>NaN</td>\n",
       "      <td>NaN</td>\n",
       "      <td>NaN</td>\n",
       "      <td>NaN</td>\n",
       "      <td>NaN</td>\n",
       "      <td>NaN</td>\n",
       "      <td>NaN</td>\n",
       "      <td>NaN</td>\n",
       "      <td>NaN</td>\n",
       "      <td>NaN</td>\n",
       "      <td>NaN</td>\n",
       "      <td>NaN</td>\n",
       "      <td>NaN</td>\n",
       "      <td>NaN</td>\n",
       "      <td>2017/1/1 04:15:00</td>\n",
       "    </tr>\n",
       "    <tr>\n",
       "      <td>3</td>\n",
       "      <td>51010501002</td>\n",
       "      <td>2017/1/1 04:00:00</td>\n",
       "      <td>20.0</td>\n",
       "      <td>7.0</td>\n",
       "      <td>81.0</td>\n",
       "      <td>41.0</td>\n",
       "      <td>302.0</td>\n",
       "      <td>176.0</td>\n",
       "      <td>1.174</td>\n",
       "      <td>12.0</td>\n",
       "      <td>3.0</td>\n",
       "      <td>1.0</td>\n",
       "      <td>146.0</td>\n",
       "      <td>195.0</td>\n",
       "      <td>195.0</td>\n",
       "      <td>PM2.5</td>\n",
       "      <td>四级</td>\n",
       "      <td>中度污染</td>\n",
       "      <td>红色</td>\n",
       "      <td>2017/1/1 05:15:00</td>\n",
       "    </tr>\n",
       "    <tr>\n",
       "      <td>4</td>\n",
       "      <td>51010501002</td>\n",
       "      <td>2017/1/1 05:00:00</td>\n",
       "      <td>31.0</td>\n",
       "      <td>11.0</td>\n",
       "      <td>78.0</td>\n",
       "      <td>39.0</td>\n",
       "      <td>289.0</td>\n",
       "      <td>170.0</td>\n",
       "      <td>1.028</td>\n",
       "      <td>11.0</td>\n",
       "      <td>3.0</td>\n",
       "      <td>1.0</td>\n",
       "      <td>142.0</td>\n",
       "      <td>189.0</td>\n",
       "      <td>189.0</td>\n",
       "      <td>PM2.5</td>\n",
       "      <td>四级</td>\n",
       "      <td>中度污染</td>\n",
       "      <td>红色</td>\n",
       "      <td>2017/1/1 06:15:00</td>\n",
       "    </tr>\n",
       "  </tbody>\n",
       "</table>\n",
       "</div>"
      ],
      "text/plain": [
       "           MN_         DATA_TIME_  C_SO2_1H  I_SO2_1H  C_NO2_1H  I_NO2_1H  \\\n",
       "0  51010501002  2017/1/1 01:00:00       NaN       NaN       NaN       NaN   \n",
       "1  51010501002  2017/1/1 02:00:00       NaN       NaN       NaN       NaN   \n",
       "2  51010501002  2017/1/1 03:00:00       NaN       NaN       NaN       NaN   \n",
       "3  51010501002  2017/1/1 04:00:00      20.0       7.0      81.0      41.0   \n",
       "4  51010501002  2017/1/1 05:00:00      31.0      11.0      78.0      39.0   \n",
       "\n",
       "   C_PM10_1H  I_PM10_24H_MV  C_CO1_1H  I_CO1_1H  C_O3_1H  I_O3_1H  C_PM25_1H  \\\n",
       "0        NaN            NaN       NaN       NaN      NaN      NaN        NaN   \n",
       "1        NaN            NaN       NaN       NaN      NaN      NaN        NaN   \n",
       "2        NaN            NaN       NaN       NaN      NaN      NaN        NaN   \n",
       "3      302.0          176.0     1.174      12.0      3.0      1.0      146.0   \n",
       "4      289.0          170.0     1.028      11.0      3.0      1.0      142.0   \n",
       "\n",
       "   I_PM25_24H_MV   AQI_ PRIMARY_POLLUTANTS_ LEVEL_ CATEGORY_ COLOR_  \\\n",
       "0            NaN    NaN                 NaN    NaN       NaN    NaN   \n",
       "1            NaN    NaN                 NaN    NaN       NaN    NaN   \n",
       "2            NaN    NaN                 NaN    NaN       NaN    NaN   \n",
       "3          195.0  195.0               PM2.5     四级      中度污染     红色   \n",
       "4          189.0  189.0               PM2.5     四级      中度污染     红色   \n",
       "\n",
       "        UPDATE_TIME_  \n",
       "0  2017/1/1 02:15:00  \n",
       "1  2017/1/1 03:15:00  \n",
       "2  2017/1/1 04:15:00  \n",
       "3  2017/1/1 05:15:00  \n",
       "4  2017/1/1 06:15:00  "
      ]
     },
     "execution_count": 3,
     "metadata": {},
     "output_type": "execute_result"
    }
   ],
   "source": [
    "train_data.head()"
   ]
  },
  {
   "cell_type": "code",
   "execution_count": 4,
   "metadata": {},
   "outputs": [],
   "source": [
    "train_data = train_data.loc[train_data['DATA_TIME_']!='2017/5/31 23:00:00']"
   ]
  },
  {
   "cell_type": "code",
   "execution_count": 5,
   "metadata": {},
   "outputs": [],
   "source": [
    "#计算更新时间间隔\n",
    "train_data['UPDATE_time']=(pd.to_datetime(train_data['UPDATE_TIME_'],format='%Y%m%d',errors='coerce')-\\\n",
    "                      pd.to_datetime(train_data['DATA_TIME_'],format='%Y%m%d',errors='coerce')).dt.days"
   ]
  },
  {
   "cell_type": "code",
   "execution_count": 6,
   "metadata": {},
   "outputs": [
    {
     "data": {
      "text/plain": [
       "DatetimeIndex(['2017-01-01 01:00:00', '2017-01-01 02:00:00',\n",
       "               '2017-01-01 03:00:00', '2017-01-01 04:00:00',\n",
       "               '2017-01-01 05:00:00'],\n",
       "              dtype='datetime64[ns]', freq='H')"
      ]
     },
     "execution_count": 6,
     "metadata": {},
     "output_type": "execute_result"
    }
   ],
   "source": [
    "date_range = pd.date_range('2017/1/1 01:00:00','2017/12/31 23:00:00',freq='1h')\n",
    "date_range[:5]"
   ]
  },
  {
   "cell_type": "code",
   "execution_count": 7,
   "metadata": {},
   "outputs": [
    {
     "data": {
      "text/html": [
       "<div>\n",
       "<style scoped>\n",
       "    .dataframe tbody tr th:only-of-type {\n",
       "        vertical-align: middle;\n",
       "    }\n",
       "\n",
       "    .dataframe tbody tr th {\n",
       "        vertical-align: top;\n",
       "    }\n",
       "\n",
       "    .dataframe thead th {\n",
       "        text-align: right;\n",
       "    }\n",
       "</style>\n",
       "<table border=\"1\" class=\"dataframe\">\n",
       "  <thead>\n",
       "    <tr style=\"text-align: right;\">\n",
       "      <th></th>\n",
       "      <th>MN_</th>\n",
       "      <th>DATA_TIME_</th>\n",
       "    </tr>\n",
       "  </thead>\n",
       "  <tbody>\n",
       "    <tr>\n",
       "      <td>0</td>\n",
       "      <td>51010501002</td>\n",
       "      <td>2017-01-01 01:00:00</td>\n",
       "    </tr>\n",
       "    <tr>\n",
       "      <td>1</td>\n",
       "      <td>51010501002</td>\n",
       "      <td>2017-01-01 02:00:00</td>\n",
       "    </tr>\n",
       "    <tr>\n",
       "      <td>2</td>\n",
       "      <td>51010501002</td>\n",
       "      <td>2017-01-01 03:00:00</td>\n",
       "    </tr>\n",
       "    <tr>\n",
       "      <td>3</td>\n",
       "      <td>51010501002</td>\n",
       "      <td>2017-01-01 04:00:00</td>\n",
       "    </tr>\n",
       "    <tr>\n",
       "      <td>4</td>\n",
       "      <td>51010501002</td>\n",
       "      <td>2017-01-01 05:00:00</td>\n",
       "    </tr>\n",
       "  </tbody>\n",
       "</table>\n",
       "</div>"
      ],
      "text/plain": [
       "           MN_          DATA_TIME_\n",
       "0  51010501002 2017-01-01 01:00:00\n",
       "1  51010501002 2017-01-01 02:00:00\n",
       "2  51010501002 2017-01-01 03:00:00\n",
       "3  51010501002 2017-01-01 04:00:00\n",
       "4  51010501002 2017-01-01 05:00:00"
      ]
     },
     "execution_count": 7,
     "metadata": {},
     "output_type": "execute_result"
    }
   ],
   "source": [
    "nex_date_range = pd.MultiIndex.from_product([train_data['MN_'].unique(),date_range],\n",
    "                                           names = ['MN_','DATA_TIME_'])\n",
    "new_df = pd.DataFrame(index = nex_date_range).reset_index()\n",
    "new_df.head()"
   ]
  },
  {
   "cell_type": "code",
   "execution_count": 8,
   "metadata": {},
   "outputs": [],
   "source": [
    "train_data['DATA_TIME_'] = train_data.DATA_TIME_.apply(lambda x:pd.to_datetime(x))\n",
    "train_data['UPDATE_TIME_'] = train_data.UPDATE_TIME_.apply(lambda x:pd.to_datetime(x))"
   ]
  },
  {
   "cell_type": "code",
   "execution_count": 9,
   "metadata": {},
   "outputs": [],
   "source": [
    "#合并new_df和train_data\n",
    "df = pd.merge(new_df,train_data,on = ['MN_','DATA_TIME_'],how = 'left')"
   ]
  },
  {
   "cell_type": "code",
   "execution_count": 10,
   "metadata": {},
   "outputs": [
    {
     "data": {
      "text/html": [
       "<div>\n",
       "<style scoped>\n",
       "    .dataframe tbody tr th:only-of-type {\n",
       "        vertical-align: middle;\n",
       "    }\n",
       "\n",
       "    .dataframe tbody tr th {\n",
       "        vertical-align: top;\n",
       "    }\n",
       "\n",
       "    .dataframe thead th {\n",
       "        text-align: right;\n",
       "    }\n",
       "</style>\n",
       "<table border=\"1\" class=\"dataframe\">\n",
       "  <thead>\n",
       "    <tr style=\"text-align: right;\">\n",
       "      <th></th>\n",
       "      <th>MN_</th>\n",
       "      <th>DATA_TIME_</th>\n",
       "      <th>C_SO2_1H</th>\n",
       "      <th>I_SO2_1H</th>\n",
       "      <th>C_NO2_1H</th>\n",
       "      <th>I_NO2_1H</th>\n",
       "      <th>C_PM10_1H</th>\n",
       "      <th>I_PM10_24H_MV</th>\n",
       "      <th>C_CO1_1H</th>\n",
       "      <th>I_CO1_1H</th>\n",
       "      <th>...</th>\n",
       "      <th>I_O3_1H</th>\n",
       "      <th>C_PM25_1H</th>\n",
       "      <th>I_PM25_24H_MV</th>\n",
       "      <th>AQI_</th>\n",
       "      <th>PRIMARY_POLLUTANTS_</th>\n",
       "      <th>LEVEL_</th>\n",
       "      <th>CATEGORY_</th>\n",
       "      <th>COLOR_</th>\n",
       "      <th>UPDATE_TIME_</th>\n",
       "      <th>UPDATE_time</th>\n",
       "    </tr>\n",
       "  </thead>\n",
       "  <tbody>\n",
       "    <tr>\n",
       "      <td>0</td>\n",
       "      <td>51010501002</td>\n",
       "      <td>2017-01-01 01:00:00</td>\n",
       "      <td>NaN</td>\n",
       "      <td>NaN</td>\n",
       "      <td>NaN</td>\n",
       "      <td>NaN</td>\n",
       "      <td>NaN</td>\n",
       "      <td>NaN</td>\n",
       "      <td>NaN</td>\n",
       "      <td>NaN</td>\n",
       "      <td>...</td>\n",
       "      <td>NaN</td>\n",
       "      <td>NaN</td>\n",
       "      <td>NaN</td>\n",
       "      <td>NaN</td>\n",
       "      <td>NaN</td>\n",
       "      <td>NaN</td>\n",
       "      <td>NaN</td>\n",
       "      <td>NaN</td>\n",
       "      <td>2017-01-01 02:15:00</td>\n",
       "      <td>NaN</td>\n",
       "    </tr>\n",
       "    <tr>\n",
       "      <td>1</td>\n",
       "      <td>51010501002</td>\n",
       "      <td>2017-01-01 02:00:00</td>\n",
       "      <td>NaN</td>\n",
       "      <td>NaN</td>\n",
       "      <td>NaN</td>\n",
       "      <td>NaN</td>\n",
       "      <td>NaN</td>\n",
       "      <td>NaN</td>\n",
       "      <td>NaN</td>\n",
       "      <td>NaN</td>\n",
       "      <td>...</td>\n",
       "      <td>NaN</td>\n",
       "      <td>NaN</td>\n",
       "      <td>NaN</td>\n",
       "      <td>NaN</td>\n",
       "      <td>NaN</td>\n",
       "      <td>NaN</td>\n",
       "      <td>NaN</td>\n",
       "      <td>NaN</td>\n",
       "      <td>2017-01-01 03:15:00</td>\n",
       "      <td>NaN</td>\n",
       "    </tr>\n",
       "    <tr>\n",
       "      <td>2</td>\n",
       "      <td>51010501002</td>\n",
       "      <td>2017-01-01 03:00:00</td>\n",
       "      <td>NaN</td>\n",
       "      <td>NaN</td>\n",
       "      <td>NaN</td>\n",
       "      <td>NaN</td>\n",
       "      <td>NaN</td>\n",
       "      <td>NaN</td>\n",
       "      <td>NaN</td>\n",
       "      <td>NaN</td>\n",
       "      <td>...</td>\n",
       "      <td>NaN</td>\n",
       "      <td>NaN</td>\n",
       "      <td>NaN</td>\n",
       "      <td>NaN</td>\n",
       "      <td>NaN</td>\n",
       "      <td>NaN</td>\n",
       "      <td>NaN</td>\n",
       "      <td>NaN</td>\n",
       "      <td>2017-01-01 04:15:00</td>\n",
       "      <td>NaN</td>\n",
       "    </tr>\n",
       "    <tr>\n",
       "      <td>3</td>\n",
       "      <td>51010501002</td>\n",
       "      <td>2017-01-01 04:00:00</td>\n",
       "      <td>20.0</td>\n",
       "      <td>7.0</td>\n",
       "      <td>81.0</td>\n",
       "      <td>41.0</td>\n",
       "      <td>302.0</td>\n",
       "      <td>176.0</td>\n",
       "      <td>1.174</td>\n",
       "      <td>12.0</td>\n",
       "      <td>...</td>\n",
       "      <td>1.0</td>\n",
       "      <td>146.0</td>\n",
       "      <td>195.0</td>\n",
       "      <td>195.0</td>\n",
       "      <td>PM2.5</td>\n",
       "      <td>四级</td>\n",
       "      <td>中度污染</td>\n",
       "      <td>红色</td>\n",
       "      <td>2017-01-01 05:15:00</td>\n",
       "      <td>NaN</td>\n",
       "    </tr>\n",
       "    <tr>\n",
       "      <td>4</td>\n",
       "      <td>51010501002</td>\n",
       "      <td>2017-01-01 05:00:00</td>\n",
       "      <td>31.0</td>\n",
       "      <td>11.0</td>\n",
       "      <td>78.0</td>\n",
       "      <td>39.0</td>\n",
       "      <td>289.0</td>\n",
       "      <td>170.0</td>\n",
       "      <td>1.028</td>\n",
       "      <td>11.0</td>\n",
       "      <td>...</td>\n",
       "      <td>1.0</td>\n",
       "      <td>142.0</td>\n",
       "      <td>189.0</td>\n",
       "      <td>189.0</td>\n",
       "      <td>PM2.5</td>\n",
       "      <td>四级</td>\n",
       "      <td>中度污染</td>\n",
       "      <td>红色</td>\n",
       "      <td>2017-01-01 06:15:00</td>\n",
       "      <td>NaN</td>\n",
       "    </tr>\n",
       "    <tr>\n",
       "      <td>70067</td>\n",
       "      <td>51010801001</td>\n",
       "      <td>2017-12-31 19:00:00</td>\n",
       "      <td>NaN</td>\n",
       "      <td>NaN</td>\n",
       "      <td>NaN</td>\n",
       "      <td>NaN</td>\n",
       "      <td>NaN</td>\n",
       "      <td>NaN</td>\n",
       "      <td>NaN</td>\n",
       "      <td>NaN</td>\n",
       "      <td>...</td>\n",
       "      <td>NaN</td>\n",
       "      <td>NaN</td>\n",
       "      <td>NaN</td>\n",
       "      <td>NaN</td>\n",
       "      <td>NaN</td>\n",
       "      <td>NaN</td>\n",
       "      <td>NaN</td>\n",
       "      <td>NaN</td>\n",
       "      <td>NaT</td>\n",
       "      <td>NaN</td>\n",
       "    </tr>\n",
       "    <tr>\n",
       "      <td>70068</td>\n",
       "      <td>51010801001</td>\n",
       "      <td>2017-12-31 20:00:00</td>\n",
       "      <td>NaN</td>\n",
       "      <td>NaN</td>\n",
       "      <td>NaN</td>\n",
       "      <td>NaN</td>\n",
       "      <td>NaN</td>\n",
       "      <td>NaN</td>\n",
       "      <td>NaN</td>\n",
       "      <td>NaN</td>\n",
       "      <td>...</td>\n",
       "      <td>NaN</td>\n",
       "      <td>NaN</td>\n",
       "      <td>NaN</td>\n",
       "      <td>NaN</td>\n",
       "      <td>NaN</td>\n",
       "      <td>NaN</td>\n",
       "      <td>NaN</td>\n",
       "      <td>NaN</td>\n",
       "      <td>NaT</td>\n",
       "      <td>NaN</td>\n",
       "    </tr>\n",
       "    <tr>\n",
       "      <td>70069</td>\n",
       "      <td>51010801001</td>\n",
       "      <td>2017-12-31 21:00:00</td>\n",
       "      <td>NaN</td>\n",
       "      <td>NaN</td>\n",
       "      <td>NaN</td>\n",
       "      <td>NaN</td>\n",
       "      <td>NaN</td>\n",
       "      <td>NaN</td>\n",
       "      <td>NaN</td>\n",
       "      <td>NaN</td>\n",
       "      <td>...</td>\n",
       "      <td>NaN</td>\n",
       "      <td>NaN</td>\n",
       "      <td>NaN</td>\n",
       "      <td>NaN</td>\n",
       "      <td>NaN</td>\n",
       "      <td>NaN</td>\n",
       "      <td>NaN</td>\n",
       "      <td>NaN</td>\n",
       "      <td>NaT</td>\n",
       "      <td>NaN</td>\n",
       "    </tr>\n",
       "    <tr>\n",
       "      <td>70070</td>\n",
       "      <td>51010801001</td>\n",
       "      <td>2017-12-31 22:00:00</td>\n",
       "      <td>NaN</td>\n",
       "      <td>NaN</td>\n",
       "      <td>NaN</td>\n",
       "      <td>NaN</td>\n",
       "      <td>NaN</td>\n",
       "      <td>NaN</td>\n",
       "      <td>NaN</td>\n",
       "      <td>NaN</td>\n",
       "      <td>...</td>\n",
       "      <td>NaN</td>\n",
       "      <td>NaN</td>\n",
       "      <td>NaN</td>\n",
       "      <td>NaN</td>\n",
       "      <td>NaN</td>\n",
       "      <td>NaN</td>\n",
       "      <td>NaN</td>\n",
       "      <td>NaN</td>\n",
       "      <td>NaT</td>\n",
       "      <td>NaN</td>\n",
       "    </tr>\n",
       "    <tr>\n",
       "      <td>70071</td>\n",
       "      <td>51010801001</td>\n",
       "      <td>2017-12-31 23:00:00</td>\n",
       "      <td>NaN</td>\n",
       "      <td>NaN</td>\n",
       "      <td>NaN</td>\n",
       "      <td>NaN</td>\n",
       "      <td>NaN</td>\n",
       "      <td>NaN</td>\n",
       "      <td>NaN</td>\n",
       "      <td>NaN</td>\n",
       "      <td>...</td>\n",
       "      <td>NaN</td>\n",
       "      <td>NaN</td>\n",
       "      <td>NaN</td>\n",
       "      <td>NaN</td>\n",
       "      <td>NaN</td>\n",
       "      <td>NaN</td>\n",
       "      <td>NaN</td>\n",
       "      <td>NaN</td>\n",
       "      <td>NaT</td>\n",
       "      <td>NaN</td>\n",
       "    </tr>\n",
       "  </tbody>\n",
       "</table>\n",
       "<p>10 rows × 21 columns</p>\n",
       "</div>"
      ],
      "text/plain": [
       "               MN_          DATA_TIME_  C_SO2_1H  I_SO2_1H  C_NO2_1H  \\\n",
       "0      51010501002 2017-01-01 01:00:00       NaN       NaN       NaN   \n",
       "1      51010501002 2017-01-01 02:00:00       NaN       NaN       NaN   \n",
       "2      51010501002 2017-01-01 03:00:00       NaN       NaN       NaN   \n",
       "3      51010501002 2017-01-01 04:00:00      20.0       7.0      81.0   \n",
       "4      51010501002 2017-01-01 05:00:00      31.0      11.0      78.0   \n",
       "70067  51010801001 2017-12-31 19:00:00       NaN       NaN       NaN   \n",
       "70068  51010801001 2017-12-31 20:00:00       NaN       NaN       NaN   \n",
       "70069  51010801001 2017-12-31 21:00:00       NaN       NaN       NaN   \n",
       "70070  51010801001 2017-12-31 22:00:00       NaN       NaN       NaN   \n",
       "70071  51010801001 2017-12-31 23:00:00       NaN       NaN       NaN   \n",
       "\n",
       "       I_NO2_1H  C_PM10_1H  I_PM10_24H_MV  C_CO1_1H  I_CO1_1H  ...  I_O3_1H  \\\n",
       "0           NaN        NaN            NaN       NaN       NaN  ...      NaN   \n",
       "1           NaN        NaN            NaN       NaN       NaN  ...      NaN   \n",
       "2           NaN        NaN            NaN       NaN       NaN  ...      NaN   \n",
       "3          41.0      302.0          176.0     1.174      12.0  ...      1.0   \n",
       "4          39.0      289.0          170.0     1.028      11.0  ...      1.0   \n",
       "70067       NaN        NaN            NaN       NaN       NaN  ...      NaN   \n",
       "70068       NaN        NaN            NaN       NaN       NaN  ...      NaN   \n",
       "70069       NaN        NaN            NaN       NaN       NaN  ...      NaN   \n",
       "70070       NaN        NaN            NaN       NaN       NaN  ...      NaN   \n",
       "70071       NaN        NaN            NaN       NaN       NaN  ...      NaN   \n",
       "\n",
       "       C_PM25_1H  I_PM25_24H_MV   AQI_  PRIMARY_POLLUTANTS_ LEVEL_ CATEGORY_  \\\n",
       "0            NaN            NaN    NaN                  NaN    NaN       NaN   \n",
       "1            NaN            NaN    NaN                  NaN    NaN       NaN   \n",
       "2            NaN            NaN    NaN                  NaN    NaN       NaN   \n",
       "3          146.0          195.0  195.0                PM2.5     四级      中度污染   \n",
       "4          142.0          189.0  189.0                PM2.5     四级      中度污染   \n",
       "70067        NaN            NaN    NaN                  NaN    NaN       NaN   \n",
       "70068        NaN            NaN    NaN                  NaN    NaN       NaN   \n",
       "70069        NaN            NaN    NaN                  NaN    NaN       NaN   \n",
       "70070        NaN            NaN    NaN                  NaN    NaN       NaN   \n",
       "70071        NaN            NaN    NaN                  NaN    NaN       NaN   \n",
       "\n",
       "      COLOR_        UPDATE_TIME_ UPDATE_time  \n",
       "0        NaN 2017-01-01 02:15:00         NaN  \n",
       "1        NaN 2017-01-01 03:15:00         NaN  \n",
       "2        NaN 2017-01-01 04:15:00         NaN  \n",
       "3         红色 2017-01-01 05:15:00         NaN  \n",
       "4         红色 2017-01-01 06:15:00         NaN  \n",
       "70067    NaN                 NaT         NaN  \n",
       "70068    NaN                 NaT         NaN  \n",
       "70069    NaN                 NaT         NaN  \n",
       "70070    NaN                 NaT         NaN  \n",
       "70071    NaN                 NaT         NaN  \n",
       "\n",
       "[10 rows x 21 columns]"
      ]
     },
     "execution_count": 10,
     "metadata": {},
     "output_type": "execute_result"
    }
   ],
   "source": [
    "df.head().append(df.tail())"
   ]
  },
  {
   "cell_type": "code",
   "execution_count": 11,
   "metadata": {},
   "outputs": [],
   "source": [
    "df['date'] = df['DATA_TIME_'].dt.strftime('%Y-%m-%d')"
   ]
  },
  {
   "cell_type": "code",
   "execution_count": 12,
   "metadata": {},
   "outputs": [],
   "source": [
    "df.to_csv('df.csv')"
   ]
  },
  {
   "cell_type": "code",
   "execution_count": 65,
   "metadata": {},
   "outputs": [],
   "source": [
    "df= pd.read_csv('df.csv',index_col=0)"
   ]
  },
  {
   "cell_type": "code",
   "execution_count": 71,
   "metadata": {},
   "outputs": [
    {
     "data": {
      "text/plain": [
       "Index(['MN_', 'DATA_TIME_', 'C_SO2_1H', 'I_SO2_1H', 'C_NO2_1H', 'I_NO2_1H',\n",
       "       'C_PM10_1H', 'I_PM10_24H_MV', 'C_CO1_1H', 'I_CO1_1H', 'C_O3_1H',\n",
       "       'I_O3_1H', 'C_PM25_1H', 'I_PM25_24H_MV', 'AQI_', 'PRIMARY_POLLUTANTS_',\n",
       "       'LEVEL_', 'CATEGORY_', 'COLOR_', 'UPDATE_TIME_', 'UPDATE_time', 'date'],\n",
       "      dtype='object')"
      ]
     },
     "execution_count": 71,
     "metadata": {},
     "output_type": "execute_result"
    }
   ],
   "source": [
    "df.columns"
   ]
  },
  {
   "cell_type": "code",
   "execution_count": 106,
   "metadata": {},
   "outputs": [
    {
     "name": "stdout",
     "output_type": "stream",
     "text": [
      "<class 'pandas.core.frame.DataFrame'>\n",
      "Int64Index: 70072 entries, 0 to 70071\n",
      "Data columns (total 21 columns):\n",
      "MN_                    70072 non-null int64\n",
      "DATA_TIME_             70072 non-null datetime64[ns]\n",
      "C_SO2_1H               54047 non-null float64\n",
      "I_SO2_1H               54005 non-null float64\n",
      "C_NO2_1H               56877 non-null float64\n",
      "I_NO2_1H               56835 non-null float64\n",
      "C_PM10_1H              56062 non-null float64\n",
      "I_PM10_24H_MV          56020 non-null float64\n",
      "C_CO1_1H               56920 non-null float64\n",
      "I_CO1_1H               56878 non-null float64\n",
      "C_O3_1H                52296 non-null float64\n",
      "I_O3_1H                52254 non-null float64\n",
      "C_PM25_1H              56635 non-null float64\n",
      "I_PM25_24H_MV          56593 non-null float64\n",
      "AQI_                   57209 non-null float64\n",
      "PRIMARY_POLLUTANTS_    36499 non-null float64\n",
      "LEVEL_                 57209 non-null float64\n",
      "CATEGORY_              57209 non-null float64\n",
      "COLOR_                 57209 non-null float64\n",
      "UPDATE_TIME_           59967 non-null datetime64[ns]\n",
      "date                   70072 non-null datetime64[ns]\n",
      "dtypes: datetime64[ns](3), float64(17), int64(1)\n",
      "memory usage: 11.8 MB\n"
     ]
    }
   ],
   "source": [
    "df.info()"
   ]
  },
  {
   "cell_type": "code",
   "execution_count": 86,
   "metadata": {},
   "outputs": [
    {
     "data": {
      "text/plain": [
       "array([nan, 'PM2.5', 'PM10', 'PM10,PM2.5', 'NO2', 'O3-1小时',\n",
       "       'O3-1小时,PM2.5', 'SO2', 'NO2,PM10', 'PM10,O3-1小时', 'CO',\n",
       "       'NO2,PM2.5', 'NO2,PM10,PM2.5'], dtype=object)"
      ]
     },
     "execution_count": 86,
     "metadata": {},
     "output_type": "execute_result"
    }
   ],
   "source": [
    "df.PRIMARY_POLLUTANTS_.unique()"
   ]
  },
  {
   "cell_type": "code",
   "execution_count": 85,
   "metadata": {},
   "outputs": [],
   "source": [
    "df.PRIMARY_POLLUTANTS_.replace('-',np.nan,inplace=True)"
   ]
  },
  {
   "cell_type": "code",
   "execution_count": 91,
   "metadata": {},
   "outputs": [],
   "source": [
    "df.loc[df.PRIMARY_POLLUTANTS_=='PM2.5','PRIMARY_POLLUTANTS_']=1\n",
    "df.loc[df.PRIMARY_POLLUTANTS_=='PM10','PRIMARY_POLLUTANTS_']=2\n",
    "df.loc[df.PRIMARY_POLLUTANTS_=='PM10,PM2.5','PRIMARY_POLLUTANTS_']=3\n",
    "df.loc[df.PRIMARY_POLLUTANTS_=='NO2','PRIMARY_POLLUTANTS_']=4\n",
    "df.loc[df.PRIMARY_POLLUTANTS_=='O3-1小时','PRIMARY_POLLUTANTS_']=5\n",
    "df.loc[df.PRIMARY_POLLUTANTS_=='O3-1小时,PM2.5','PRIMARY_POLLUTANTS_']=6\n",
    "df.loc[df.PRIMARY_POLLUTANTS_=='SO2','PRIMARY_POLLUTANTS_']=7\n",
    "df.loc[df.PRIMARY_POLLUTANTS_=='NO2,PM10','PRIMARY_POLLUTANTS_']=8\n",
    "df.loc[df.PRIMARY_POLLUTANTS_=='PM10,O3-1小时','PRIMARY_POLLUTANTS_']=9\n",
    "df.loc[df.PRIMARY_POLLUTANTS_=='CO','PRIMARY_POLLUTANTS_']=10\n",
    "df.loc[df.PRIMARY_POLLUTANTS_=='NO2,PM2.5','PRIMARY_POLLUTANTS_']=11\n",
    "df.loc[df.PRIMARY_POLLUTANTS_=='NO2,PM10,PM2.5','PRIMARY_POLLUTANTS_']=12\n",
    "df.loc[df.PRIMARY_POLLUTANTS_==np.nan,'PRIMARY_POLLUTANTS_']=np.nan"
   ]
  },
  {
   "cell_type": "code",
   "execution_count": 76,
   "metadata": {},
   "outputs": [],
   "source": [
    "df.loc[df.LEVEL_=='一级','LEVEL_']=1\n",
    "df.loc[df.LEVEL_=='二级','LEVEL_']=2\n",
    "df.loc[df.LEVEL_=='三级','LEVEL_']=3\n",
    "df.loc[df.LEVEL_=='四级','LEVEL_']=4\n",
    "df.loc[df.LEVEL_=='五级','LEVEL_']=5\n",
    "df.loc[df.LEVEL_=='六级','LEVEL_']=6\n",
    "df.loc[df.LEVEL_==np.nan,'LEVEL_']=np.nan"
   ]
  },
  {
   "cell_type": "code",
   "execution_count": 74,
   "metadata": {},
   "outputs": [
    {
     "data": {
      "text/plain": [
       "array([nan, '中度污染', '重度污染', '轻度污染', '严重污染', '良', '优'], dtype=object)"
      ]
     },
     "execution_count": 74,
     "metadata": {},
     "output_type": "execute_result"
    }
   ],
   "source": [
    "df.CATEGORY_.unique()"
   ]
  },
  {
   "cell_type": "code",
   "execution_count": 77,
   "metadata": {},
   "outputs": [],
   "source": [
    "df.loc[df.CATEGORY_=='中度污染','CATEGORY_']=1\n",
    "df.loc[df.CATEGORY_=='重度污染','CATEGORY_']=2\n",
    "df.loc[df.CATEGORY_=='轻度污染','CATEGORY_']=3\n",
    "df.loc[df.CATEGORY_=='严重污染','CATEGORY_']=4\n",
    "df.loc[df.CATEGORY_=='良','CATEGORY_']=5\n",
    "df.loc[df.CATEGORY_=='优','CATEGORY_']=6\n",
    "df.loc[df.CATEGORY_==np.nan,'CATEGORY_']=np.nan"
   ]
  },
  {
   "cell_type": "code",
   "execution_count": 75,
   "metadata": {},
   "outputs": [
    {
     "data": {
      "text/plain": [
       "array([nan, '红色', '紫色', '橙色', '褐红色', '黄色', '绿色'], dtype=object)"
      ]
     },
     "execution_count": 75,
     "metadata": {},
     "output_type": "execute_result"
    }
   ],
   "source": [
    "df.COLOR_.unique()"
   ]
  },
  {
   "cell_type": "code",
   "execution_count": 78,
   "metadata": {},
   "outputs": [],
   "source": [
    "df.loc[df.COLOR_=='红色','COLOR_']=1\n",
    "df.loc[df.COLOR_=='紫色','COLOR_']=2\n",
    "df.loc[df.COLOR_=='橙色','COLOR_']=3\n",
    "df.loc[df.COLOR_=='褐红色','COLOR_']=4\n",
    "df.loc[df.COLOR_=='黄色','COLOR_']=5\n",
    "df.loc[df.COLOR_=='绿色','COLOR_']=6\n",
    "df.loc[df.COLOR_==np.nan,'COLOR_']=np.nan"
   ]
  },
  {
   "cell_type": "code",
   "execution_count": 98,
   "metadata": {},
   "outputs": [],
   "source": [
    "df['PRIMARY_POLLUTANTS_']=df.PRIMARY_POLLUTANTS_.apply(lambda x:float(x))\n",
    "df['LEVEL_']=df.LEVEL_.apply(lambda x:float(x))\n",
    "df['CATEGORY_']=df.CATEGORY_.apply(lambda x:float(x))\n",
    "df['COLOR_']=df.COLOR_.apply(lambda x:float(x))"
   ]
  },
  {
   "cell_type": "code",
   "execution_count": 100,
   "metadata": {},
   "outputs": [],
   "source": [
    "del df['UPDATE_time']"
   ]
  },
  {
   "cell_type": "code",
   "execution_count": 103,
   "metadata": {},
   "outputs": [],
   "source": [
    "df['DATA_TIME_'] = df.DATA_TIME_.apply(lambda x:pd.to_datetime(x))\n",
    "df['UPDATE_TIME_'] = df.UPDATE_TIME_.apply(lambda x:pd.to_datetime(x))\n",
    "df['date'] = df.date.apply(lambda x:pd.to_datetime(x))"
   ]
  },
  {
   "cell_type": "code",
   "execution_count": 107,
   "metadata": {},
   "outputs": [],
   "source": [
    "df.to_csv('df_number.csv')"
   ]
  },
  {
   "cell_type": "markdown",
   "metadata": {},
   "source": [
    "补全时间序列"
   ]
  },
  {
   "cell_type": "code",
   "execution_count": 134,
   "metadata": {},
   "outputs": [],
   "source": [
    "df = pd.read_csv('df_number.csv',index_col=0)"
   ]
  },
  {
   "cell_type": "code",
   "execution_count": 135,
   "metadata": {},
   "outputs": [],
   "source": [
    "df['AQI_'] = np.log(df.AQI_+1)"
   ]
  },
  {
   "cell_type": "code",
   "execution_count": 136,
   "metadata": {},
   "outputs": [],
   "source": [
    "df['AQI_1'] = df['AQI_']"
   ]
  },
  {
   "cell_type": "code",
   "execution_count": 137,
   "metadata": {},
   "outputs": [
    {
     "data": {
      "text/html": [
       "<div>\n",
       "<style scoped>\n",
       "    .dataframe tbody tr th:only-of-type {\n",
       "        vertical-align: middle;\n",
       "    }\n",
       "\n",
       "    .dataframe tbody tr th {\n",
       "        vertical-align: top;\n",
       "    }\n",
       "\n",
       "    .dataframe thead th {\n",
       "        text-align: right;\n",
       "    }\n",
       "</style>\n",
       "<table border=\"1\" class=\"dataframe\">\n",
       "  <thead>\n",
       "    <tr style=\"text-align: right;\">\n",
       "      <th></th>\n",
       "      <th>MN_</th>\n",
       "      <th>DATA_TIME_</th>\n",
       "      <th>C_SO2_1H</th>\n",
       "      <th>I_SO2_1H</th>\n",
       "      <th>C_NO2_1H</th>\n",
       "      <th>I_NO2_1H</th>\n",
       "      <th>C_PM10_1H</th>\n",
       "      <th>I_PM10_24H_MV</th>\n",
       "      <th>C_CO1_1H</th>\n",
       "      <th>I_CO1_1H</th>\n",
       "      <th>...</th>\n",
       "      <th>C_PM25_1H</th>\n",
       "      <th>I_PM25_24H_MV</th>\n",
       "      <th>AQI_</th>\n",
       "      <th>PRIMARY_POLLUTANTS_</th>\n",
       "      <th>LEVEL_</th>\n",
       "      <th>CATEGORY_</th>\n",
       "      <th>COLOR_</th>\n",
       "      <th>UPDATE_TIME_</th>\n",
       "      <th>date</th>\n",
       "      <th>AQI_1</th>\n",
       "    </tr>\n",
       "  </thead>\n",
       "  <tbody>\n",
       "    <tr>\n",
       "      <td>0</td>\n",
       "      <td>51010501002</td>\n",
       "      <td>2017-01-01 01:00:00</td>\n",
       "      <td>NaN</td>\n",
       "      <td>NaN</td>\n",
       "      <td>NaN</td>\n",
       "      <td>NaN</td>\n",
       "      <td>NaN</td>\n",
       "      <td>NaN</td>\n",
       "      <td>NaN</td>\n",
       "      <td>NaN</td>\n",
       "      <td>...</td>\n",
       "      <td>NaN</td>\n",
       "      <td>NaN</td>\n",
       "      <td>NaN</td>\n",
       "      <td>NaN</td>\n",
       "      <td>NaN</td>\n",
       "      <td>NaN</td>\n",
       "      <td>NaN</td>\n",
       "      <td>2017-01-01 02:15:00</td>\n",
       "      <td>2017-01-01 00:00:00</td>\n",
       "      <td>NaN</td>\n",
       "    </tr>\n",
       "    <tr>\n",
       "      <td>1</td>\n",
       "      <td>51010501002</td>\n",
       "      <td>2017-01-01 02:00:00</td>\n",
       "      <td>NaN</td>\n",
       "      <td>NaN</td>\n",
       "      <td>NaN</td>\n",
       "      <td>NaN</td>\n",
       "      <td>NaN</td>\n",
       "      <td>NaN</td>\n",
       "      <td>NaN</td>\n",
       "      <td>NaN</td>\n",
       "      <td>...</td>\n",
       "      <td>NaN</td>\n",
       "      <td>NaN</td>\n",
       "      <td>NaN</td>\n",
       "      <td>NaN</td>\n",
       "      <td>NaN</td>\n",
       "      <td>NaN</td>\n",
       "      <td>NaN</td>\n",
       "      <td>2017-01-01 03:15:00</td>\n",
       "      <td>2017-01-01 00:00:00</td>\n",
       "      <td>NaN</td>\n",
       "    </tr>\n",
       "    <tr>\n",
       "      <td>2</td>\n",
       "      <td>51010501002</td>\n",
       "      <td>2017-01-01 03:00:00</td>\n",
       "      <td>NaN</td>\n",
       "      <td>NaN</td>\n",
       "      <td>NaN</td>\n",
       "      <td>NaN</td>\n",
       "      <td>NaN</td>\n",
       "      <td>NaN</td>\n",
       "      <td>NaN</td>\n",
       "      <td>NaN</td>\n",
       "      <td>...</td>\n",
       "      <td>NaN</td>\n",
       "      <td>NaN</td>\n",
       "      <td>NaN</td>\n",
       "      <td>NaN</td>\n",
       "      <td>NaN</td>\n",
       "      <td>NaN</td>\n",
       "      <td>NaN</td>\n",
       "      <td>2017-01-01 04:15:00</td>\n",
       "      <td>2017-01-01 00:00:00</td>\n",
       "      <td>NaN</td>\n",
       "    </tr>\n",
       "    <tr>\n",
       "      <td>3</td>\n",
       "      <td>51010501002</td>\n",
       "      <td>2017-01-01 04:00:00</td>\n",
       "      <td>20.0</td>\n",
       "      <td>7.0</td>\n",
       "      <td>81.0</td>\n",
       "      <td>41.0</td>\n",
       "      <td>302.0</td>\n",
       "      <td>176.0</td>\n",
       "      <td>1.174</td>\n",
       "      <td>12.0</td>\n",
       "      <td>...</td>\n",
       "      <td>146.0</td>\n",
       "      <td>195.0</td>\n",
       "      <td>5.278115</td>\n",
       "      <td>1.0</td>\n",
       "      <td>4.0</td>\n",
       "      <td>1.0</td>\n",
       "      <td>1.0</td>\n",
       "      <td>2017-01-01 05:15:00</td>\n",
       "      <td>2017-01-01 00:00:00</td>\n",
       "      <td>5.278115</td>\n",
       "    </tr>\n",
       "    <tr>\n",
       "      <td>4</td>\n",
       "      <td>51010501002</td>\n",
       "      <td>2017-01-01 05:00:00</td>\n",
       "      <td>31.0</td>\n",
       "      <td>11.0</td>\n",
       "      <td>78.0</td>\n",
       "      <td>39.0</td>\n",
       "      <td>289.0</td>\n",
       "      <td>170.0</td>\n",
       "      <td>1.028</td>\n",
       "      <td>11.0</td>\n",
       "      <td>...</td>\n",
       "      <td>142.0</td>\n",
       "      <td>189.0</td>\n",
       "      <td>5.247024</td>\n",
       "      <td>1.0</td>\n",
       "      <td>4.0</td>\n",
       "      <td>1.0</td>\n",
       "      <td>1.0</td>\n",
       "      <td>2017-01-01 06:15:00</td>\n",
       "      <td>2017-01-01 00:00:00</td>\n",
       "      <td>5.247024</td>\n",
       "    </tr>\n",
       "  </tbody>\n",
       "</table>\n",
       "<p>5 rows × 22 columns</p>\n",
       "</div>"
      ],
      "text/plain": [
       "           MN_           DATA_TIME_  C_SO2_1H  I_SO2_1H  C_NO2_1H  I_NO2_1H  \\\n",
       "0  51010501002  2017-01-01 01:00:00       NaN       NaN       NaN       NaN   \n",
       "1  51010501002  2017-01-01 02:00:00       NaN       NaN       NaN       NaN   \n",
       "2  51010501002  2017-01-01 03:00:00       NaN       NaN       NaN       NaN   \n",
       "3  51010501002  2017-01-01 04:00:00      20.0       7.0      81.0      41.0   \n",
       "4  51010501002  2017-01-01 05:00:00      31.0      11.0      78.0      39.0   \n",
       "\n",
       "   C_PM10_1H  I_PM10_24H_MV  C_CO1_1H  I_CO1_1H  ...  C_PM25_1H  \\\n",
       "0        NaN            NaN       NaN       NaN  ...        NaN   \n",
       "1        NaN            NaN       NaN       NaN  ...        NaN   \n",
       "2        NaN            NaN       NaN       NaN  ...        NaN   \n",
       "3      302.0          176.0     1.174      12.0  ...      146.0   \n",
       "4      289.0          170.0     1.028      11.0  ...      142.0   \n",
       "\n",
       "   I_PM25_24H_MV      AQI_  PRIMARY_POLLUTANTS_  LEVEL_  CATEGORY_  COLOR_  \\\n",
       "0            NaN       NaN                  NaN     NaN        NaN     NaN   \n",
       "1            NaN       NaN                  NaN     NaN        NaN     NaN   \n",
       "2            NaN       NaN                  NaN     NaN        NaN     NaN   \n",
       "3          195.0  5.278115                  1.0     4.0        1.0     1.0   \n",
       "4          189.0  5.247024                  1.0     4.0        1.0     1.0   \n",
       "\n",
       "          UPDATE_TIME_                 date     AQI_1  \n",
       "0  2017-01-01 02:15:00  2017-01-01 00:00:00       NaN  \n",
       "1  2017-01-01 03:15:00  2017-01-01 00:00:00       NaN  \n",
       "2  2017-01-01 04:15:00  2017-01-01 00:00:00       NaN  \n",
       "3  2017-01-01 05:15:00  2017-01-01 00:00:00  5.278115  \n",
       "4  2017-01-01 06:15:00  2017-01-01 00:00:00  5.247024  \n",
       "\n",
       "[5 rows x 22 columns]"
      ]
     },
     "execution_count": 137,
     "metadata": {},
     "output_type": "execute_result"
    }
   ],
   "source": [
    "df.head()"
   ]
  },
  {
   "cell_type": "code",
   "execution_count": 138,
   "metadata": {},
   "outputs": [
    {
     "name": "stdout",
     "output_type": "stream",
     "text": [
      "<class 'pandas.core.frame.DataFrame'>\n",
      "Int64Index: 70072 entries, 0 to 70071\n",
      "Data columns (total 22 columns):\n",
      "MN_                    70072 non-null int64\n",
      "DATA_TIME_             70072 non-null object\n",
      "C_SO2_1H               54047 non-null float64\n",
      "I_SO2_1H               54005 non-null float64\n",
      "C_NO2_1H               56877 non-null float64\n",
      "I_NO2_1H               56835 non-null float64\n",
      "C_PM10_1H              56062 non-null float64\n",
      "I_PM10_24H_MV          56020 non-null float64\n",
      "C_CO1_1H               56920 non-null float64\n",
      "I_CO1_1H               56878 non-null float64\n",
      "C_O3_1H                52296 non-null float64\n",
      "I_O3_1H                52254 non-null float64\n",
      "C_PM25_1H              56635 non-null float64\n",
      "I_PM25_24H_MV          56593 non-null float64\n",
      "AQI_                   57209 non-null float64\n",
      "PRIMARY_POLLUTANTS_    36499 non-null float64\n",
      "LEVEL_                 57209 non-null float64\n",
      "CATEGORY_              57209 non-null float64\n",
      "COLOR_                 57209 non-null float64\n",
      "UPDATE_TIME_           59967 non-null object\n",
      "date                   70072 non-null object\n",
      "AQI_1                  57209 non-null float64\n",
      "dtypes: float64(18), int64(1), object(3)\n",
      "memory usage: 12.3+ MB\n"
     ]
    }
   ],
   "source": [
    "df.info()"
   ]
  },
  {
   "cell_type": "code",
   "execution_count": 139,
   "metadata": {},
   "outputs": [],
   "source": [
    "df['DATA_TIME_'] = df.DATA_TIME_.apply(lambda x:pd.to_datetime(x))\n",
    "df['UPDATE_TIME_'] = df.UPDATE_TIME_.apply(lambda x:pd.to_datetime(x))\n",
    "df['date'] = df.date.apply(lambda x:pd.to_datetime(x))"
   ]
  },
  {
   "cell_type": "code",
   "execution_count": 140,
   "metadata": {},
   "outputs": [
    {
     "data": {
      "text/html": [
       "<div>\n",
       "<style scoped>\n",
       "    .dataframe tbody tr th:only-of-type {\n",
       "        vertical-align: middle;\n",
       "    }\n",
       "\n",
       "    .dataframe tbody tr th {\n",
       "        vertical-align: top;\n",
       "    }\n",
       "\n",
       "    .dataframe thead th {\n",
       "        text-align: right;\n",
       "    }\n",
       "</style>\n",
       "<table border=\"1\" class=\"dataframe\">\n",
       "  <thead>\n",
       "    <tr style=\"text-align: right;\">\n",
       "      <th></th>\n",
       "      <th>MN_</th>\n",
       "      <th>DATA_TIME_</th>\n",
       "      <th>C_SO2_1H</th>\n",
       "      <th>I_SO2_1H</th>\n",
       "      <th>C_NO2_1H</th>\n",
       "      <th>I_NO2_1H</th>\n",
       "      <th>C_PM10_1H</th>\n",
       "      <th>I_PM10_24H_MV</th>\n",
       "      <th>C_CO1_1H</th>\n",
       "      <th>I_CO1_1H</th>\n",
       "      <th>...</th>\n",
       "      <th>I_PM25_24H_MV</th>\n",
       "      <th>AQI_</th>\n",
       "      <th>PRIMARY_POLLUTANTS_</th>\n",
       "      <th>LEVEL_</th>\n",
       "      <th>CATEGORY_</th>\n",
       "      <th>COLOR_</th>\n",
       "      <th>UPDATE_TIME_</th>\n",
       "      <th>date</th>\n",
       "      <th>AQI_1</th>\n",
       "      <th>date_hour</th>\n",
       "    </tr>\n",
       "  </thead>\n",
       "  <tbody>\n",
       "    <tr>\n",
       "      <td>0</td>\n",
       "      <td>51010501002</td>\n",
       "      <td>2017-01-01 01:00:00</td>\n",
       "      <td>NaN</td>\n",
       "      <td>NaN</td>\n",
       "      <td>NaN</td>\n",
       "      <td>NaN</td>\n",
       "      <td>NaN</td>\n",
       "      <td>NaN</td>\n",
       "      <td>NaN</td>\n",
       "      <td>NaN</td>\n",
       "      <td>...</td>\n",
       "      <td>NaN</td>\n",
       "      <td>NaN</td>\n",
       "      <td>NaN</td>\n",
       "      <td>NaN</td>\n",
       "      <td>NaN</td>\n",
       "      <td>NaN</td>\n",
       "      <td>2017-01-01 02:15:00</td>\n",
       "      <td>2017-01-01</td>\n",
       "      <td>NaN</td>\n",
       "      <td>2017-01-01-01</td>\n",
       "    </tr>\n",
       "    <tr>\n",
       "      <td>1</td>\n",
       "      <td>51010501002</td>\n",
       "      <td>2017-01-01 02:00:00</td>\n",
       "      <td>NaN</td>\n",
       "      <td>NaN</td>\n",
       "      <td>NaN</td>\n",
       "      <td>NaN</td>\n",
       "      <td>NaN</td>\n",
       "      <td>NaN</td>\n",
       "      <td>NaN</td>\n",
       "      <td>NaN</td>\n",
       "      <td>...</td>\n",
       "      <td>NaN</td>\n",
       "      <td>NaN</td>\n",
       "      <td>NaN</td>\n",
       "      <td>NaN</td>\n",
       "      <td>NaN</td>\n",
       "      <td>NaN</td>\n",
       "      <td>2017-01-01 03:15:00</td>\n",
       "      <td>2017-01-01</td>\n",
       "      <td>NaN</td>\n",
       "      <td>2017-01-01-02</td>\n",
       "    </tr>\n",
       "    <tr>\n",
       "      <td>2</td>\n",
       "      <td>51010501002</td>\n",
       "      <td>2017-01-01 03:00:00</td>\n",
       "      <td>NaN</td>\n",
       "      <td>NaN</td>\n",
       "      <td>NaN</td>\n",
       "      <td>NaN</td>\n",
       "      <td>NaN</td>\n",
       "      <td>NaN</td>\n",
       "      <td>NaN</td>\n",
       "      <td>NaN</td>\n",
       "      <td>...</td>\n",
       "      <td>NaN</td>\n",
       "      <td>NaN</td>\n",
       "      <td>NaN</td>\n",
       "      <td>NaN</td>\n",
       "      <td>NaN</td>\n",
       "      <td>NaN</td>\n",
       "      <td>2017-01-01 04:15:00</td>\n",
       "      <td>2017-01-01</td>\n",
       "      <td>NaN</td>\n",
       "      <td>2017-01-01-03</td>\n",
       "    </tr>\n",
       "    <tr>\n",
       "      <td>3</td>\n",
       "      <td>51010501002</td>\n",
       "      <td>2017-01-01 04:00:00</td>\n",
       "      <td>20.0</td>\n",
       "      <td>7.0</td>\n",
       "      <td>81.0</td>\n",
       "      <td>41.0</td>\n",
       "      <td>302.0</td>\n",
       "      <td>176.0</td>\n",
       "      <td>1.174</td>\n",
       "      <td>12.0</td>\n",
       "      <td>...</td>\n",
       "      <td>195.0</td>\n",
       "      <td>5.278115</td>\n",
       "      <td>1.0</td>\n",
       "      <td>4.0</td>\n",
       "      <td>1.0</td>\n",
       "      <td>1.0</td>\n",
       "      <td>2017-01-01 05:15:00</td>\n",
       "      <td>2017-01-01</td>\n",
       "      <td>5.278115</td>\n",
       "      <td>2017-01-01-04</td>\n",
       "    </tr>\n",
       "    <tr>\n",
       "      <td>4</td>\n",
       "      <td>51010501002</td>\n",
       "      <td>2017-01-01 05:00:00</td>\n",
       "      <td>31.0</td>\n",
       "      <td>11.0</td>\n",
       "      <td>78.0</td>\n",
       "      <td>39.0</td>\n",
       "      <td>289.0</td>\n",
       "      <td>170.0</td>\n",
       "      <td>1.028</td>\n",
       "      <td>11.0</td>\n",
       "      <td>...</td>\n",
       "      <td>189.0</td>\n",
       "      <td>5.247024</td>\n",
       "      <td>1.0</td>\n",
       "      <td>4.0</td>\n",
       "      <td>1.0</td>\n",
       "      <td>1.0</td>\n",
       "      <td>2017-01-01 06:15:00</td>\n",
       "      <td>2017-01-01</td>\n",
       "      <td>5.247024</td>\n",
       "      <td>2017-01-01-05</td>\n",
       "    </tr>\n",
       "  </tbody>\n",
       "</table>\n",
       "<p>5 rows × 23 columns</p>\n",
       "</div>"
      ],
      "text/plain": [
       "           MN_          DATA_TIME_  C_SO2_1H  I_SO2_1H  C_NO2_1H  I_NO2_1H  \\\n",
       "0  51010501002 2017-01-01 01:00:00       NaN       NaN       NaN       NaN   \n",
       "1  51010501002 2017-01-01 02:00:00       NaN       NaN       NaN       NaN   \n",
       "2  51010501002 2017-01-01 03:00:00       NaN       NaN       NaN       NaN   \n",
       "3  51010501002 2017-01-01 04:00:00      20.0       7.0      81.0      41.0   \n",
       "4  51010501002 2017-01-01 05:00:00      31.0      11.0      78.0      39.0   \n",
       "\n",
       "   C_PM10_1H  I_PM10_24H_MV  C_CO1_1H  I_CO1_1H  ...  I_PM25_24H_MV      AQI_  \\\n",
       "0        NaN            NaN       NaN       NaN  ...            NaN       NaN   \n",
       "1        NaN            NaN       NaN       NaN  ...            NaN       NaN   \n",
       "2        NaN            NaN       NaN       NaN  ...            NaN       NaN   \n",
       "3      302.0          176.0     1.174      12.0  ...          195.0  5.278115   \n",
       "4      289.0          170.0     1.028      11.0  ...          189.0  5.247024   \n",
       "\n",
       "   PRIMARY_POLLUTANTS_  LEVEL_  CATEGORY_  COLOR_        UPDATE_TIME_  \\\n",
       "0                  NaN     NaN        NaN     NaN 2017-01-01 02:15:00   \n",
       "1                  NaN     NaN        NaN     NaN 2017-01-01 03:15:00   \n",
       "2                  NaN     NaN        NaN     NaN 2017-01-01 04:15:00   \n",
       "3                  1.0     4.0        1.0     1.0 2017-01-01 05:15:00   \n",
       "4                  1.0     4.0        1.0     1.0 2017-01-01 06:15:00   \n",
       "\n",
       "        date     AQI_1      date_hour  \n",
       "0 2017-01-01       NaN  2017-01-01-01  \n",
       "1 2017-01-01       NaN  2017-01-01-02  \n",
       "2 2017-01-01       NaN  2017-01-01-03  \n",
       "3 2017-01-01  5.278115  2017-01-01-04  \n",
       "4 2017-01-01  5.247024  2017-01-01-05  \n",
       "\n",
       "[5 rows x 23 columns]"
      ]
     },
     "execution_count": 140,
     "metadata": {},
     "output_type": "execute_result"
    }
   ],
   "source": [
    "df['date_hour'] = df.DATA_TIME_.apply(lambda x:x.strftime('%Y-%m-%d-%H'))\n",
    "df.head()"
   ]
  },
  {
   "cell_type": "code",
   "execution_count": 141,
   "metadata": {},
   "outputs": [],
   "source": [
    "df['date_day'] = df.DATA_TIME_.apply(lambda x:x.strftime('%Y-%m-%d'))"
   ]
  },
  {
   "cell_type": "code",
   "execution_count": 142,
   "metadata": {},
   "outputs": [],
   "source": [
    "def date_trend(group):\n",
    "    tmp = group.groupby('date_day').mean().reset_index()\n",
    "\n",
    "    def nan_helper(y):\n",
    "        return np.isnan(y), lambda z: z.nonzero()[0]\n",
    "\n",
    "    y = tmp['AQI_'].values\n",
    "    nans, x = nan_helper(y)\n",
    "\n",
    "    regr = LinearRegression()\n",
    "    regr.fit(x(~nans).reshape(-1, 1), y[~nans].reshape(-1, 1))\n",
    "    tmp['date_trend'] = regr.predict(tmp.index.values.reshape(-1, 1)).ravel()\n",
    "    group = pd.merge(group, tmp[['date_trend', 'date_day']], on='date_day', how='left')\n",
    "    return group"
   ]
  },
  {
   "cell_type": "code",
   "execution_count": 143,
   "metadata": {},
   "outputs": [
    {
     "data": {
      "text/html": [
       "<div>\n",
       "<style scoped>\n",
       "    .dataframe tbody tr th:only-of-type {\n",
       "        vertical-align: middle;\n",
       "    }\n",
       "\n",
       "    .dataframe tbody tr th {\n",
       "        vertical-align: top;\n",
       "    }\n",
       "\n",
       "    .dataframe thead th {\n",
       "        text-align: right;\n",
       "    }\n",
       "</style>\n",
       "<table border=\"1\" class=\"dataframe\">\n",
       "  <thead>\n",
       "    <tr style=\"text-align: right;\">\n",
       "      <th></th>\n",
       "      <th></th>\n",
       "      <th>MN_</th>\n",
       "      <th>DATA_TIME_</th>\n",
       "      <th>C_SO2_1H</th>\n",
       "      <th>I_SO2_1H</th>\n",
       "      <th>C_NO2_1H</th>\n",
       "      <th>I_NO2_1H</th>\n",
       "      <th>C_PM10_1H</th>\n",
       "      <th>I_PM10_24H_MV</th>\n",
       "      <th>C_CO1_1H</th>\n",
       "      <th>I_CO1_1H</th>\n",
       "      <th>...</th>\n",
       "      <th>PRIMARY_POLLUTANTS_</th>\n",
       "      <th>LEVEL_</th>\n",
       "      <th>CATEGORY_</th>\n",
       "      <th>COLOR_</th>\n",
       "      <th>UPDATE_TIME_</th>\n",
       "      <th>date</th>\n",
       "      <th>AQI_1</th>\n",
       "      <th>date_hour</th>\n",
       "      <th>date_day</th>\n",
       "      <th>date_trend</th>\n",
       "    </tr>\n",
       "    <tr>\n",
       "      <th>MN_</th>\n",
       "      <th></th>\n",
       "      <th></th>\n",
       "      <th></th>\n",
       "      <th></th>\n",
       "      <th></th>\n",
       "      <th></th>\n",
       "      <th></th>\n",
       "      <th></th>\n",
       "      <th></th>\n",
       "      <th></th>\n",
       "      <th></th>\n",
       "      <th></th>\n",
       "      <th></th>\n",
       "      <th></th>\n",
       "      <th></th>\n",
       "      <th></th>\n",
       "      <th></th>\n",
       "      <th></th>\n",
       "      <th></th>\n",
       "      <th></th>\n",
       "      <th></th>\n",
       "      <th></th>\n",
       "    </tr>\n",
       "  </thead>\n",
       "  <tbody>\n",
       "    <tr>\n",
       "      <td rowspan=\"5\" valign=\"top\">51010101001</td>\n",
       "      <td>0</td>\n",
       "      <td>51010101001</td>\n",
       "      <td>2017-01-01 01:00:00</td>\n",
       "      <td>NaN</td>\n",
       "      <td>NaN</td>\n",
       "      <td>NaN</td>\n",
       "      <td>NaN</td>\n",
       "      <td>NaN</td>\n",
       "      <td>NaN</td>\n",
       "      <td>NaN</td>\n",
       "      <td>NaN</td>\n",
       "      <td>...</td>\n",
       "      <td>NaN</td>\n",
       "      <td>NaN</td>\n",
       "      <td>NaN</td>\n",
       "      <td>NaN</td>\n",
       "      <td>2017-01-01 02:15:00</td>\n",
       "      <td>2017-01-01</td>\n",
       "      <td>NaN</td>\n",
       "      <td>2017-01-01-01</td>\n",
       "      <td>2017-01-01</td>\n",
       "      <td>4.049894</td>\n",
       "    </tr>\n",
       "    <tr>\n",
       "      <td>1</td>\n",
       "      <td>51010101001</td>\n",
       "      <td>2017-01-01 02:00:00</td>\n",
       "      <td>NaN</td>\n",
       "      <td>NaN</td>\n",
       "      <td>NaN</td>\n",
       "      <td>NaN</td>\n",
       "      <td>NaN</td>\n",
       "      <td>NaN</td>\n",
       "      <td>NaN</td>\n",
       "      <td>NaN</td>\n",
       "      <td>...</td>\n",
       "      <td>NaN</td>\n",
       "      <td>NaN</td>\n",
       "      <td>NaN</td>\n",
       "      <td>NaN</td>\n",
       "      <td>2017-01-01 03:15:00</td>\n",
       "      <td>2017-01-01</td>\n",
       "      <td>NaN</td>\n",
       "      <td>2017-01-01-02</td>\n",
       "      <td>2017-01-01</td>\n",
       "      <td>4.049894</td>\n",
       "    </tr>\n",
       "    <tr>\n",
       "      <td>2</td>\n",
       "      <td>51010101001</td>\n",
       "      <td>2017-01-01 03:00:00</td>\n",
       "      <td>NaN</td>\n",
       "      <td>NaN</td>\n",
       "      <td>NaN</td>\n",
       "      <td>NaN</td>\n",
       "      <td>NaN</td>\n",
       "      <td>NaN</td>\n",
       "      <td>NaN</td>\n",
       "      <td>NaN</td>\n",
       "      <td>...</td>\n",
       "      <td>NaN</td>\n",
       "      <td>NaN</td>\n",
       "      <td>NaN</td>\n",
       "      <td>NaN</td>\n",
       "      <td>2017-01-01 04:15:00</td>\n",
       "      <td>2017-01-01</td>\n",
       "      <td>NaN</td>\n",
       "      <td>2017-01-01-03</td>\n",
       "      <td>2017-01-01</td>\n",
       "      <td>4.049894</td>\n",
       "    </tr>\n",
       "    <tr>\n",
       "      <td>3</td>\n",
       "      <td>51010101001</td>\n",
       "      <td>2017-01-01 04:00:00</td>\n",
       "      <td>22.0</td>\n",
       "      <td>8.0</td>\n",
       "      <td>82.0</td>\n",
       "      <td>41.0</td>\n",
       "      <td>355.0</td>\n",
       "      <td>208.0</td>\n",
       "      <td>1.234</td>\n",
       "      <td>13.0</td>\n",
       "      <td>...</td>\n",
       "      <td>1.0</td>\n",
       "      <td>5.0</td>\n",
       "      <td>2.0</td>\n",
       "      <td>2.0</td>\n",
       "      <td>2017-01-01 05:15:00</td>\n",
       "      <td>2017-01-01</td>\n",
       "      <td>5.379897</td>\n",
       "      <td>2017-01-01-04</td>\n",
       "      <td>2017-01-01</td>\n",
       "      <td>4.049894</td>\n",
       "    </tr>\n",
       "    <tr>\n",
       "      <td>4</td>\n",
       "      <td>51010101001</td>\n",
       "      <td>2017-01-01 05:00:00</td>\n",
       "      <td>19.0</td>\n",
       "      <td>7.0</td>\n",
       "      <td>48.0</td>\n",
       "      <td>24.0</td>\n",
       "      <td>283.0</td>\n",
       "      <td>167.0</td>\n",
       "      <td>0.868</td>\n",
       "      <td>9.0</td>\n",
       "      <td>...</td>\n",
       "      <td>1.0</td>\n",
       "      <td>4.0</td>\n",
       "      <td>1.0</td>\n",
       "      <td>1.0</td>\n",
       "      <td>2017-01-01 06:15:00</td>\n",
       "      <td>2017-01-01</td>\n",
       "      <td>5.214936</td>\n",
       "      <td>2017-01-01-05</td>\n",
       "      <td>2017-01-01</td>\n",
       "      <td>4.049894</td>\n",
       "    </tr>\n",
       "  </tbody>\n",
       "</table>\n",
       "<p>5 rows × 25 columns</p>\n",
       "</div>"
      ],
      "text/plain": [
       "                       MN_          DATA_TIME_  C_SO2_1H  I_SO2_1H  C_NO2_1H  \\\n",
       "MN_                                                                            \n",
       "51010101001 0  51010101001 2017-01-01 01:00:00       NaN       NaN       NaN   \n",
       "            1  51010101001 2017-01-01 02:00:00       NaN       NaN       NaN   \n",
       "            2  51010101001 2017-01-01 03:00:00       NaN       NaN       NaN   \n",
       "            3  51010101001 2017-01-01 04:00:00      22.0       8.0      82.0   \n",
       "            4  51010101001 2017-01-01 05:00:00      19.0       7.0      48.0   \n",
       "\n",
       "               I_NO2_1H  C_PM10_1H  I_PM10_24H_MV  C_CO1_1H  I_CO1_1H  ...  \\\n",
       "MN_                                                                    ...   \n",
       "51010101001 0       NaN        NaN            NaN       NaN       NaN  ...   \n",
       "            1       NaN        NaN            NaN       NaN       NaN  ...   \n",
       "            2       NaN        NaN            NaN       NaN       NaN  ...   \n",
       "            3      41.0      355.0          208.0     1.234      13.0  ...   \n",
       "            4      24.0      283.0          167.0     0.868       9.0  ...   \n",
       "\n",
       "               PRIMARY_POLLUTANTS_  LEVEL_  CATEGORY_  COLOR_  \\\n",
       "MN_                                                             \n",
       "51010101001 0                  NaN     NaN        NaN     NaN   \n",
       "            1                  NaN     NaN        NaN     NaN   \n",
       "            2                  NaN     NaN        NaN     NaN   \n",
       "            3                  1.0     5.0        2.0     2.0   \n",
       "            4                  1.0     4.0        1.0     1.0   \n",
       "\n",
       "                     UPDATE_TIME_       date     AQI_1      date_hour  \\\n",
       "MN_                                                                     \n",
       "51010101001 0 2017-01-01 02:15:00 2017-01-01       NaN  2017-01-01-01   \n",
       "            1 2017-01-01 03:15:00 2017-01-01       NaN  2017-01-01-02   \n",
       "            2 2017-01-01 04:15:00 2017-01-01       NaN  2017-01-01-03   \n",
       "            3 2017-01-01 05:15:00 2017-01-01  5.379897  2017-01-01-04   \n",
       "            4 2017-01-01 06:15:00 2017-01-01  5.214936  2017-01-01-05   \n",
       "\n",
       "                 date_day date_trend  \n",
       "MN_                                   \n",
       "51010101001 0  2017-01-01   4.049894  \n",
       "            1  2017-01-01   4.049894  \n",
       "            2  2017-01-01   4.049894  \n",
       "            3  2017-01-01   4.049894  \n",
       "            4  2017-01-01   4.049894  \n",
       "\n",
       "[5 rows x 25 columns]"
      ]
     },
     "execution_count": 143,
     "metadata": {},
     "output_type": "execute_result"
    }
   ],
   "source": [
    "df = df.groupby('MN_').apply(date_trend)\n",
    "df.head()"
   ]
  },
  {
   "cell_type": "code",
   "execution_count": 144,
   "metadata": {},
   "outputs": [
    {
     "data": {
      "text/html": [
       "<div>\n",
       "<style scoped>\n",
       "    .dataframe tbody tr th:only-of-type {\n",
       "        vertical-align: middle;\n",
       "    }\n",
       "\n",
       "    .dataframe tbody tr th {\n",
       "        vertical-align: top;\n",
       "    }\n",
       "\n",
       "    .dataframe thead th {\n",
       "        text-align: right;\n",
       "    }\n",
       "</style>\n",
       "<table border=\"1\" class=\"dataframe\">\n",
       "  <thead>\n",
       "    <tr style=\"text-align: right;\">\n",
       "      <th></th>\n",
       "      <th>MN_</th>\n",
       "      <th>DATA_TIME_</th>\n",
       "      <th>C_SO2_1H</th>\n",
       "      <th>I_SO2_1H</th>\n",
       "      <th>C_NO2_1H</th>\n",
       "      <th>I_NO2_1H</th>\n",
       "      <th>C_PM10_1H</th>\n",
       "      <th>I_PM10_24H_MV</th>\n",
       "      <th>C_CO1_1H</th>\n",
       "      <th>I_CO1_1H</th>\n",
       "      <th>...</th>\n",
       "      <th>AQI_</th>\n",
       "      <th>PRIMARY_POLLUTANTS_</th>\n",
       "      <th>LEVEL_</th>\n",
       "      <th>CATEGORY_</th>\n",
       "      <th>COLOR_</th>\n",
       "      <th>UPDATE_TIME_</th>\n",
       "      <th>date</th>\n",
       "      <th>AQI_1</th>\n",
       "      <th>date_hour</th>\n",
       "      <th>date_trend</th>\n",
       "    </tr>\n",
       "  </thead>\n",
       "  <tbody>\n",
       "    <tr>\n",
       "      <td>0</td>\n",
       "      <td>51010101001</td>\n",
       "      <td>2017-01-01 01:00:00</td>\n",
       "      <td>NaN</td>\n",
       "      <td>NaN</td>\n",
       "      <td>NaN</td>\n",
       "      <td>NaN</td>\n",
       "      <td>NaN</td>\n",
       "      <td>NaN</td>\n",
       "      <td>NaN</td>\n",
       "      <td>NaN</td>\n",
       "      <td>...</td>\n",
       "      <td>NaN</td>\n",
       "      <td>NaN</td>\n",
       "      <td>NaN</td>\n",
       "      <td>NaN</td>\n",
       "      <td>NaN</td>\n",
       "      <td>2017-01-01 02:15:00</td>\n",
       "      <td>2017-01-01</td>\n",
       "      <td>NaN</td>\n",
       "      <td>2017-01-01-01</td>\n",
       "      <td>4.049894</td>\n",
       "    </tr>\n",
       "    <tr>\n",
       "      <td>1</td>\n",
       "      <td>51010101001</td>\n",
       "      <td>2017-01-01 02:00:00</td>\n",
       "      <td>NaN</td>\n",
       "      <td>NaN</td>\n",
       "      <td>NaN</td>\n",
       "      <td>NaN</td>\n",
       "      <td>NaN</td>\n",
       "      <td>NaN</td>\n",
       "      <td>NaN</td>\n",
       "      <td>NaN</td>\n",
       "      <td>...</td>\n",
       "      <td>NaN</td>\n",
       "      <td>NaN</td>\n",
       "      <td>NaN</td>\n",
       "      <td>NaN</td>\n",
       "      <td>NaN</td>\n",
       "      <td>2017-01-01 03:15:00</td>\n",
       "      <td>2017-01-01</td>\n",
       "      <td>NaN</td>\n",
       "      <td>2017-01-01-02</td>\n",
       "      <td>4.049894</td>\n",
       "    </tr>\n",
       "    <tr>\n",
       "      <td>2</td>\n",
       "      <td>51010101001</td>\n",
       "      <td>2017-01-01 03:00:00</td>\n",
       "      <td>NaN</td>\n",
       "      <td>NaN</td>\n",
       "      <td>NaN</td>\n",
       "      <td>NaN</td>\n",
       "      <td>NaN</td>\n",
       "      <td>NaN</td>\n",
       "      <td>NaN</td>\n",
       "      <td>NaN</td>\n",
       "      <td>...</td>\n",
       "      <td>NaN</td>\n",
       "      <td>NaN</td>\n",
       "      <td>NaN</td>\n",
       "      <td>NaN</td>\n",
       "      <td>NaN</td>\n",
       "      <td>2017-01-01 04:15:00</td>\n",
       "      <td>2017-01-01</td>\n",
       "      <td>NaN</td>\n",
       "      <td>2017-01-01-03</td>\n",
       "      <td>4.049894</td>\n",
       "    </tr>\n",
       "    <tr>\n",
       "      <td>3</td>\n",
       "      <td>51010101001</td>\n",
       "      <td>2017-01-01 04:00:00</td>\n",
       "      <td>22.0</td>\n",
       "      <td>8.0</td>\n",
       "      <td>82.0</td>\n",
       "      <td>41.0</td>\n",
       "      <td>355.0</td>\n",
       "      <td>208.0</td>\n",
       "      <td>1.234</td>\n",
       "      <td>13.0</td>\n",
       "      <td>...</td>\n",
       "      <td>1.330003</td>\n",
       "      <td>1.0</td>\n",
       "      <td>5.0</td>\n",
       "      <td>2.0</td>\n",
       "      <td>2.0</td>\n",
       "      <td>2017-01-01 05:15:00</td>\n",
       "      <td>2017-01-01</td>\n",
       "      <td>5.379897</td>\n",
       "      <td>2017-01-01-04</td>\n",
       "      <td>4.049894</td>\n",
       "    </tr>\n",
       "    <tr>\n",
       "      <td>4</td>\n",
       "      <td>51010101001</td>\n",
       "      <td>2017-01-01 05:00:00</td>\n",
       "      <td>19.0</td>\n",
       "      <td>7.0</td>\n",
       "      <td>48.0</td>\n",
       "      <td>24.0</td>\n",
       "      <td>283.0</td>\n",
       "      <td>167.0</td>\n",
       "      <td>0.868</td>\n",
       "      <td>9.0</td>\n",
       "      <td>...</td>\n",
       "      <td>1.165042</td>\n",
       "      <td>1.0</td>\n",
       "      <td>4.0</td>\n",
       "      <td>1.0</td>\n",
       "      <td>1.0</td>\n",
       "      <td>2017-01-01 06:15:00</td>\n",
       "      <td>2017-01-01</td>\n",
       "      <td>5.214936</td>\n",
       "      <td>2017-01-01-05</td>\n",
       "      <td>4.049894</td>\n",
       "    </tr>\n",
       "  </tbody>\n",
       "</table>\n",
       "<p>5 rows × 24 columns</p>\n",
       "</div>"
      ],
      "text/plain": [
       "           MN_          DATA_TIME_  C_SO2_1H  I_SO2_1H  C_NO2_1H  I_NO2_1H  \\\n",
       "0  51010101001 2017-01-01 01:00:00       NaN       NaN       NaN       NaN   \n",
       "1  51010101001 2017-01-01 02:00:00       NaN       NaN       NaN       NaN   \n",
       "2  51010101001 2017-01-01 03:00:00       NaN       NaN       NaN       NaN   \n",
       "3  51010101001 2017-01-01 04:00:00      22.0       8.0      82.0      41.0   \n",
       "4  51010101001 2017-01-01 05:00:00      19.0       7.0      48.0      24.0   \n",
       "\n",
       "   C_PM10_1H  I_PM10_24H_MV  C_CO1_1H  I_CO1_1H  ...      AQI_  \\\n",
       "0        NaN            NaN       NaN       NaN  ...       NaN   \n",
       "1        NaN            NaN       NaN       NaN  ...       NaN   \n",
       "2        NaN            NaN       NaN       NaN  ...       NaN   \n",
       "3      355.0          208.0     1.234      13.0  ...  1.330003   \n",
       "4      283.0          167.0     0.868       9.0  ...  1.165042   \n",
       "\n",
       "   PRIMARY_POLLUTANTS_  LEVEL_  CATEGORY_  COLOR_        UPDATE_TIME_  \\\n",
       "0                  NaN     NaN        NaN     NaN 2017-01-01 02:15:00   \n",
       "1                  NaN     NaN        NaN     NaN 2017-01-01 03:15:00   \n",
       "2                  NaN     NaN        NaN     NaN 2017-01-01 04:15:00   \n",
       "3                  1.0     5.0        2.0     2.0 2017-01-01 05:15:00   \n",
       "4                  1.0     4.0        1.0     1.0 2017-01-01 06:15:00   \n",
       "\n",
       "        date     AQI_1      date_hour date_trend  \n",
       "0 2017-01-01       NaN  2017-01-01-01   4.049894  \n",
       "1 2017-01-01       NaN  2017-01-01-02   4.049894  \n",
       "2 2017-01-01       NaN  2017-01-01-03   4.049894  \n",
       "3 2017-01-01  5.379897  2017-01-01-04   4.049894  \n",
       "4 2017-01-01  5.214936  2017-01-01-05   4.049894  \n",
       "\n",
       "[5 rows x 24 columns]"
      ]
     },
     "execution_count": 144,
     "metadata": {},
     "output_type": "execute_result"
    }
   ],
   "source": [
    "df = df.drop(['date_day', 'MN_'],axis=1)\n",
    "df = df.reset_index()\n",
    "df = df.drop('level_1',axis=1)\n",
    "df['AQI_'] = df['AQI_'] - df['date_trend']\n",
    "df.head()"
   ]
  },
  {
   "cell_type": "code",
   "execution_count": 157,
   "metadata": {},
   "outputs": [
    {
     "data": {
      "text/plain": [
       "12863"
      ]
     },
     "execution_count": 157,
     "metadata": {},
     "output_type": "execute_result"
    }
   ],
   "source": [
    "df['AQI_'].isnull().sum()"
   ]
  },
  {
   "cell_type": "code",
   "execution_count": 148,
   "metadata": {},
   "outputs": [],
   "source": [
    "temp = df.groupby('date_hour').mean().reset_index()"
   ]
  },
  {
   "cell_type": "code",
   "execution_count": 161,
   "metadata": {},
   "outputs": [
    {
     "data": {
      "text/plain": [
       "array([nan, nan, nan, ..., nan, nan, nan])"
      ]
     },
     "execution_count": 161,
     "metadata": {},
     "output_type": "execute_result"
    }
   ],
   "source": [
    "spl = UnivariateSpline(temp.index, temp['AQI_'].values, s=0.5)\n",
    "spl(temp.index)"
   ]
  },
  {
   "cell_type": "code",
   "execution_count": 120,
   "metadata": {},
   "outputs": [],
   "source": [
    "def hour_trend(group):\n",
    "    tmp = group.groupby('date_hour').mean().reset_index()\n",
    "    #s的值越小，对数据拟合越好，但是会过拟合的危险；\n",
    "    spl = UnivariateSpline(tmp.index, tmp['AQI_1'].values, s=0.5)\n",
    "    tmp['hour_trend'] = spl(tmp.index)\n",
    "    group = pd.merge(group, tmp[['hour_trend', 'date_hour']], on='date_hour', how='left')\n",
    "\n",
    "    return group"
   ]
  },
  {
   "cell_type": "code",
   "execution_count": 121,
   "metadata": {},
   "outputs": [],
   "source": [
    "df = df.groupby('MN_').apply(hour_trend)"
   ]
  },
  {
   "cell_type": "code",
   "execution_count": 128,
   "metadata": {},
   "outputs": [
    {
     "data": {
      "text/html": [
       "<div>\n",
       "<style scoped>\n",
       "    .dataframe tbody tr th:only-of-type {\n",
       "        vertical-align: middle;\n",
       "    }\n",
       "\n",
       "    .dataframe tbody tr th {\n",
       "        vertical-align: top;\n",
       "    }\n",
       "\n",
       "    .dataframe thead th {\n",
       "        text-align: right;\n",
       "    }\n",
       "</style>\n",
       "<table border=\"1\" class=\"dataframe\">\n",
       "  <thead>\n",
       "    <tr style=\"text-align: right;\">\n",
       "      <th></th>\n",
       "      <th>MN_</th>\n",
       "      <th>DATA_TIME_</th>\n",
       "      <th>C_SO2_1H</th>\n",
       "      <th>I_SO2_1H</th>\n",
       "      <th>C_NO2_1H</th>\n",
       "      <th>I_NO2_1H</th>\n",
       "      <th>C_PM10_1H</th>\n",
       "      <th>I_PM10_24H_MV</th>\n",
       "      <th>C_CO1_1H</th>\n",
       "      <th>I_CO1_1H</th>\n",
       "      <th>...</th>\n",
       "      <th>AQI_1</th>\n",
       "      <th>date_trend</th>\n",
       "      <th>hour_trend</th>\n",
       "      <th>hour</th>\n",
       "      <th>day</th>\n",
       "      <th>week_day</th>\n",
       "      <th>month</th>\n",
       "      <th>jidu</th>\n",
       "      <th>ri_huafen</th>\n",
       "      <th>week_day_fenlei</th>\n",
       "    </tr>\n",
       "  </thead>\n",
       "  <tbody>\n",
       "    <tr>\n",
       "      <td>0</td>\n",
       "      <td>51010101001</td>\n",
       "      <td>2017-01-01 01:00:00</td>\n",
       "      <td>NaN</td>\n",
       "      <td>NaN</td>\n",
       "      <td>NaN</td>\n",
       "      <td>NaN</td>\n",
       "      <td>NaN</td>\n",
       "      <td>NaN</td>\n",
       "      <td>NaN</td>\n",
       "      <td>NaN</td>\n",
       "      <td>...</td>\n",
       "      <td>NaN</td>\n",
       "      <td>4.049894</td>\n",
       "      <td>NaN</td>\n",
       "      <td>1</td>\n",
       "      <td>1</td>\n",
       "      <td>7</td>\n",
       "      <td>1</td>\n",
       "      <td>1.0</td>\n",
       "      <td>1.0</td>\n",
       "      <td>NaN</td>\n",
       "    </tr>\n",
       "    <tr>\n",
       "      <td>1</td>\n",
       "      <td>51010101001</td>\n",
       "      <td>2017-01-01 02:00:00</td>\n",
       "      <td>NaN</td>\n",
       "      <td>NaN</td>\n",
       "      <td>NaN</td>\n",
       "      <td>NaN</td>\n",
       "      <td>NaN</td>\n",
       "      <td>NaN</td>\n",
       "      <td>NaN</td>\n",
       "      <td>NaN</td>\n",
       "      <td>...</td>\n",
       "      <td>NaN</td>\n",
       "      <td>4.049894</td>\n",
       "      <td>NaN</td>\n",
       "      <td>2</td>\n",
       "      <td>1</td>\n",
       "      <td>7</td>\n",
       "      <td>1</td>\n",
       "      <td>1.0</td>\n",
       "      <td>1.0</td>\n",
       "      <td>NaN</td>\n",
       "    </tr>\n",
       "    <tr>\n",
       "      <td>2</td>\n",
       "      <td>51010101001</td>\n",
       "      <td>2017-01-01 03:00:00</td>\n",
       "      <td>NaN</td>\n",
       "      <td>NaN</td>\n",
       "      <td>NaN</td>\n",
       "      <td>NaN</td>\n",
       "      <td>NaN</td>\n",
       "      <td>NaN</td>\n",
       "      <td>NaN</td>\n",
       "      <td>NaN</td>\n",
       "      <td>...</td>\n",
       "      <td>NaN</td>\n",
       "      <td>4.049894</td>\n",
       "      <td>NaN</td>\n",
       "      <td>3</td>\n",
       "      <td>1</td>\n",
       "      <td>7</td>\n",
       "      <td>1</td>\n",
       "      <td>1.0</td>\n",
       "      <td>1.0</td>\n",
       "      <td>NaN</td>\n",
       "    </tr>\n",
       "    <tr>\n",
       "      <td>3</td>\n",
       "      <td>51010101001</td>\n",
       "      <td>2017-01-01 04:00:00</td>\n",
       "      <td>22.0</td>\n",
       "      <td>8.0</td>\n",
       "      <td>82.0</td>\n",
       "      <td>41.0</td>\n",
       "      <td>355.0</td>\n",
       "      <td>208.0</td>\n",
       "      <td>1.234</td>\n",
       "      <td>13.0</td>\n",
       "      <td>...</td>\n",
       "      <td>5.379897</td>\n",
       "      <td>4.049894</td>\n",
       "      <td>NaN</td>\n",
       "      <td>4</td>\n",
       "      <td>1</td>\n",
       "      <td>7</td>\n",
       "      <td>1</td>\n",
       "      <td>1.0</td>\n",
       "      <td>1.0</td>\n",
       "      <td>NaN</td>\n",
       "    </tr>\n",
       "    <tr>\n",
       "      <td>4</td>\n",
       "      <td>51010101001</td>\n",
       "      <td>2017-01-01 05:00:00</td>\n",
       "      <td>19.0</td>\n",
       "      <td>7.0</td>\n",
       "      <td>48.0</td>\n",
       "      <td>24.0</td>\n",
       "      <td>283.0</td>\n",
       "      <td>167.0</td>\n",
       "      <td>0.868</td>\n",
       "      <td>9.0</td>\n",
       "      <td>...</td>\n",
       "      <td>5.214936</td>\n",
       "      <td>4.049894</td>\n",
       "      <td>NaN</td>\n",
       "      <td>5</td>\n",
       "      <td>1</td>\n",
       "      <td>7</td>\n",
       "      <td>1</td>\n",
       "      <td>1.0</td>\n",
       "      <td>1.0</td>\n",
       "      <td>NaN</td>\n",
       "    </tr>\n",
       "  </tbody>\n",
       "</table>\n",
       "<p>5 rows × 31 columns</p>\n",
       "</div>"
      ],
      "text/plain": [
       "           MN_          DATA_TIME_  C_SO2_1H  I_SO2_1H  C_NO2_1H  I_NO2_1H  \\\n",
       "0  51010101001 2017-01-01 01:00:00       NaN       NaN       NaN       NaN   \n",
       "1  51010101001 2017-01-01 02:00:00       NaN       NaN       NaN       NaN   \n",
       "2  51010101001 2017-01-01 03:00:00       NaN       NaN       NaN       NaN   \n",
       "3  51010101001 2017-01-01 04:00:00      22.0       8.0      82.0      41.0   \n",
       "4  51010101001 2017-01-01 05:00:00      19.0       7.0      48.0      24.0   \n",
       "\n",
       "   C_PM10_1H  I_PM10_24H_MV  C_CO1_1H  I_CO1_1H  ...     AQI_1  date_trend  \\\n",
       "0        NaN            NaN       NaN       NaN  ...       NaN    4.049894   \n",
       "1        NaN            NaN       NaN       NaN  ...       NaN    4.049894   \n",
       "2        NaN            NaN       NaN       NaN  ...       NaN    4.049894   \n",
       "3      355.0          208.0     1.234      13.0  ...  5.379897    4.049894   \n",
       "4      283.0          167.0     0.868       9.0  ...  5.214936    4.049894   \n",
       "\n",
       "   hour_trend  hour  day  week_day  month  jidu  ri_huafen week_day_fenlei  \n",
       "0         NaN     1    1         7      1   1.0        1.0             NaN  \n",
       "1         NaN     2    1         7      1   1.0        1.0             NaN  \n",
       "2         NaN     3    1         7      1   1.0        1.0             NaN  \n",
       "3         NaN     4    1         7      1   1.0        1.0             NaN  \n",
       "4         NaN     5    1         7      1   1.0        1.0             NaN  \n",
       "\n",
       "[5 rows x 31 columns]"
      ]
     },
     "execution_count": 128,
     "metadata": {},
     "output_type": "execute_result"
    }
   ],
   "source": [
    "df.head()"
   ]
  },
  {
   "cell_type": "code",
   "execution_count": 123,
   "metadata": {},
   "outputs": [],
   "source": [
    "df = df.drop(['date_hour', 'MN_'], axis=1)\n",
    "df = df.reset_index()\n",
    "df = df.drop('level_1', axis=1)\n",
    "df['AQI_'] = df['AQI_'] - df['hour_trend']"
   ]
  },
  {
   "cell_type": "code",
   "execution_count": 124,
   "metadata": {},
   "outputs": [],
   "source": [
    "df['hour'] = df['DATA_TIME_'].dt.hour\n",
    "df['day'] = df['DATA_TIME_'].dt.day\n",
    "df['week_day'] = df['DATA_TIME_'].map(lambda x: x.weekday() + 1)\n",
    "df['month'] = df['DATA_TIME_'].dt.month"
   ]
  },
  {
   "cell_type": "code",
   "execution_count": 125,
   "metadata": {},
   "outputs": [],
   "source": [
    "#划分季度\n",
    "df.loc[df.month.isin([1,2,3]),'jidu']=1\n",
    "df.loc[df.month.isin([4,5,6]),'jidu']=2\n",
    "df.loc[df.month.isin([7,8,9]),'jidu']=3\n",
    "df.loc[df.month.isin([10,11,12]),'jidu']=4"
   ]
  },
  {
   "cell_type": "code",
   "execution_count": 126,
   "metadata": {},
   "outputs": [],
   "source": [
    "#划分上旬中旬下旬\n",
    "df.loc[df.day.isin([i for i in range(1,11)]),'ri_huafen']=1\n",
    "df.loc[df.day.isin([i for i in range(11,21)]),'ri_huafen']=2\n",
    "df.loc[df.day.isin([i for i in range(21,32)]),'ri_huafen']=3"
   ]
  },
  {
   "cell_type": "code",
   "execution_count": 127,
   "metadata": {},
   "outputs": [],
   "source": [
    "#划分一周\n",
    "df.loc[df.week_day.isin([i for i in range(1,4)]),'week_day_fenlei']=1\n",
    "df.loc[df.week_day.isin([i for i in range(4,6)]),'week_day_fenlei']=2\n",
    "df.loc[df.week_day.isin([i for i in range(6,7)]),'week_day_fenlei']=3"
   ]
  },
  {
   "cell_type": "markdown",
   "metadata": {},
   "source": [
    "标准化"
   ]
  },
  {
   "cell_type": "code",
   "execution_count": 129,
   "metadata": {},
   "outputs": [],
   "source": [
    "def std(group):\n",
    "    group['AQI_std'] = np.std(group['AQI_'])\n",
    "    return group"
   ]
  },
  {
   "cell_type": "code",
   "execution_count": 130,
   "metadata": {},
   "outputs": [
    {
     "data": {
      "text/html": [
       "<div>\n",
       "<style scoped>\n",
       "    .dataframe tbody tr th:only-of-type {\n",
       "        vertical-align: middle;\n",
       "    }\n",
       "\n",
       "    .dataframe tbody tr th {\n",
       "        vertical-align: top;\n",
       "    }\n",
       "\n",
       "    .dataframe thead th {\n",
       "        text-align: right;\n",
       "    }\n",
       "</style>\n",
       "<table border=\"1\" class=\"dataframe\">\n",
       "  <thead>\n",
       "    <tr style=\"text-align: right;\">\n",
       "      <th></th>\n",
       "      <th>MN_</th>\n",
       "      <th>DATA_TIME_</th>\n",
       "      <th>C_SO2_1H</th>\n",
       "      <th>I_SO2_1H</th>\n",
       "      <th>C_NO2_1H</th>\n",
       "      <th>I_NO2_1H</th>\n",
       "      <th>C_PM10_1H</th>\n",
       "      <th>I_PM10_24H_MV</th>\n",
       "      <th>C_CO1_1H</th>\n",
       "      <th>I_CO1_1H</th>\n",
       "      <th>...</th>\n",
       "      <th>date_trend</th>\n",
       "      <th>hour_trend</th>\n",
       "      <th>hour</th>\n",
       "      <th>day</th>\n",
       "      <th>week_day</th>\n",
       "      <th>month</th>\n",
       "      <th>jidu</th>\n",
       "      <th>ri_huafen</th>\n",
       "      <th>week_day_fenlei</th>\n",
       "      <th>AQI_std</th>\n",
       "    </tr>\n",
       "  </thead>\n",
       "  <tbody>\n",
       "    <tr>\n",
       "      <td>0</td>\n",
       "      <td>51010101001</td>\n",
       "      <td>2017-01-01 01:00:00</td>\n",
       "      <td>NaN</td>\n",
       "      <td>NaN</td>\n",
       "      <td>NaN</td>\n",
       "      <td>NaN</td>\n",
       "      <td>NaN</td>\n",
       "      <td>NaN</td>\n",
       "      <td>NaN</td>\n",
       "      <td>NaN</td>\n",
       "      <td>...</td>\n",
       "      <td>4.049894</td>\n",
       "      <td>NaN</td>\n",
       "      <td>1</td>\n",
       "      <td>1</td>\n",
       "      <td>7</td>\n",
       "      <td>1</td>\n",
       "      <td>1.0</td>\n",
       "      <td>1.0</td>\n",
       "      <td>NaN</td>\n",
       "      <td>NaN</td>\n",
       "    </tr>\n",
       "    <tr>\n",
       "      <td>1</td>\n",
       "      <td>51010101001</td>\n",
       "      <td>2017-01-01 02:00:00</td>\n",
       "      <td>NaN</td>\n",
       "      <td>NaN</td>\n",
       "      <td>NaN</td>\n",
       "      <td>NaN</td>\n",
       "      <td>NaN</td>\n",
       "      <td>NaN</td>\n",
       "      <td>NaN</td>\n",
       "      <td>NaN</td>\n",
       "      <td>...</td>\n",
       "      <td>4.049894</td>\n",
       "      <td>NaN</td>\n",
       "      <td>2</td>\n",
       "      <td>1</td>\n",
       "      <td>7</td>\n",
       "      <td>1</td>\n",
       "      <td>1.0</td>\n",
       "      <td>1.0</td>\n",
       "      <td>NaN</td>\n",
       "      <td>NaN</td>\n",
       "    </tr>\n",
       "    <tr>\n",
       "      <td>2</td>\n",
       "      <td>51010101001</td>\n",
       "      <td>2017-01-01 03:00:00</td>\n",
       "      <td>NaN</td>\n",
       "      <td>NaN</td>\n",
       "      <td>NaN</td>\n",
       "      <td>NaN</td>\n",
       "      <td>NaN</td>\n",
       "      <td>NaN</td>\n",
       "      <td>NaN</td>\n",
       "      <td>NaN</td>\n",
       "      <td>...</td>\n",
       "      <td>4.049894</td>\n",
       "      <td>NaN</td>\n",
       "      <td>3</td>\n",
       "      <td>1</td>\n",
       "      <td>7</td>\n",
       "      <td>1</td>\n",
       "      <td>1.0</td>\n",
       "      <td>1.0</td>\n",
       "      <td>NaN</td>\n",
       "      <td>NaN</td>\n",
       "    </tr>\n",
       "    <tr>\n",
       "      <td>3</td>\n",
       "      <td>51010101001</td>\n",
       "      <td>2017-01-01 04:00:00</td>\n",
       "      <td>22.0</td>\n",
       "      <td>8.0</td>\n",
       "      <td>82.0</td>\n",
       "      <td>41.0</td>\n",
       "      <td>355.0</td>\n",
       "      <td>208.0</td>\n",
       "      <td>1.234</td>\n",
       "      <td>13.0</td>\n",
       "      <td>...</td>\n",
       "      <td>4.049894</td>\n",
       "      <td>NaN</td>\n",
       "      <td>4</td>\n",
       "      <td>1</td>\n",
       "      <td>7</td>\n",
       "      <td>1</td>\n",
       "      <td>1.0</td>\n",
       "      <td>1.0</td>\n",
       "      <td>NaN</td>\n",
       "      <td>NaN</td>\n",
       "    </tr>\n",
       "    <tr>\n",
       "      <td>4</td>\n",
       "      <td>51010101001</td>\n",
       "      <td>2017-01-01 05:00:00</td>\n",
       "      <td>19.0</td>\n",
       "      <td>7.0</td>\n",
       "      <td>48.0</td>\n",
       "      <td>24.0</td>\n",
       "      <td>283.0</td>\n",
       "      <td>167.0</td>\n",
       "      <td>0.868</td>\n",
       "      <td>9.0</td>\n",
       "      <td>...</td>\n",
       "      <td>4.049894</td>\n",
       "      <td>NaN</td>\n",
       "      <td>5</td>\n",
       "      <td>1</td>\n",
       "      <td>7</td>\n",
       "      <td>1</td>\n",
       "      <td>1.0</td>\n",
       "      <td>1.0</td>\n",
       "      <td>NaN</td>\n",
       "      <td>NaN</td>\n",
       "    </tr>\n",
       "  </tbody>\n",
       "</table>\n",
       "<p>5 rows × 32 columns</p>\n",
       "</div>"
      ],
      "text/plain": [
       "           MN_          DATA_TIME_  C_SO2_1H  I_SO2_1H  C_NO2_1H  I_NO2_1H  \\\n",
       "0  51010101001 2017-01-01 01:00:00       NaN       NaN       NaN       NaN   \n",
       "1  51010101001 2017-01-01 02:00:00       NaN       NaN       NaN       NaN   \n",
       "2  51010101001 2017-01-01 03:00:00       NaN       NaN       NaN       NaN   \n",
       "3  51010101001 2017-01-01 04:00:00      22.0       8.0      82.0      41.0   \n",
       "4  51010101001 2017-01-01 05:00:00      19.0       7.0      48.0      24.0   \n",
       "\n",
       "   C_PM10_1H  I_PM10_24H_MV  C_CO1_1H  I_CO1_1H  ...  date_trend  hour_trend  \\\n",
       "0        NaN            NaN       NaN       NaN  ...    4.049894         NaN   \n",
       "1        NaN            NaN       NaN       NaN  ...    4.049894         NaN   \n",
       "2        NaN            NaN       NaN       NaN  ...    4.049894         NaN   \n",
       "3      355.0          208.0     1.234      13.0  ...    4.049894         NaN   \n",
       "4      283.0          167.0     0.868       9.0  ...    4.049894         NaN   \n",
       "\n",
       "   hour  day  week_day  month  jidu  ri_huafen  week_day_fenlei AQI_std  \n",
       "0     1    1         7      1   1.0        1.0              NaN     NaN  \n",
       "1     2    1         7      1   1.0        1.0              NaN     NaN  \n",
       "2     3    1         7      1   1.0        1.0              NaN     NaN  \n",
       "3     4    1         7      1   1.0        1.0              NaN     NaN  \n",
       "4     5    1         7      1   1.0        1.0              NaN     NaN  \n",
       "\n",
       "[5 rows x 32 columns]"
      ]
     },
     "execution_count": 130,
     "metadata": {},
     "output_type": "execute_result"
    }
   ],
   "source": [
    "df = df.groupby('MN_').apply(std)\n",
    "df['AQI_'] = df['AQI_'] / df['AQI_std']\n",
    "df.head()"
   ]
  },
  {
   "cell_type": "markdown",
   "metadata": {},
   "source": [
    "缺失时间AQI预测"
   ]
  },
  {
   "cell_type": "code",
   "execution_count": 131,
   "metadata": {},
   "outputs": [],
   "source": [
    "params = {\n",
    "        'learning_rate': 0.2,\n",
    "        'n_estimators': 30,\n",
    "        'subsample': 0.8,\n",
    "        'colsample_bytree': 0.6,\n",
    "        'max_depth': 10,\n",
    "        'min_child_weight': 1,\n",
    "        'reg_alpha': 0,\n",
    "        'gamma': 0\n",
    "    }"
   ]
  },
  {
   "cell_type": "code",
   "execution_count": 132,
   "metadata": {
    "collapsed": true
   },
   "outputs": [
    {
     "ename": "NameError",
     "evalue": "name 'cate_features' is not defined",
     "output_type": "error",
     "traceback": [
      "\u001b[1;31m---------------------------------------------------------------------------\u001b[0m",
      "\u001b[1;31mNameError\u001b[0m                                 Traceback (most recent call last)",
      "\u001b[1;32m<ipython-input-132-ff35ef83b805>\u001b[0m in \u001b[0;36m<module>\u001b[1;34m\u001b[0m\n\u001b[1;32m----> 1\u001b[1;33m \u001b[0mdf\u001b[0m \u001b[1;33m=\u001b[0m \u001b[0mpd\u001b[0m\u001b[1;33m.\u001b[0m\u001b[0mget_dummies\u001b[0m\u001b[1;33m(\u001b[0m\u001b[0mdf\u001b[0m\u001b[1;33m,\u001b[0m \u001b[0mcolumns\u001b[0m\u001b[1;33m=\u001b[0m\u001b[0mcate_features\u001b[0m\u001b[1;33m)\u001b[0m\u001b[1;33m\u001b[0m\u001b[1;33m\u001b[0m\u001b[0m\n\u001b[0m\u001b[0;32m      2\u001b[0m \u001b[0mdf\u001b[0m\u001b[1;33m.\u001b[0m\u001b[0mhead\u001b[0m\u001b[1;33m(\u001b[0m\u001b[1;33m)\u001b[0m\u001b[1;33m\u001b[0m\u001b[1;33m\u001b[0m\u001b[0m\n",
      "\u001b[1;31mNameError\u001b[0m: name 'cate_features' is not defined"
     ]
    }
   ],
   "source": [
    "df = pd.get_dummies(df, columns=cate_features)\n",
    "df.head()"
   ]
  },
  {
   "cell_type": "code",
   "execution_count": null,
   "metadata": {},
   "outputs": [],
   "source": [
    "feature = df.columns.values.tolist()\n",
    "train_feature = [x for x in feature if\n",
    "                 x not in ['MN_', 'DATA_TIME_', 'AQI_', 'date', 'AQI_1', 'hour_trend',\n",
    "                           'AQI_std', 'date_trend']]\n",
    "\n",
    "train_df = df.loc[~df['AQI_'].isnull()]\n",
    "test_df = df.loc[df['AQI_'].isnull()].copy()\n",
    "\n",
    "print (train_feature)"
   ]
  },
  {
   "cell_type": "code",
   "execution_count": null,
   "metadata": {},
   "outputs": [],
   "source": [
    "train_df.shape"
   ]
  },
  {
   "cell_type": "code",
   "execution_count": null,
   "metadata": {},
   "outputs": [],
   "source": [
    "X = train_df[train_feature].values\n",
    "y = train_df['AQI_'].values\n",
    "\n",
    "X_train, X_test, y_train, y_test = train_test_split(X, y, test_size=0.1, random_state=0)\n",
    "\n",
    "eval_set = [(X_test, y_test)]"
   ]
  },
  {
   "cell_type": "code",
   "execution_count": null,
   "metadata": {},
   "outputs": [],
   "source": [
    "regressor = xgb.XGBRegressor(learning_rate=params['learning_rate'], n_estimators=params['n_estimators'],\n",
    "                             booster='gbtree', objective='reg:linear', n_jobs=-1, subsample=params['subsample'],\n",
    "                             colsample_bytree=params['colsample_bytree'], random_state=0,\n",
    "                             max_depth=params['max_depth'], gamma=params['gamma'],\n",
    "                             min_child_weight=params['min_child_weight'], reg_alpha=params['reg_alpha'])\n",
    "regressor.fit(X_train, y_train, verbose=True, early_stopping_rounds=10, eval_set=eval_set)\n",
    "print (test_df[train_feature].head())\n",
    "print (test_df[train_feature].info())\n",
    "test_df['predict'] = regressor.predict(test_df[train_feature].values)"
   ]
  },
  {
   "cell_type": "code",
   "execution_count": null,
   "metadata": {},
   "outputs": [],
   "source": [
    "df = pd.merge(df, test_df[['MN_', 'DATA_TIME_', 'predict']], on=['MN_', 'DATA_TIME_'],\n",
    "                  how='left')\n",
    "feature_vis(regressor,train_feature)"
   ]
  },
  {
   "cell_type": "markdown",
   "metadata": {},
   "source": [
    "还原预测结果"
   ]
  },
  {
   "cell_type": "code",
   "execution_count": null,
   "metadata": {},
   "outputs": [],
   "source": [
    "df['imputation1'] = df['AQI_'].isnull()\n",
    "df['AQI_'] = df['AQI_'].fillna(value=df['predict'])\n",
    "df['AQI_'] = (df['AQI_'] * np.array(df['AQI_std']) + np.array(df['hour_trend'])\n",
    "                     + np.array(df['date_trend']))"
   ]
  },
  {
   "cell_type": "code",
   "execution_count": null,
   "metadata": {},
   "outputs": [],
   "source": [
    "print (df[['AQI_', 'predict', 'AQI_1']].describe())\n",
    "df[['MN_', 'date', 'DATA_TIME_', 'AQI_', 'imputation1']].to_csv('com_training.csv', header=True,\n",
    "                                                                                    index=None,\n",
    "                                                                                    sep=';', mode='w')"
   ]
  },
  {
   "cell_type": "code",
   "execution_count": null,
   "metadata": {},
   "outputs": [],
   "source": [
    "df = pd.read_csv('com_training.csv',index_col=0)"
   ]
  },
  {
   "cell_type": "code",
   "execution_count": null,
   "metadata": {},
   "outputs": [],
   "source": [
    "df1 = df.copy()"
   ]
  },
  {
   "cell_type": "code",
   "execution_count": null,
   "metadata": {},
   "outputs": [],
   "source": [
    "df1.head()"
   ]
  },
  {
   "cell_type": "markdown",
   "metadata": {},
   "source": [
    "平移1格"
   ]
  },
  {
   "cell_type": "code",
   "execution_count": null,
   "metadata": {},
   "outputs": [],
   "source": [
    "df1['DATA_TIME_'] = df1['DATA_TIME_'] + pd.DateOffset(hours=1*2)"
   ]
  },
  {
   "cell_type": "code",
   "execution_count": null,
   "metadata": {},
   "outputs": [],
   "source": [
    "df1.head()"
   ]
  },
  {
   "cell_type": "code",
   "execution_count": null,
   "metadata": {},
   "outputs": [],
   "source": [
    "df1 = df1.rename(columns={'AQI_': 'lagging' + str(5)})"
   ]
  },
  {
   "cell_type": "code",
   "execution_count": null,
   "metadata": {},
   "outputs": [],
   "source": [
    "df2 = pd.merge(df, df1[['MN_', 'DATA_TIME_', 'lagging' + str(5)]], on=['MN_', 'DATA_TIME_'],how='left')"
   ]
  },
  {
   "cell_type": "code",
   "execution_count": null,
   "metadata": {},
   "outputs": [],
   "source": [
    "df2.head(10)"
   ]
  },
  {
   "cell_type": "code",
   "execution_count": null,
   "metadata": {},
   "outputs": [],
   "source": [
    "def create_lagging(df, df_original, i):\n",
    "    df1 = df_original.copy()\n",
    "    df1['DATA_TIME_'] = df1['DATA_TIME_'] + pd.DateOffset(minutes=i * 2)\n",
    "    df1 = df1.rename(columns={'AQI_': 'lagging' + str(i)})\n",
    "    df2 = pd.merge(df, df1[['MN_', 'DATA_TIME_', 'lagging' + str(i)]],\n",
    "                   on=['MN_', 'DATA_TIME_'],\n",
    "                   how='left')\n",
    "    return df2"
   ]
  },
  {
   "cell_type": "code",
   "execution_count": null,
   "metadata": {},
   "outputs": [],
   "source": [
    "df1 = create_lagging(df, df, 1)"
   ]
  },
  {
   "cell_type": "markdown",
   "metadata": {},
   "source": [
    "构建时间序列特征"
   ]
  },
  {
   "cell_type": "code",
   "execution_count": null,
   "metadata": {},
   "outputs": [],
   "source": [
    "lagging = 5\n",
    "for i in range(2, lagging + 1):\n",
    "    df1 = create_lagging(df1, df, i)"
   ]
  },
  {
   "cell_type": "code",
   "execution_count": null,
   "metadata": {},
   "outputs": [],
   "source": [
    "df1.head(10)"
   ]
  },
  {
   "cell_type": "code",
   "execution_count": null,
   "metadata": {},
   "outputs": [],
   "source": []
  },
  {
   "cell_type": "code",
   "execution_count": null,
   "metadata": {},
   "outputs": [],
   "source": []
  },
  {
   "cell_type": "code",
   "execution_count": null,
   "metadata": {},
   "outputs": [],
   "source": []
  },
  {
   "cell_type": "code",
   "execution_count": null,
   "metadata": {},
   "outputs": [],
   "source": []
  }
 ],
 "metadata": {
  "kernelspec": {
   "display_name": "Python 3",
   "language": "python",
   "name": "python3"
  },
  "language_info": {
   "codemirror_mode": {
    "name": "ipython",
    "version": 3
   },
   "file_extension": ".py",
   "mimetype": "text/x-python",
   "name": "python",
   "nbconvert_exporter": "python",
   "pygments_lexer": "ipython3",
   "version": "3.7.3"
  }
 },
 "nbformat": 4,
 "nbformat_minor": 2
}
